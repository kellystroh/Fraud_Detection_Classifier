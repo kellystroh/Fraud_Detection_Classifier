{
 "cells": [
  {
   "cell_type": "code",
   "execution_count": 1,
   "metadata": {},
   "outputs": [],
   "source": [
    "import pandas as pd\n",
    "import numpy as np\n",
    "import matplotlib.pyplot as plt\n",
    "from sklearn.ensemble import RandomForestClassifier\n",
    "from sklearn.metrics import confusion_matrix, roc_curve, precision_recall_curve, classification_report\n",
    "\n",
    "%matplotlib inline"
   ]
  },
  {
   "cell_type": "markdown",
   "metadata": {},
   "source": [
    "# Initial Model\n",
    "\n",
    "## In this notebook, we'll walk through building and tuning an initial random forest classification model. Later, we will improve on this by incorporating additional features extracted with Natural Language Processing (NLP) techniques, as well as utilizing a Bayesian optimizer for model selection and hyperparameter tuning. This model will serve as a baseline for comparing later versions. "
   ]
  },
  {
   "cell_type": "code",
   "execution_count": 3,
   "metadata": {},
   "outputs": [],
   "source": [
    "### Start by loading the refined dataset\n",
    "\n",
    "data = pd.read_csv(\"data/clean_data.csv\", index_col=0)\n",
    "target = pd.read_csv('data/target.csv', index_col=0)"
   ]
  },
  {
   "cell_type": "code",
   "execution_count": 4,
   "metadata": {},
   "outputs": [],
   "source": [
    "### We want to remove three columns in our loaded dataset, which were included for future use in NLP notebooks. \n",
    "\n",
    "data.drop(['clean_desc', 'lem_tokens','lem_text'], axis=1, inplace=True)"
   ]
  },
  {
   "cell_type": "markdown",
   "metadata": {},
   "source": [
    "## Model Features\n",
    "\n",
    "Using the python file *process_df*, we have already cleaned up the original data, extracted new features, and removed columns that won't work with our classification model (i.e. non-categorical text fields). \n",
    "\n",
    "Below is a list of the remaining feature names. For now, you can review the meanings of the original columns in the EDA notebook, and the meaning of the engineered columns in the *feature engineering* notebook. Later, I will be adding those explanations in this notebook for easier access. \n",
    "\n",
    "#### Categorical columns in original data: \n",
    "fb_published, analytics, logo, map, member_type, header,channels, listed, payout_method, currency, country, delivery_method\n",
    "#### Engineered categorical columns:\n",
    "desc_has_link, org_has_link, email_suffix_code, country_match\n",
    "#### Continuous columns in original data: \n",
    "body_length, name_length, user_age, org_facebook, org_twitter, sale_duration\n",
    "#### Engineered continuous columns\n",
    "num_tiers, tickets_available, average_ticket_price, avg_previous_payouts, num_previous_payouts, org_desc_len, venue_name_len, org_name_len"
   ]
  },
  {
   "cell_type": "markdown",
   "metadata": {},
   "source": [
    "### One hot encoding"
   ]
  },
  {
   "cell_type": "code",
   "execution_count": 6,
   "metadata": {},
   "outputs": [],
   "source": [
    "df_one_hot = data.copy()"
   ]
  },
  {
   "cell_type": "code",
   "execution_count": 7,
   "metadata": {},
   "outputs": [],
   "source": [
    "convert_cols = ['desc_has_link', 'org_has_link', 'email_suffix_code', \n",
    "            'country_match','fb_published', 'analytics', 'logo', 'map', 'member_type', 'header',\n",
    "            'channels', 'listed', 'payout_method', 'currency', 'country', 'delivery_method']"
   ]
  },
  {
   "cell_type": "code",
   "execution_count": 8,
   "metadata": {},
   "outputs": [],
   "source": [
    "df_one_hot = pd.get_dummies(data = df_one_hot, columns = convert_cols, prefix = convert_cols)"
   ]
  },
  {
   "cell_type": "code",
   "execution_count": 9,
   "metadata": {},
   "outputs": [
    {
     "data": {
      "text/plain": [
       "(14337, 148)"
      ]
     },
     "execution_count": 9,
     "metadata": {},
     "output_type": "execute_result"
    }
   ],
   "source": [
    "df_one_hot.shape"
   ]
  },
  {
   "cell_type": "code",
   "execution_count": 10,
   "metadata": {},
   "outputs": [],
   "source": [
    "np.random.seed(33)\n",
    "shuffle = np.random.choice( np.arange(len(data)), size=len(data), replace=False)"
   ]
  },
  {
   "cell_type": "code",
   "execution_count": 11,
   "metadata": {},
   "outputs": [],
   "source": [
    "X = df_one_hot.iloc[shuffle]\n",
    "y = target.fraud[shuffle]\n",
    "\n",
    "# 14337 * 0.8 = 11469.6\n",
    "X_train, X_test = X[:11470], X[11470:]\n",
    "y_train, y_test = y[:11470], y[11470:]"
   ]
  },
  {
   "cell_type": "code",
   "execution_count": 12,
   "metadata": {},
   "outputs": [],
   "source": [
    "rfc = RandomForestClassifier(n_estimators=100, oob_score=True, random_state=47, class_weight='balanced')"
   ]
  },
  {
   "cell_type": "code",
   "execution_count": 13,
   "metadata": {},
   "outputs": [
    {
     "data": {
      "text/plain": [
       "RandomForestClassifier(bootstrap=True, class_weight='balanced',\n",
       "                       criterion='gini', max_depth=12, max_features='auto',\n",
       "                       max_leaf_nodes=None, min_impurity_decrease=0.0,\n",
       "                       min_impurity_split=None, min_samples_leaf=1,\n",
       "                       min_samples_split=2, min_weight_fraction_leaf=0.0,\n",
       "                       n_estimators=100, n_jobs=None, oob_score=True,\n",
       "                       random_state=47, verbose=0, warm_start=False)"
      ]
     },
     "execution_count": 13,
     "metadata": {},
     "output_type": "execute_result"
    }
   ],
   "source": [
    "rfc.fit(X_train, y_train)"
   ]
  },
  {
   "cell_type": "code",
   "execution_count": 14,
   "metadata": {},
   "outputs": [
    {
     "data": {
      "text/plain": [
       "0.9858761987794246"
      ]
     },
     "execution_count": 14,
     "metadata": {},
     "output_type": "execute_result"
    }
   ],
   "source": [
    "rfc.oob_score_"
   ]
  },
  {
   "cell_type": "code",
   "execution_count": 36,
   "metadata": {},
   "outputs": [],
   "source": [
    "y_hat = rfc.predict(X_test)\n",
    "y_hat = pd.Series(y_hat, index=X_test.index)"
   ]
  },
  {
   "cell_type": "code",
   "execution_count": 37,
   "metadata": {},
   "outputs": [
    {
     "data": {
      "text/plain": [
       "(2582, 14, 20, 251)"
      ]
     },
     "execution_count": 37,
     "metadata": {},
     "output_type": "execute_result"
    }
   ],
   "source": [
    "tn, fp, fn, tp = confusion_matrix(y_test, y_hat).ravel()\n",
    "tn, fp, fn, tp"
   ]
  },
  {
   "cell_type": "code",
   "execution_count": 38,
   "metadata": {},
   "outputs": [
    {
     "name": "stdout",
     "output_type": "stream",
     "text": [
      "              precision    recall  f1-score   support\n",
      "\n",
      "   not fraud       0.99      0.99      0.99      2596\n",
      "       fraud       0.95      0.93      0.94       271\n",
      "\n",
      "    accuracy                           0.99      2867\n",
      "   macro avg       0.97      0.96      0.97      2867\n",
      "weighted avg       0.99      0.99      0.99      2867\n",
      "\n"
     ]
    }
   ],
   "source": [
    "target_names = ['not fraud', 'fraud']\n",
    "print(classification_report(y_test, y_hat, target_names = target_names))"
   ]
  },
  {
   "cell_type": "code",
   "execution_count": null,
   "metadata": {},
   "outputs": [],
   "source": [
    "import "
   ]
  },
  {
   "cell_type": "code",
   "execution_count": 39,
   "metadata": {},
   "outputs": [],
   "source": [
    "def actual_vs_predicted_counts(yhat, ytest):\n",
    "    \n",
    "    predicted_fraud = len(yhat[yhat == True])\n",
    "    predicted_nf = len(yhat[yhat == False])\n",
    "\n",
    "    actual_fraud = len(ytest[ytest == True])\n",
    "    actual_nf = len(ytest[ytest == False])\n",
    "    \n",
    "    return predicted_fraud, predicted_nf, actual_fraud, actual_nf"
   ]
  },
  {
   "cell_type": "code",
   "execution_count": 81,
   "metadata": {},
   "outputs": [
    {
     "name": "stdout",
     "output_type": "stream",
     "text": [
      "The test set includes 2596 non-fraudulent events & 271 fraudulent events.\n",
      "The model predicted 2602 non-fraudulent events & 265 fraudulent events.\n"
     ]
    }
   ],
   "source": [
    "predicted_fraud, predicted_nf, actual_fraud, actual_nf = actual_vs_predicted_counts(y_hat, y_test)\n",
    "\n",
    "print(f'The test set includes {actual_nf} non-fraudulent events & {actual_fraud} fraudulent events.')\n",
    "print(f'The model predicted {predicted_nf} non-fraudulent events & {predicted_fraud} fraudulent events.')"
   ]
  },
  {
   "cell_type": "code",
   "execution_count": 77,
   "metadata": {},
   "outputs": [],
   "source": [
    "def result_sets(yhat, ytest):\n",
    "    \n",
    "    predicted_fraud = set(yhat[yhat == True].index)\n",
    "    predicted_nf = set(yhat[yhat == False].index)\n",
    "\n",
    "    actual_fraud = set(ytest[ytest == True].index)\n",
    "    actual_nf = set(ytest[ytest == False].index)\n",
    "    \n",
    "    tp_set = predicted_fraud.intersection(actual_fraud)\n",
    "    fp_set = predicted_fraud.intersection(actual_nf)\n",
    "    tn_set = predicted_nf.intersection(actual_nf)\n",
    "    fn_set = predicted_nf.intersection(actual_fraud)\n",
    "    \n",
    "    return tp_set, fp_set, tn_set, fn_set"
   ]
  },
  {
   "cell_type": "code",
   "execution_count": 78,
   "metadata": {},
   "outputs": [],
   "source": [
    "tp_set, fp_set, tn_set, fn_set = result_sets(y_hat, y_test)"
   ]
  },
  {
   "cell_type": "code",
   "execution_count": 63,
   "metadata": {},
   "outputs": [
    {
     "data": {
      "text/plain": [
       "13569    0.086189\n",
       "11650    0.309651\n",
       "7554     0.010078\n",
       "10000    0.141820\n",
       "6691     0.361186\n",
       "6441     0.493165\n",
       "7082     0.286857\n",
       "51       0.054039\n",
       "1715     0.016841\n",
       "5687     0.069654\n",
       "9527     0.401644\n",
       "1622     0.430845\n",
       "11610    0.056026\n",
       "7789     0.120950\n",
       "11503    0.305106\n",
       "11504    0.040685\n",
       "1008     0.204888\n",
       "755      0.431128\n",
       "11764    0.389169\n",
       "7541     0.077323\n",
       "dtype: float64"
      ]
     },
     "execution_count": 63,
     "metadata": {},
     "output_type": "execute_result"
    }
   ],
   "source": [
    "pred_prob_fraud[fp_set]\n",
    "pred_prob_fraud[fn_set]"
   ]
  },
  {
   "cell_type": "code",
   "execution_count": 70,
   "metadata": {},
   "outputs": [
    {
     "data": {
      "text/plain": [
       "0.9378411533045301"
      ]
     },
     "execution_count": 70,
     "metadata": {},
     "output_type": "execute_result"
    }
   ],
   "source": [
    "(pred_prob_fraud[tp_set]>.8).sum()/(pred_prob_fraud[tp_set]).sum()"
   ]
  },
  {
   "cell_type": "code",
   "execution_count": 72,
   "metadata": {},
   "outputs": [
    {
     "data": {
      "text/plain": [
       "0.21428571428571427"
      ]
     },
     "execution_count": 72,
     "metadata": {},
     "output_type": "execute_result"
    }
   ],
   "source": [
    "(pred_prob_fraud[fp_set]>.8).sum()/len(pred_prob_fraud[fp_set])"
   ]
  },
  {
   "cell_type": "code",
   "execution_count": 50,
   "metadata": {},
   "outputs": [],
   "source": [
    "pred_prob = rfc.predict_proba(X_test)\n",
    "pred_prob_fraud = pd.Series(pred_prob[:,1], index=X_test.index)"
   ]
  },
  {
   "cell_type": "code",
   "execution_count": 22,
   "metadata": {},
   "outputs": [
    {
     "data": {
      "image/png": "[encoded data removed]",
      "text/plain": [
       "<Figure size 432x288 with 1 Axes>"
      ]
     },
     "metadata": {
      "needs_background": "light"
     },
     "output_type": "display_data"
    }
   ],
   "source": [
    "prc = precision_recall_curve(y_test, pred_prob[:,1], pos_label=True)\n",
    "plt.plot(prc[1],\n",
    "         prc[0]);"
   ]
  },
  {
   "cell_type": "code",
   "execution_count": 23,
   "metadata": {},
   "outputs": [
    {
     "data": {
      "image/png": "[encoded data removed]",
      "text/plain": [
       "<Figure size 432x288 with 1 Axes>"
      ]
     },
     "metadata": {
      "needs_background": "light"
     },
     "output_type": "display_data"
    }
   ],
   "source": [
    "fpr, tpr, thresholds = roc_curve(y_test, pred_prob[:,1], pos_label=True)\n",
    "plt.plot(fpr,tpr)\n",
    "plt.show()"
   ]
  },
  {
   "cell_type": "markdown",
   "metadata": {},
   "source": [
    "### Precision: Out of all events predicted to be fraud, what percent is actually fraud? \n",
    "tp / (tp + fp)\n",
    "\n",
    "### Recall: Out of all fraudulent events, what percent were correctly identified by model?\n",
    "tp / (tp + fn)"
   ]
  },
  {
   "cell_type": "code",
   "execution_count": 24,
   "metadata": {},
   "outputs": [],
   "source": [
    "def fraud_precision(tp, fp):\n",
    "    return tp/(tp+fp)"
   ]
  },
  {
   "cell_type": "code",
   "execution_count": 25,
   "metadata": {},
   "outputs": [
    {
     "data": {
      "text/plain": [
       "0.9471698113207547"
      ]
     },
     "execution_count": 25,
     "metadata": {},
     "output_type": "execute_result"
    }
   ],
   "source": [
    "fraud_precision1 = fraud_precision(tp, fp)\n",
    "fraud_precision1"
   ]
  },
  {
   "cell_type": "code",
   "execution_count": 26,
   "metadata": {},
   "outputs": [],
   "source": [
    "def fraud_recall(tp, fn):\n",
    "    return tp / (tp + fn)"
   ]
  },
  {
   "cell_type": "code",
   "execution_count": 27,
   "metadata": {},
   "outputs": [
    {
     "data": {
      "text/plain": [
       "0.9261992619926199"
      ]
     },
     "execution_count": 27,
     "metadata": {},
     "output_type": "execute_result"
    }
   ],
   "source": [
    "fraud_recall1 = fraud_recall(tp, fn)\n",
    "fraud_recall1"
   ]
  },
  {
   "cell_type": "code",
   "execution_count": 28,
   "metadata": {},
   "outputs": [],
   "source": [
    "feat_imp = list(np.around(rfc.feature_importances_, 3))\n",
    "feat_list = list(X_train.columns)"
   ]
  },
  {
   "cell_type": "code",
   "execution_count": 29,
   "metadata": {
    "scrolled": true
   },
   "outputs": [
    {
     "data": {
      "text/plain": [
       "{'body_length': 0.03,\n",
       " 'name_length': 0.012,\n",
       " 'org_facebook': 0.046,\n",
       " 'org_twitter': 0.023,\n",
       " 'sale_duration': 0.1,\n",
       " 'user_age': 0.069,\n",
       " 'member_created': 0.029,\n",
       " 'num_tiers': 0.006,\n",
       " 'tickets_available': 0.01,\n",
       " 'average_ticket_price': 0.023,\n",
       " 'min_price': 0.021,\n",
       " 'max_price': 0.019,\n",
       " 'potential_revenue': 0.015,\n",
       " 'org_desc_len': 0.008,\n",
       " 'venue_name_len': 0.011,\n",
       " 'org_name_len': 0.027,\n",
       " 'avg_past_payouts': 0.16,\n",
       " 'num_past_payouts': 0.168,\n",
       " 'desc_has_link_False': 0.004,\n",
       " 'desc_has_link_True': 0.006,\n",
       " 'org_has_link_False': 0.001,\n",
       " 'org_has_link_True': 0.002,\n",
       " 'email_suffix_code_0': 0.002,\n",
       " 'email_suffix_code_1': 0.002,\n",
       " 'email_suffix_code_2': 0.003,\n",
       " 'email_suffix_code_3': 0.0,\n",
       " 'email_suffix_code_4': 0.0,\n",
       " 'email_suffix_code_5': 0.0,\n",
       " 'email_suffix_code_6': 0.0,\n",
       " 'email_suffix_code_7': 0.002,\n",
       " 'email_suffix_code_8': 0.0,\n",
       " 'email_suffix_code_9': 0.0,\n",
       " 'country_match_False': 0.009,\n",
       " 'country_match_True': 0.01,\n",
       " 'fb_published_0': 0.002,\n",
       " 'fb_published_1': 0.002,\n",
       " 'analytics_0': 0.001,\n",
       " 'analytics_1': 0.001,\n",
       " 'logo_0': 0.004,\n",
       " 'logo_1': 0.003,\n",
       " 'map_0': 0.003,\n",
       " 'map_1': 0.003,\n",
       " 'member_type_1': 0.035,\n",
       " 'member_type_2': 0.0,\n",
       " 'member_type_3': 0.01,\n",
       " 'member_type_4': 0.004,\n",
       " 'member_type_5': 0.0,\n",
       " 'member_type_103': 0.0,\n",
       " 'header_0.0': 0.002,\n",
       " 'header_1.0': 0.002,\n",
       " 'channels_0': 0.003,\n",
       " 'channels_4': 0.001,\n",
       " 'channels_5': 0.002,\n",
       " 'channels_6': 0.001,\n",
       " 'channels_7': 0.0,\n",
       " 'channels_8': 0.002,\n",
       " 'channels_9': 0.0,\n",
       " 'channels_10': 0.0,\n",
       " 'channels_11': 0.001,\n",
       " 'channels_12': 0.0,\n",
       " 'channels_13': 0.001,\n",
       " 'listed_n': 0.001,\n",
       " 'listed_y': 0.001,\n",
       " 'payout_method_ACH': 0.005,\n",
       " 'payout_method_CHECK': 0.012,\n",
       " 'payout_method_X': 0.032,\n",
       " 'currency_AUD': 0.001,\n",
       " 'currency_CAD': 0.001,\n",
       " 'currency_EUR': 0.0,\n",
       " 'currency_GBP': 0.003,\n",
       " 'currency_MXN': 0.0,\n",
       " 'currency_NZD': 0.0,\n",
       " 'currency_USD': 0.001,\n",
       " 'country_A1': 0.0,\n",
       " 'country_AE': 0.0,\n",
       " 'country_AR': 0.0,\n",
       " 'country_AT': 0.0,\n",
       " 'country_AU': 0.0,\n",
       " 'country_BB': 0.0,\n",
       " 'country_BE': 0.0,\n",
       " 'country_BG': 0.0,\n",
       " 'country_BS': 0.0,\n",
       " 'country_CA': 0.001,\n",
       " 'country_CH': 0.0,\n",
       " 'country_CI': 0.0,\n",
       " 'country_CM': 0.0,\n",
       " 'country_CN': 0.0,\n",
       " 'country_CO': 0.0,\n",
       " 'country_CR': 0.0,\n",
       " 'country_CZ': 0.0,\n",
       " 'country_DE': 0.0,\n",
       " 'country_DK': 0.0,\n",
       " 'country_DZ': 0.0,\n",
       " 'country_EC': 0.0,\n",
       " 'country_ES': 0.0,\n",
       " 'country_FI': 0.0,\n",
       " 'country_FR': 0.0,\n",
       " 'country_GB': 0.003,\n",
       " 'country_GH': 0.0,\n",
       " 'country_GR': 0.0,\n",
       " 'country_HR': 0.0,\n",
       " 'country_HU': 0.0,\n",
       " 'country_ID': 0.0,\n",
       " 'country_IE': 0.0,\n",
       " 'country_IL': 0.0,\n",
       " 'country_IM': 0.0,\n",
       " 'country_IN': 0.0,\n",
       " 'country_IS': 0.0,\n",
       " 'country_IT': 0.0,\n",
       " 'country_JE': 0.0,\n",
       " 'country_JM': 0.0,\n",
       " 'country_KE': 0.0,\n",
       " 'country_KH': 0.0,\n",
       " 'country_LB': 0.0,\n",
       " 'country_MA': 0.0,\n",
       " 'country_MX': 0.0,\n",
       " 'country_MY': 0.0,\n",
       " 'country_NG': 0.0,\n",
       " 'country_NI': 0.0,\n",
       " 'country_NL': 0.0,\n",
       " 'country_NZ': 0.0,\n",
       " 'country_PE': 0.0,\n",
       " 'country_PH': 0.0,\n",
       " 'country_PK': 0.0,\n",
       " 'country_PR': 0.0,\n",
       " 'country_PS': 0.0,\n",
       " 'country_PT': 0.0,\n",
       " 'country_QA': 0.0,\n",
       " 'country_RO': 0.0,\n",
       " 'country_RS': 0.0,\n",
       " 'country_RU': 0.0,\n",
       " 'country_SE': 0.0,\n",
       " 'country_SG': 0.0,\n",
       " 'country_SI': 0.0,\n",
       " 'country_TH': 0.0,\n",
       " 'country_TJ': 0.0,\n",
       " 'country_TR': 0.0,\n",
       " 'country_US': 0.002,\n",
       " 'country_UY': 0.0,\n",
       " 'country_VE': 0.0,\n",
       " 'country_VI': 0.0,\n",
       " 'country_VN': 0.0,\n",
       " 'country_X': 0.0,\n",
       " 'country_ZA': 0.0,\n",
       " 'delivery_method_0.0': 0.016,\n",
       " 'delivery_method_1.0': 0.017,\n",
       " 'delivery_method_3.0': 0.001,\n",
       " 'delivery_method_86.0': 0.001}"
      ]
     },
     "execution_count": 29,
     "metadata": {},
     "output_type": "execute_result"
    }
   ],
   "source": [
    "feat_imp_dict = {}\n",
    "for t,r in zip(feat_list, feat_imp):\n",
    "    feat_imp_dict[t] = r\n",
    "feat_imp_dict"
   ]
  },
  {
   "cell_type": "code",
   "execution_count": 55,
   "metadata": {},
   "outputs": [],
   "source": [
    "from pprint import pprint\n",
    "from sklearn.model_selection import RandomizedSearchCV"
   ]
  },
  {
   "cell_type": "code",
   "execution_count": 74,
   "metadata": {},
   "outputs": [
    {
     "name": "stdout",
     "output_type": "stream",
     "text": [
      "{'bootstrap': [True, False],\n",
      " 'class_weight': ['balanced', None],\n",
      " 'max_depth': [40, 43, 46, 50, 53, 56, 60, 63, 66, 70, None],\n",
      " 'max_features': ['auto', 'sqrt'],\n",
      " 'min_samples_leaf': [1, 2, 4],\n",
      " 'min_samples_split': [2, 5, 10],\n",
      " 'n_estimators': [800, 877, 955, 1033, 1111, 1188, 1266, 1344, 1422, 1500]}\n"
     ]
    }
   ],
   "source": [
    "# n_estimators\n",
    "n_estimators = [int(x) for x in np.linspace(start = 800, stop = 1500, num = 10)]\n",
    "\n",
    "# max_features\n",
    "max_features = ['auto', 'sqrt']\n",
    "\n",
    "# max_depth\n",
    "max_depth = [int(x) for x in np.linspace(40, 70, num = 10)]\n",
    "max_depth.append(None)\n",
    "\n",
    "# class_weight\n",
    "class_weight = ['balanced', None]\n",
    "\n",
    "# min_samples_split\n",
    "min_samples_split = [2, 5, 10]\n",
    "\n",
    "# min_samples_leaf\n",
    "min_samples_leaf = [1, 2, 4]\n",
    "\n",
    "# bootstrap\n",
    "bootstrap = [True, False]\n",
    "\n",
    "# Create the random grid\n",
    "random_grid = {'class_weight': class_weight,\n",
    "               'n_estimators': n_estimators,\n",
    "               'max_features': max_features,\n",
    "               'max_depth': max_depth,\n",
    "               'min_samples_split': min_samples_split,\n",
    "               'min_samples_leaf': min_samples_leaf,\n",
    "               'bootstrap': bootstrap}\n",
    "\n",
    "pprint(random_grid)"
   ]
  },
  {
   "cell_type": "code",
   "execution_count": 75,
   "metadata": {},
   "outputs": [
    {
     "name": "stdout",
     "output_type": "stream",
     "text": [
      "Fitting 3 folds for each of 10 candidates, totalling 30 fits\n"
     ]
    },
    {
     "name": "stderr",
     "output_type": "stream",
     "text": [
      "[Parallel(n_jobs=1)]: Using backend SequentialBackend with 1 concurrent workers.\n",
      "[Parallel(n_jobs=1)]: Done  30 out of  30 | elapsed:  7.4min finished\n"
     ]
    },
    {
     "data": {
      "text/plain": [
       "RandomizedSearchCV(cv=3, error_score='raise-deprecating',\n",
       "                   estimator=RandomForestClassifier(bootstrap=True,\n",
       "                                                    class_weight=None,\n",
       "                                                    criterion='gini',\n",
       "                                                    max_depth=None,\n",
       "                                                    max_features='auto',\n",
       "                                                    max_leaf_nodes=None,\n",
       "                                                    min_impurity_decrease=0.0,\n",
       "                                                    min_impurity_split=None,\n",
       "                                                    min_samples_leaf=1,\n",
       "                                                    min_samples_split=2,\n",
       "                                                    min_weight_fraction_leaf=0.0,\n",
       "                                                    n_estimators='warn',\n",
       "                                                    n_jobs=None,\n",
       "                                                    oob_sc...\n",
       "                   param_distributions={'bootstrap': [True, False],\n",
       "                                        'class_weight': ['balanced', None],\n",
       "                                        'max_depth': [40, 43, 46, 50, 53, 56,\n",
       "                                                      60, 63, 66, 70, None],\n",
       "                                        'max_features': ['auto', 'sqrt'],\n",
       "                                        'min_samples_leaf': [1, 2, 4],\n",
       "                                        'min_samples_split': [2, 5, 10],\n",
       "                                        'n_estimators': [800, 877, 955, 1033,\n",
       "                                                         1111, 1188, 1266, 1344,\n",
       "                                                         1422, 1500]},\n",
       "                   pre_dispatch='2*n_jobs', random_state=8, refit=True,\n",
       "                   return_train_score=False, scoring='recall', verbose=1)"
      ]
     },
     "execution_count": 75,
     "metadata": {},
     "output_type": "execute_result"
    }
   ],
   "source": [
    "# First create the base model to tune\n",
    "rfc = RandomForestClassifier(random_state=8)\n",
    "\n",
    "# Definition of the random search\n",
    "random_search = RandomizedSearchCV(estimator=rfc,\n",
    "                                   param_distributions=random_grid,\n",
    "                                   n_iter=10,\n",
    "                                   scoring='recall',\n",
    "                                   cv=3, \n",
    "                                   verbose=1, \n",
    "                                   random_state=8)\n",
    "\n",
    "# Fit the random search model\n",
    "random_search.fit(X_train, y_train)"
   ]
  },
  {
   "cell_type": "code",
   "execution_count": 76,
   "metadata": {},
   "outputs": [
    {
     "name": "stdout",
     "output_type": "stream",
     "text": [
      "The best hyperparameters from Random Search are:\n",
      "{'n_estimators': 800, 'min_samples_split': 10, 'min_samples_leaf': 4, 'max_features': 'auto', 'max_depth': 66, 'class_weight': 'balanced', 'bootstrap': False}\n",
      "\n",
      "The recall of a model with these hyperparameters is:\n",
      "0.9266096404071553\n"
     ]
    }
   ],
   "source": [
    "print(\"The best hyperparameters from Random Search are:\")\n",
    "print(random_search.best_params_)\n",
    "print(\"\")\n",
    "print(\"The recall of a model with these hyperparameters is:\")\n",
    "print(random_search.best_score_)"
   ]
  }
 ],
 "metadata": {
  "kernelspec": {
   "display_name": "Python 3",
   "language": "python",
   "name": "python3"
  },
  "language_info": {
   "codemirror_mode": {
    "name": "ipython",
    "version": 3
   },
   "file_extension": ".py",
   "mimetype": "text/x-python",
   "name": "python",
   "nbconvert_exporter": "python",
   "pygments_lexer": "ipython3",
   "version": "3.7.1"
  }
 },
 "nbformat": 4,
 "nbformat_minor": 2
}

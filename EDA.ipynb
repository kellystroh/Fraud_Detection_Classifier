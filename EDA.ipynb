{
 "cells": [
  {
   "cell_type": "code",
   "execution_count": 1,
   "metadata": {},
   "outputs": [],
   "source": [
    "import pandas as pd\n",
    "import numpy as np\n",
    "import matplotlib.pyplot as plt\n",
    "import seaborn as sns\n",
    "%matplotlib inline"
   ]
  },
  {
   "cell_type": "code",
   "execution_count": 2,
   "metadata": {},
   "outputs": [],
   "source": [
    "data = pd.read_csv(\"data/raw_data.csv\", index_col=0)"
   ]
  },
  {
   "cell_type": "markdown",
   "metadata": {},
   "source": [
    "# Initial cleaning of dataframe\n",
    "\n",
    "### Create a target column & remove 'leaky' columns from training data\n",
    "We are using past data to train a model to predict cases of fraud among future data. The original dataset includes columns with information that will not be available for future data. These columns need to be excluded from analysis to eliminate information leakage.\n",
    "\n",
    "But first, we need to use the information in the 'account' column to create a target column. This will label each row as either 'fraud' or 'not fraud'. The original 'account' column contains a range of values describing an account type. "
   ]
  },
  {
   "cell_type": "code",
   "execution_count": 3,
   "metadata": {},
   "outputs": [
    {
     "data": {
      "text/plain": [
       "False    13044\n",
       "True      1293\n",
       "Name: fraud, dtype: int64"
      ]
     },
     "execution_count": 3,
     "metadata": {},
     "output_type": "execute_result"
    }
   ],
   "source": [
    "### Create fraud column as target.\n",
    "data[\"fraud\"] = data[\"account\"].str.contains(\"fraud\")\n",
    "data.fraud.value_counts() "
   ]
  },
  {
   "cell_type": "markdown",
   "metadata": {},
   "source": [
    "### Common trends in fraud detection for ticket vendors:\n",
    "* In our data, the number of non-fraudulent entries is about 10 times the number of frauds. This imbalance is fairly typical and is important to keep in mind when considering model results. \n",
    "\n",
    "* Generally speaking, it is more expensive to miss an instance of fraud than it is to mistakenly identify a non-fraudulent event. As such, we will want to assign greater importance to false negatives than false positives"
   ]
  },
  {
   "cell_type": "code",
   "execution_count": 4,
   "metadata": {},
   "outputs": [],
   "source": [
    "### Drop the fields of information that will not be included for 'future' data\n",
    "data.drop(['account', 'payout_date', 'xt', 'order_count', 'payout_count', 'sale_duration2'], axis=1, inplace=True)"
   ]
  },
  {
   "cell_type": "markdown",
   "metadata": {},
   "source": [
    "# Understanding Features\n",
    "In ideal scenarios, we have full access to all information about our data and how it was collected. Yet it is good to be prepared for the less ideal situations. Whether due to poor records, employee turnover, time constraints, etc., sometimes there will be gaps in information. \n",
    "\n",
    "In this instance, the only information available is in the data, as column names and values. \n",
    "\n",
    "## 1. Quick look at the data\n",
    "The column names aren't always clear descriptors, so it helps to look at a few rows of data. \n",
    "\n",
    "*Note: to preserve anonymity for both the ticket vendor and clients, I'll exclude columns with identifiable information from view. Because this limits your ability to understand the data in these columns, I've included a table with fictional entries to demonstrate the values contained in the omitted columns.*"
   ]
  },
  {
   "cell_type": "code",
   "execution_count": 5,
   "metadata": {},
   "outputs": [],
   "source": [
    "exclude_cols = ['description', 'email_domain', 'name', 'org_desc', 'org_name', 'payee_name', 'past_payouts',\n",
    "'venue_address', 'venue_name', 'venue_latitude', 'venue_longitude']\n",
    "\n",
    "preview = data.copy()\n",
    "preview.drop(exclude_cols, axis=1, inplace=True)"
   ]
  },
  {
   "cell_type": "code",
   "execution_count": 6,
   "metadata": {},
   "outputs": [
    {
     "data": {
      "text/html": [
       "<div>\n",
       "<style scoped>\n",
       "    .dataframe tbody tr th:only-of-type {\n",
       "        vertical-align: middle;\n",
       "    }\n",
       "\n",
       "    .dataframe tbody tr th {\n",
       "        vertical-align: top;\n",
       "    }\n",
       "\n",
       "    .dataframe thead th {\n",
       "        text-align: right;\n",
       "    }\n",
       "</style>\n",
       "<table border=\"1\" class=\"dataframe\">\n",
       "  <thead>\n",
       "    <tr style=\"text-align: right;\">\n",
       "      <th></th>\n",
       "      <th>body_length</th>\n",
       "      <th>channels</th>\n",
       "      <th>country</th>\n",
       "      <th>currency</th>\n",
       "      <th>delivery_method</th>\n",
       "      <th>date_created</th>\n",
       "      <th>end_date</th>\n",
       "      <th>date_published</th>\n",
       "      <th>start_date</th>\n",
       "      <th>fb_published</th>\n",
       "      <th>analytics</th>\n",
       "      <th>header</th>\n",
       "      <th>logo</th>\n",
       "    </tr>\n",
       "  </thead>\n",
       "  <tbody>\n",
       "    <tr>\n",
       "      <th>0</th>\n",
       "      <td>3852</td>\n",
       "      <td>5</td>\n",
       "      <td>US</td>\n",
       "      <td>USD</td>\n",
       "      <td>0.0</td>\n",
       "      <td>1262739706</td>\n",
       "      <td>1265630400</td>\n",
       "      <td>1.263110e+09</td>\n",
       "      <td>1265594400</td>\n",
       "      <td>0</td>\n",
       "      <td>0</td>\n",
       "      <td>1.0</td>\n",
       "      <td>0</td>\n",
       "    </tr>\n",
       "    <tr>\n",
       "      <th>1</th>\n",
       "      <td>3499</td>\n",
       "      <td>0</td>\n",
       "      <td>US</td>\n",
       "      <td>USD</td>\n",
       "      <td>1.0</td>\n",
       "      <td>1293832670</td>\n",
       "      <td>1296288000</td>\n",
       "      <td>1.293833e+09</td>\n",
       "      <td>1296255600</td>\n",
       "      <td>0</td>\n",
       "      <td>0</td>\n",
       "      <td>0.0</td>\n",
       "      <td>1</td>\n",
       "    </tr>\n",
       "    <tr>\n",
       "      <th>2</th>\n",
       "      <td>2601</td>\n",
       "      <td>8</td>\n",
       "      <td>US</td>\n",
       "      <td>USD</td>\n",
       "      <td>1.0</td>\n",
       "      <td>1291090956</td>\n",
       "      <td>1295740800</td>\n",
       "      <td>1.291092e+09</td>\n",
       "      <td>1295713800</td>\n",
       "      <td>0</td>\n",
       "      <td>0</td>\n",
       "      <td>NaN</td>\n",
       "      <td>0</td>\n",
       "    </tr>\n",
       "    <tr>\n",
       "      <th>3</th>\n",
       "      <td>12347</td>\n",
       "      <td>6</td>\n",
       "      <td>IE</td>\n",
       "      <td>EUR</td>\n",
       "      <td>1.0</td>\n",
       "      <td>1360681570</td>\n",
       "      <td>1388534400</td>\n",
       "      <td>1.360683e+09</td>\n",
       "      <td>1360702800</td>\n",
       "      <td>0</td>\n",
       "      <td>0</td>\n",
       "      <td>0.0</td>\n",
       "      <td>1</td>\n",
       "    </tr>\n",
       "    <tr>\n",
       "      <th>4</th>\n",
       "      <td>2417</td>\n",
       "      <td>11</td>\n",
       "      <td>US</td>\n",
       "      <td>USD</td>\n",
       "      <td>0.0</td>\n",
       "      <td>1291994666</td>\n",
       "      <td>1297468800</td>\n",
       "      <td>1.291995e+09</td>\n",
       "      <td>1297440000</td>\n",
       "      <td>1</td>\n",
       "      <td>0</td>\n",
       "      <td>0.0</td>\n",
       "      <td>0</td>\n",
       "    </tr>\n",
       "  </tbody>\n",
       "</table>\n",
       "</div>"
      ],
      "text/plain": [
       "   body_length  channels country currency  delivery_method  date_created  \\\n",
       "0         3852         5      US      USD              0.0    1262739706   \n",
       "1         3499         0      US      USD              1.0    1293832670   \n",
       "2         2601         8      US      USD              1.0    1291090956   \n",
       "3        12347         6      IE      EUR              1.0    1360681570   \n",
       "4         2417        11      US      USD              0.0    1291994666   \n",
       "\n",
       "     end_date  date_published  start_date  fb_published  analytics  header  \\\n",
       "0  1265630400    1.263110e+09  1265594400             0          0     1.0   \n",
       "1  1296288000    1.293833e+09  1296255600             0          0     0.0   \n",
       "2  1295740800    1.291092e+09  1295713800             0          0     NaN   \n",
       "3  1388534400    1.360683e+09  1360702800             0          0     0.0   \n",
       "4  1297468800    1.291995e+09  1297440000             1          0     0.0   \n",
       "\n",
       "   logo  \n",
       "0     0  \n",
       "1     1  \n",
       "2     0  \n",
       "3     1  \n",
       "4     0  "
      ]
     },
     "execution_count": 6,
     "metadata": {},
     "output_type": "execute_result"
    }
   ],
   "source": [
    "preview.iloc[:5,:13]"
   ]
  },
  {
   "cell_type": "code",
   "execution_count": 7,
   "metadata": {},
   "outputs": [
    {
     "data": {
      "text/html": [
       "<div>\n",
       "<style scoped>\n",
       "    .dataframe tbody tr th:only-of-type {\n",
       "        vertical-align: middle;\n",
       "    }\n",
       "\n",
       "    .dataframe tbody tr th {\n",
       "        vertical-align: top;\n",
       "    }\n",
       "\n",
       "    .dataframe thead th {\n",
       "        text-align: right;\n",
       "    }\n",
       "</style>\n",
       "<table border=\"1\" class=\"dataframe\">\n",
       "  <thead>\n",
       "    <tr style=\"text-align: right;\">\n",
       "      <th></th>\n",
       "      <th>listed</th>\n",
       "      <th>name_length</th>\n",
       "      <th>object_id</th>\n",
       "      <th>org_facebook</th>\n",
       "      <th>org_twitter</th>\n",
       "      <th>payout_method</th>\n",
       "      <th>sale_duration</th>\n",
       "      <th>map</th>\n",
       "      <th>ticket_groups</th>\n",
       "      <th>user_age</th>\n",
       "    </tr>\n",
       "  </thead>\n",
       "  <tbody>\n",
       "    <tr>\n",
       "      <th>0</th>\n",
       "      <td>y</td>\n",
       "      <td>60</td>\n",
       "      <td>527017</td>\n",
       "      <td>0.0</td>\n",
       "      <td>0.0</td>\n",
       "      <td>NaN</td>\n",
       "      <td>29.0</td>\n",
       "      <td>1</td>\n",
       "      <td>[{'event_id': 527017, 'cost': 25.0, 'availabil...</td>\n",
       "      <td>36</td>\n",
       "    </tr>\n",
       "    <tr>\n",
       "      <th>1</th>\n",
       "      <td>n</td>\n",
       "      <td>27</td>\n",
       "      <td>786878</td>\n",
       "      <td>0.0</td>\n",
       "      <td>12.0</td>\n",
       "      <td>CHECK</td>\n",
       "      <td>28.0</td>\n",
       "      <td>0</td>\n",
       "      <td>[{'event_id': 786878, 'cost': 35.0, 'availabil...</td>\n",
       "      <td>149</td>\n",
       "    </tr>\n",
       "    <tr>\n",
       "      <th>2</th>\n",
       "      <td>y</td>\n",
       "      <td>28</td>\n",
       "      <td>787337</td>\n",
       "      <td>0.0</td>\n",
       "      <td>0.0</td>\n",
       "      <td>CHECK</td>\n",
       "      <td>54.0</td>\n",
       "      <td>0</td>\n",
       "      <td>[{'event_id': 787337, 'cost': 93.51, 'availabi...</td>\n",
       "      <td>214</td>\n",
       "    </tr>\n",
       "    <tr>\n",
       "      <th>3</th>\n",
       "      <td>y</td>\n",
       "      <td>21</td>\n",
       "      <td>885645</td>\n",
       "      <td>0.0</td>\n",
       "      <td>0.0</td>\n",
       "      <td>ACH</td>\n",
       "      <td>0.0</td>\n",
       "      <td>0</td>\n",
       "      <td>[{'event_id': 885645, 'cost': 25.0, 'availabil...</td>\n",
       "      <td>889</td>\n",
       "    </tr>\n",
       "    <tr>\n",
       "      <th>4</th>\n",
       "      <td>y</td>\n",
       "      <td>66</td>\n",
       "      <td>1114349</td>\n",
       "      <td>0.0</td>\n",
       "      <td>0.0</td>\n",
       "      <td>CHECK</td>\n",
       "      <td>63.0</td>\n",
       "      <td>0</td>\n",
       "      <td>[{'event_id': 1114349, 'cost': 150.0, 'availab...</td>\n",
       "      <td>35</td>\n",
       "    </tr>\n",
       "  </tbody>\n",
       "</table>\n",
       "</div>"
      ],
      "text/plain": [
       "  listed  name_length  object_id  org_facebook  org_twitter payout_method  \\\n",
       "0      y           60     527017           0.0          0.0           NaN   \n",
       "1      n           27     786878           0.0         12.0         CHECK   \n",
       "2      y           28     787337           0.0          0.0         CHECK   \n",
       "3      y           21     885645           0.0          0.0           ACH   \n",
       "4      y           66    1114349           0.0          0.0         CHECK   \n",
       "\n",
       "   sale_duration  map                                      ticket_groups  \\\n",
       "0           29.0    1  [{'event_id': 527017, 'cost': 25.0, 'availabil...   \n",
       "1           28.0    0  [{'event_id': 786878, 'cost': 35.0, 'availabil...   \n",
       "2           54.0    0  [{'event_id': 787337, 'cost': 93.51, 'availabi...   \n",
       "3            0.0    0  [{'event_id': 885645, 'cost': 25.0, 'availabil...   \n",
       "4           63.0    0  [{'event_id': 1114349, 'cost': 150.0, 'availab...   \n",
       "\n",
       "   user_age  \n",
       "0        36  \n",
       "1       149  \n",
       "2       214  \n",
       "3       889  \n",
       "4        35  "
      ]
     },
     "execution_count": 7,
     "metadata": {},
     "output_type": "execute_result"
    }
   ],
   "source": [
    "preview.iloc[:5,13:23]"
   ]
  },
  {
   "cell_type": "code",
   "execution_count": 8,
   "metadata": {},
   "outputs": [
    {
     "data": {
      "text/html": [
       "<div>\n",
       "<style scoped>\n",
       "    .dataframe tbody tr th:only-of-type {\n",
       "        vertical-align: middle;\n",
       "    }\n",
       "\n",
       "    .dataframe tbody tr th {\n",
       "        vertical-align: top;\n",
       "    }\n",
       "\n",
       "    .dataframe thead th {\n",
       "        text-align: right;\n",
       "    }\n",
       "</style>\n",
       "<table border=\"1\" class=\"dataframe\">\n",
       "  <thead>\n",
       "    <tr style=\"text-align: right;\">\n",
       "      <th></th>\n",
       "      <th>member_created</th>\n",
       "      <th>member_type</th>\n",
       "      <th>venue_country</th>\n",
       "      <th>venue_state</th>\n",
       "      <th>fraud</th>\n",
       "    </tr>\n",
       "  </thead>\n",
       "  <tbody>\n",
       "    <tr>\n",
       "      <th>0</th>\n",
       "      <td>1259613950</td>\n",
       "      <td>1</td>\n",
       "      <td>US</td>\n",
       "      <td>FL</td>\n",
       "      <td>True</td>\n",
       "    </tr>\n",
       "    <tr>\n",
       "      <th>1</th>\n",
       "      <td>1280942776</td>\n",
       "      <td>3</td>\n",
       "      <td>US</td>\n",
       "      <td>SC</td>\n",
       "      <td>False</td>\n",
       "    </tr>\n",
       "    <tr>\n",
       "      <th>2</th>\n",
       "      <td>1272559388</td>\n",
       "      <td>3</td>\n",
       "      <td>US</td>\n",
       "      <td>CA</td>\n",
       "      <td>False</td>\n",
       "    </tr>\n",
       "    <tr>\n",
       "      <th>3</th>\n",
       "      <td>1283870102</td>\n",
       "      <td>3</td>\n",
       "      <td>NaN</td>\n",
       "      <td>NaN</td>\n",
       "      <td>False</td>\n",
       "    </tr>\n",
       "    <tr>\n",
       "      <th>4</th>\n",
       "      <td>1288984065</td>\n",
       "      <td>3</td>\n",
       "      <td>US</td>\n",
       "      <td>MA</td>\n",
       "      <td>False</td>\n",
       "    </tr>\n",
       "  </tbody>\n",
       "</table>\n",
       "</div>"
      ],
      "text/plain": [
       "   member_created  member_type venue_country venue_state  fraud\n",
       "0      1259613950            1            US          FL   True\n",
       "1      1280942776            3            US          SC  False\n",
       "2      1272559388            3            US          CA  False\n",
       "3      1283870102            3           NaN         NaN  False\n",
       "4      1288984065            3            US          MA  False"
      ]
     },
     "execution_count": 8,
     "metadata": {},
     "output_type": "execute_result"
    }
   ],
   "source": [
    "preview.iloc[:5,23:]"
   ]
  },
  {
   "cell_type": "markdown",
   "metadata": {},
   "source": [
    "#### To complete your quick look, here are descriptions and fictitious entries for the columns omitted above: \n",
    "| Column Name     |                Column Description                  | dtype  |   Sample Entry               |\n",
    "|:---------------:|:--------------------------------------------------:|:------:|:----------------------------:|\n",
    "| name            | Name of the event                                  | string | ABC's Annual Fundraiser      |\n",
    "| description     | Description of the event                           | string |  `<h3><span class=\"subcategory\"><strong> Lorem ipsum dolor sit amet, consectetur adipiscing elit, sed do eiusmod tempor incididunt ut labore et dolore magna aliqua. Ut enim ad minim veniam, quis nostrud exercitation ullamco laboris nisi ut aliquip ex ea commodo consequat. </strong><strong></strong></span></h3> <h3><font face=\"arial,helvetica,sans-serif\" size=\"3\">W Lorem ipsum dolor sit amet, consectetur adipiscing elit, sed do eiusmod tempor incididunt ut labore et dolore magna aliqua. Ut enim ad minim veniam, quis nostrud exercitation ullamco laboris nisi ut aliquip ex ea commodo consequat..</font></h3>`  |\n",
    "| email_domain    | Email domain of the event creator                  | string | Ex: gmail.com; ed.ac.uk; ABC.org |\n",
    "| org_name        | Name of the organization hosting the event         | string |       ABC                    |\n",
    "| org_desc        | Description of the organization hosting the event  | string | `<p>ABC is a sample organization name</p>`|\n",
    "| payee_name      | Named recipient of ticket revenue                  | string | Ex: ABC; Joe Smith           |\n",
    "| past_payouts    | Details of past ticket purchase to event creator   | string |`[{'name': 'ABC', 'created': '2010-10-01 01:10:09', 'country': 'OZ', 'amount': 34389.38, 'state': 'KS', 'address': '123 Yellow Brick Road', 'uid': 1234567, 'event': 9999999, 'zip_code': '98383'}, {'name': 'ABC', 'created': '2011-02-02 01:12:10', 'country': 'OZ', 'amount': 764.93, 'state': 'KS', 'address': '123 Yellow Brick Road', 'uid': 1234567, 'event': 9999999, 'zip_code': '98383'}, {'name': 'ABC', 'created': '2011-03-15 01:30:42', 'country': 'OZ', 'amount': 17405.26, 'state': 'KS', 'address': '123 Yellow Brick Road', 'uid': 1234567, 'event': 9999999, 'zip_code': '98383'}, {'name': 'ABC', 'created': '2011-03-15 01:30:42', 'country': 'OZ', 'amount': 2224.16, 'state': 'KS', 'address': '123 Yellow Brick Road', 'uid': 1234567, 'event': 9999999, 'zip_code': '98383'}]`|\n",
    "| venue_name      | Name of event venue                                | string |     ABC Building      |\n",
    "| venue_address   | Address of event venue                             | string | 123 Yellow Brick Road |\n",
    "| venue_latitude  | Latitude of event venue                            | float  |      -45.0123         |\n",
    "| venue_longitude | Longitude of event venue                           | float  |      -123.456         |\n",
    "\n",
    "\n",
    "\n"
   ]
  },
  {
   "cell_type": "markdown",
   "metadata": {},
   "source": [
    "## 2. Dive deeper into columns\n",
    "* #### Split up columns by data type\n",
    "* #### Get summary info about each column\n",
    "* #### Basic clean up (i.e. fill NaN values for sake of plotting)\n",
    "* #### Plot columns to visualize data distribution\n",
    "\n",
    "These steps will give us a more complete picture of the information contained in each column. "
   ]
  },
  {
   "cell_type": "code",
   "execution_count": 9,
   "metadata": {},
   "outputs": [],
   "source": [
    "str_col = list(data.dtypes[data.dtypes=='object'].index)\n",
    "flt_col = list(data.dtypes[data.dtypes=='float'].index)\n",
    "int_col = list(data.dtypes[data.dtypes=='int'].index)"
   ]
  },
  {
   "cell_type": "code",
   "execution_count": 10,
   "metadata": {},
   "outputs": [],
   "source": [
    "# Let's keep track of categorical columns we find \n",
    "cat_cols = []"
   ]
  },
  {
   "cell_type": "markdown",
   "metadata": {},
   "source": [
    "We'll write a function to generate an easy-to-read summary of some useful column information"
   ]
  },
  {
   "cell_type": "code",
   "execution_count": 11,
   "metadata": {},
   "outputs": [],
   "source": [
    "def report(lst):\n",
    "    lst_unq = []\n",
    "    lst_mode = []\n",
    "    lst_max = []\n",
    "    lst_min = []\n",
    "    lst_na = []\n",
    "    lst_ct_mode = []\n",
    "    for x in lst:\n",
    "        if data[x].dtype == 'object':\n",
    "            lst_unq.append(data[x].nunique())\n",
    "            lst_na.append(data[x].isna().sum())\n",
    "        else:\n",
    "            lst_unq.append(data[x].nunique())\n",
    "            lst_max.append(data[x].max()) \n",
    "            lst_min.append(data[x].min())\n",
    "            lst_na.append(data[x].isna().sum())\n",
    "            md = data[x].mode().values[0]\n",
    "            lst_mode.append(md)\n",
    "            lst_ct_mode.append(f'{round(data[x].value_counts().values[0]/len(data)*100, 2)}%')\n",
    "    report = pd.DataFrame([lst, lst_unq, lst_na, lst_max, lst_min, lst_mode, lst_ct_mode], index=['name', 'Number of Unique Values', 'Number of NaN', 'Max', 'Min', 'Mode', 'Frequency of Mode'])\n",
    "    return report"
   ]
  },
  {
   "cell_type": "markdown",
   "metadata": {},
   "source": [
    "## 2.1 Integer Columns"
   ]
  },
  {
   "cell_type": "code",
   "execution_count": 12,
   "metadata": {},
   "outputs": [
    {
     "data": {
      "text/html": [
       "<div>\n",
       "<style scoped>\n",
       "    .dataframe tbody tr th:only-of-type {\n",
       "        vertical-align: middle;\n",
       "    }\n",
       "\n",
       "    .dataframe tbody tr th {\n",
       "        vertical-align: top;\n",
       "    }\n",
       "\n",
       "    .dataframe thead th {\n",
       "        text-align: right;\n",
       "    }\n",
       "</style>\n",
       "<table border=\"1\" class=\"dataframe\">\n",
       "  <thead>\n",
       "    <tr style=\"text-align: right;\">\n",
       "      <th></th>\n",
       "      <th>name</th>\n",
       "      <th>Number of Unique Values</th>\n",
       "      <th>Number of NaN</th>\n",
       "      <th>Max</th>\n",
       "      <th>Min</th>\n",
       "      <th>Mode</th>\n",
       "      <th>Frequency of Mode</th>\n",
       "    </tr>\n",
       "  </thead>\n",
       "  <tbody>\n",
       "    <tr>\n",
       "      <th>0</th>\n",
       "      <td>body_length</td>\n",
       "      <td>6595</td>\n",
       "      <td>0</td>\n",
       "      <td>65535</td>\n",
       "      <td>0</td>\n",
       "      <td>0</td>\n",
       "      <td>5.78%</td>\n",
       "    </tr>\n",
       "    <tr>\n",
       "      <th>1</th>\n",
       "      <td>channels</td>\n",
       "      <td>11</td>\n",
       "      <td>0</td>\n",
       "      <td>13</td>\n",
       "      <td>0</td>\n",
       "      <td>8</td>\n",
       "      <td>23.46%</td>\n",
       "    </tr>\n",
       "    <tr>\n",
       "      <th>2</th>\n",
       "      <td>date_created</td>\n",
       "      <td>14335</td>\n",
       "      <td>0</td>\n",
       "      <td>1382011776</td>\n",
       "      <td>1170332468</td>\n",
       "      <td>1365541045</td>\n",
       "      <td>0.01%</td>\n",
       "    </tr>\n",
       "    <tr>\n",
       "      <th>3</th>\n",
       "      <td>end_date</td>\n",
       "      <td>9655</td>\n",
       "      <td>0</td>\n",
       "      <td>1523055600</td>\n",
       "      <td>1170824400</td>\n",
       "      <td>1357034400</td>\n",
       "      <td>0.2%</td>\n",
       "    </tr>\n",
       "    <tr>\n",
       "      <th>4</th>\n",
       "      <td>start_date</td>\n",
       "      <td>9274</td>\n",
       "      <td>0</td>\n",
       "      <td>1418850000</td>\n",
       "      <td>1170819000</td>\n",
       "      <td>1357012800</td>\n",
       "      <td>0.27%</td>\n",
       "    </tr>\n",
       "    <tr>\n",
       "      <th>5</th>\n",
       "      <td>fb_published</td>\n",
       "      <td>2</td>\n",
       "      <td>0</td>\n",
       "      <td>1</td>\n",
       "      <td>0</td>\n",
       "      <td>0</td>\n",
       "      <td>87.26%</td>\n",
       "    </tr>\n",
       "    <tr>\n",
       "      <th>6</th>\n",
       "      <td>analytics</td>\n",
       "      <td>2</td>\n",
       "      <td>0</td>\n",
       "      <td>1</td>\n",
       "      <td>0</td>\n",
       "      <td>0</td>\n",
       "      <td>92.7%</td>\n",
       "    </tr>\n",
       "    <tr>\n",
       "      <th>7</th>\n",
       "      <td>logo</td>\n",
       "      <td>2</td>\n",
       "      <td>0</td>\n",
       "      <td>1</td>\n",
       "      <td>0</td>\n",
       "      <td>1</td>\n",
       "      <td>84.21%</td>\n",
       "    </tr>\n",
       "    <tr>\n",
       "      <th>8</th>\n",
       "      <td>name_length</td>\n",
       "      <td>185</td>\n",
       "      <td>0</td>\n",
       "      <td>254</td>\n",
       "      <td>0</td>\n",
       "      <td>36</td>\n",
       "      <td>2.29%</td>\n",
       "    </tr>\n",
       "    <tr>\n",
       "      <th>9</th>\n",
       "      <td>object_id</td>\n",
       "      <td>14337</td>\n",
       "      <td>0</td>\n",
       "      <td>8792893</td>\n",
       "      <td>47146</td>\n",
       "      <td>47146</td>\n",
       "      <td>0.01%</td>\n",
       "    </tr>\n",
       "    <tr>\n",
       "      <th>10</th>\n",
       "      <td>map</td>\n",
       "      <td>2</td>\n",
       "      <td>0</td>\n",
       "      <td>1</td>\n",
       "      <td>0</td>\n",
       "      <td>1</td>\n",
       "      <td>84.42%</td>\n",
       "    </tr>\n",
       "    <tr>\n",
       "      <th>11</th>\n",
       "      <td>user_age</td>\n",
       "      <td>1597</td>\n",
       "      <td>0</td>\n",
       "      <td>3794</td>\n",
       "      <td>0</td>\n",
       "      <td>0</td>\n",
       "      <td>19.15%</td>\n",
       "    </tr>\n",
       "    <tr>\n",
       "      <th>12</th>\n",
       "      <td>member_created</td>\n",
       "      <td>10254</td>\n",
       "      <td>0</td>\n",
       "      <td>1381542918</td>\n",
       "      <td>1011210442</td>\n",
       "      <td>1259160686</td>\n",
       "      <td>0.33%</td>\n",
       "    </tr>\n",
       "    <tr>\n",
       "      <th>13</th>\n",
       "      <td>member_type</td>\n",
       "      <td>6</td>\n",
       "      <td>0</td>\n",
       "      <td>103</td>\n",
       "      <td>1</td>\n",
       "      <td>3</td>\n",
       "      <td>52.45%</td>\n",
       "    </tr>\n",
       "  </tbody>\n",
       "</table>\n",
       "</div>"
      ],
      "text/plain": [
       "              name Number of Unique Values Number of NaN         Max  \\\n",
       "0      body_length                    6595             0       65535   \n",
       "1         channels                      11             0          13   \n",
       "2     date_created                   14335             0  1382011776   \n",
       "3         end_date                    9655             0  1523055600   \n",
       "4       start_date                    9274             0  1418850000   \n",
       "5     fb_published                       2             0           1   \n",
       "6        analytics                       2             0           1   \n",
       "7             logo                       2             0           1   \n",
       "8      name_length                     185             0         254   \n",
       "9        object_id                   14337             0     8792893   \n",
       "10             map                       2             0           1   \n",
       "11        user_age                    1597             0        3794   \n",
       "12  member_created                   10254             0  1381542918   \n",
       "13     member_type                       6             0         103   \n",
       "\n",
       "           Min        Mode Frequency of Mode  \n",
       "0            0           0             5.78%  \n",
       "1            0           8            23.46%  \n",
       "2   1170332468  1365541045             0.01%  \n",
       "3   1170824400  1357034400              0.2%  \n",
       "4   1170819000  1357012800             0.27%  \n",
       "5            0           0            87.26%  \n",
       "6            0           0             92.7%  \n",
       "7            0           1            84.21%  \n",
       "8            0          36             2.29%  \n",
       "9        47146       47146             0.01%  \n",
       "10           0           1            84.42%  \n",
       "11           0           0            19.15%  \n",
       "12  1011210442  1259160686             0.33%  \n",
       "13           1           3            52.45%  "
      ]
     },
     "execution_count": 12,
     "metadata": {},
     "output_type": "execute_result"
    }
   ],
   "source": [
    "report(int_col).T"
   ]
  },
  {
   "cell_type": "markdown",
   "metadata": {},
   "source": [
    "#### We can use the summary information to determine what type of plot will best help us visualize the distribution of values in each column.  \n",
    "* **date_created, end_date, start_date, member_created :** In these four columns, we can see that both the minimum and maximum values have 10 digits. Combined with the column names, we can speculate that these columns contain Unix Timestamps. \n",
    "* **object_id :** Because the number of unique values, 14337, equals the number of rows, we can guess this column contains unique IDs assigned to each entry. \n",
    "* **body_length, name_length, user_age :**\n",
    "* **fb_published, analytics, logo, map :**\n",
    "* **member_type, channels :**"
   ]
  },
  {
   "cell_type": "markdown",
   "metadata": {},
   "source": [
    "### A - Continuous"
   ]
  },
  {
   "cell_type": "markdown",
   "metadata": {},
   "source": [
    "Here is a diagram to help interpret the upcoming boxplots: \n",
    "![Diagram to explain boxplots](images/boxplot.png \"Diagram to explain boxplots\")"
   ]
  },
  {
   "cell_type": "code",
   "execution_count": 13,
   "metadata": {},
   "outputs": [
    {
     "data": {
      "image/png": "[encoded data removed]",
      "text/plain": [
       "<Figure size 1152x576 with 3 Axes>"
      ]
     },
     "metadata": {
      "needs_background": "light"
     },
     "output_type": "display_data"
    }
   ],
   "source": [
    "cont_cols = ['body_length', 'name_length', 'user_age']\n",
    "fig, axs = plt.subplots(3,1, figsize =(16,8))\n",
    "for idx, ax in enumerate(axs.flatten()):    \n",
    "    ax.boxplot([data[data.fraud == True][cont_cols[idx]], data[data.fraud == False][cont_cols[idx]]], \n",
    "               labels=['fraud', 'not fraud'], flierprops=dict(marker='.', markersize=2, alpha=.5), vert=False,\n",
    "               whis=[5, 95])\n",
    "    ax.set_title(cont_cols[idx])\n",
    "plt.subplots_adjust(hspace = 0.6)"
   ]
  },
  {
   "cell_type": "markdown",
   "metadata": {},
   "source": [
    "### B - Categorical\n",
    "* ##### fb_published"
   ]
  },
  {
   "cell_type": "code",
   "execution_count": 14,
   "metadata": {
    "scrolled": false
   },
   "outputs": [
    {
     "data": {
      "text/plain": [
       "0    12510\n",
       "1     1827\n",
       "Name: fb_published, dtype: int64"
      ]
     },
     "execution_count": 14,
     "metadata": {},
     "output_type": "execute_result"
    }
   ],
   "source": [
    "data.fb_published.value_counts()"
   ]
  },
  {
   "cell_type": "markdown",
   "metadata": {},
   "source": [
    "The pandas method **value_counts( )** is handy, but we still don't have all of the information we'd like to know. We are also looking for any indication of a correlation between each column and our target column, 'fraud'. Look at the rate of fraud for each possible value of the column. Is the fraud rate different between values? We'll write a function **compare_fraud_rate** to answer this question. \n",
    "\n",
    "We're looking to discover instances where the rate of fraud is different for different column values, as this suggests the column may contribute to identifying fraud. That said, this is just an initial exploration. We don't yet know if the differences in fraud rate are statistically significant, and determining that is outside the scope of our EDA. "
   ]
  },
  {
   "cell_type": "code",
   "execution_count": 15,
   "metadata": {},
   "outputs": [],
   "source": [
    "def compare_fraud_rate(col):\n",
    "    n = len(data[col].unique())\n",
    "    s = 6\n",
    "    t = 100\n",
    "    if n > 2:\n",
    "        s += .5 * n\n",
    "        t /= 2\n",
    "    plt.subplots(figsize=(s,6))\n",
    "    ax = sns.countplot(x=col, hue='fraud', data=data)\n",
    "    for p in ax.patches:\n",
    "        if np.isnan(p.get_height()): \n",
    "            height = 0\n",
    "        else: \n",
    "            height = int(p.get_height())\n",
    "        pos = round(p.get_x()+p.get_width()/2,2)\n",
    "        ax.text(pos, height + t,f'{height}',\n",
    "                ha=\"center\") \n",
    "    ax.set_ylabel('Number of Occurences')\n",
    "    ax.set_xlabel(f'Value in \"{col}\"')\n",
    "    ax.set_title(f'Distribution of Values in Column:  \"{col}\"')\n",
    "    plt.show()\n",
    "    for f in sorted(data[col].unique()):\n",
    "        pct = data[data[col] == f].fraud.value_counts(normalize=True)\n",
    "        if len(pct) > 1:\n",
    "            print(f'The percentage of fraud for entries with {col} equal to {f} is {round(pct[1]*100, 2)}%')\n",
    "        elif pct.index==False:\n",
    "            print(f'The percentage of fraud for entries with {col} equal to {f} is 0%')\n",
    "        else:\n",
    "            print(f'The percentage of fraud for entries with {col} equal to {f} is 100%')"
   ]
  },
  {
   "cell_type": "code",
   "execution_count": 16,
   "metadata": {},
   "outputs": [
    {
     "data": {
      "image/png": "[encoded data removed]",
      "text/plain": [
       "<Figure size 432x432 with 1 Axes>"
      ]
     },
     "metadata": {
      "needs_background": "light"
     },
     "output_type": "display_data"
    },
    {
     "name": "stdout",
     "output_type": "stream",
     "text": [
      "The percentage of fraud for entries with fb_published equal to 0 is 10.1%\n",
      "The percentage of fraud for entries with fb_published equal to 1 is 1.59%\n"
     ]
    }
   ],
   "source": [
    "compare_fraud_rate('fb_published')"
   ]
  },
  {
   "cell_type": "markdown",
   "metadata": {},
   "source": [
    "* ##### analytics"
   ]
  },
  {
   "cell_type": "code",
   "execution_count": 17,
   "metadata": {
    "scrolled": true
   },
   "outputs": [
    {
     "data": {
      "text/plain": [
       "0    13290\n",
       "1     1047\n",
       "Name: analytics, dtype: int64"
      ]
     },
     "execution_count": 17,
     "metadata": {},
     "output_type": "execute_result"
    }
   ],
   "source": [
    "data.analytics.value_counts()"
   ]
  },
  {
   "cell_type": "code",
   "execution_count": 18,
   "metadata": {},
   "outputs": [
    {
     "data": {
      "image/png": "[encoded data removed]",
      "text/plain": [
       "<Figure size 432x432 with 1 Axes>"
      ]
     },
     "metadata": {
      "needs_background": "light"
     },
     "output_type": "display_data"
    },
    {
     "name": "stdout",
     "output_type": "stream",
     "text": [
      "The percentage of fraud for entries with analytics equal to 0 is 9.7%\n",
      "The percentage of fraud for entries with analytics equal to 1 is 0.38%\n"
     ]
    }
   ],
   "source": [
    "compare_fraud_rate('analytics')"
   ]
  },
  {
   "cell_type": "markdown",
   "metadata": {},
   "source": [
    "* ##### logo"
   ]
  },
  {
   "cell_type": "code",
   "execution_count": 19,
   "metadata": {
    "scrolled": true
   },
   "outputs": [
    {
     "data": {
      "text/plain": [
       "1    12073\n",
       "0     2264\n",
       "Name: logo, dtype: int64"
      ]
     },
     "execution_count": 19,
     "metadata": {},
     "output_type": "execute_result"
    }
   ],
   "source": [
    "data.logo.value_counts()"
   ]
  },
  {
   "cell_type": "code",
   "execution_count": 20,
   "metadata": {},
   "outputs": [
    {
     "data": {
      "image/png": "[encoded data removed]",
      "text/plain": [
       "<Figure size 432x432 with 1 Axes>"
      ]
     },
     "metadata": {
      "needs_background": "light"
     },
     "output_type": "display_data"
    },
    {
     "name": "stdout",
     "output_type": "stream",
     "text": [
      "The percentage of fraud for entries with logo equal to 0 is 20.23%\n",
      "The percentage of fraud for entries with logo equal to 1 is 6.92%\n"
     ]
    }
   ],
   "source": [
    "compare_fraud_rate('logo')"
   ]
  },
  {
   "cell_type": "markdown",
   "metadata": {},
   "source": [
    "* ##### map"
   ]
  },
  {
   "cell_type": "code",
   "execution_count": 21,
   "metadata": {},
   "outputs": [
    {
     "data": {
      "text/plain": [
       "1    12103\n",
       "0     2234\n",
       "Name: map, dtype: int64"
      ]
     },
     "execution_count": 21,
     "metadata": {},
     "output_type": "execute_result"
    }
   ],
   "source": [
    "data.map.value_counts()"
   ]
  },
  {
   "cell_type": "code",
   "execution_count": 22,
   "metadata": {},
   "outputs": [
    {
     "data": {
      "image/png": "[encoded data removed]",
      "text/plain": [
       "<Figure size 432x432 with 1 Axes>"
      ]
     },
     "metadata": {
      "needs_background": "light"
     },
     "output_type": "display_data"
    },
    {
     "name": "stdout",
     "output_type": "stream",
     "text": [
      "The percentage of fraud for entries with map equal to 0 is 14.1%\n",
      "The percentage of fraud for entries with map equal to 1 is 8.08%\n"
     ]
    }
   ],
   "source": [
    "compare_fraud_rate('map')"
   ]
  },
  {
   "cell_type": "markdown",
   "metadata": {},
   "source": [
    "* ##### member_type"
   ]
  },
  {
   "cell_type": "code",
   "execution_count": 23,
   "metadata": {
    "scrolled": false
   },
   "outputs": [
    {
     "data": {
      "text/plain": [
       "3      7520\n",
       "1      3738\n",
       "4      3017\n",
       "5        59\n",
       "103       2\n",
       "2         1\n",
       "Name: member_type, dtype: int64"
      ]
     },
     "execution_count": 23,
     "metadata": {},
     "output_type": "execute_result"
    }
   ],
   "source": [
    "data.member_type.value_counts()"
   ]
  },
  {
   "cell_type": "code",
   "execution_count": 24,
   "metadata": {},
   "outputs": [
    {
     "data": {
      "image/png": "[encoded data removed]",
      "text/plain": [
       "<Figure size 648x432 with 1 Axes>"
      ]
     },
     "metadata": {
      "needs_background": "light"
     },
     "output_type": "display_data"
    },
    {
     "name": "stdout",
     "output_type": "stream",
     "text": [
      "The percentage of fraud for entries with member_type equal to 1 is 24.83%\n",
      "The percentage of fraud for entries with member_type equal to 2 is 100%\n",
      "The percentage of fraud for entries with member_type equal to 3 is 3.92%\n",
      "The percentage of fraud for entries with member_type equal to 4 is 2.19%\n",
      "The percentage of fraud for entries with member_type equal to 5 is 5.08%\n",
      "The percentage of fraud for entries with member_type equal to 103 is 0%\n"
     ]
    }
   ],
   "source": [
    "compare_fraud_rate('member_type')"
   ]
  },
  {
   "cell_type": "markdown",
   "metadata": {},
   "source": [
    "* ##### channels"
   ]
  },
  {
   "cell_type": "code",
   "execution_count": 25,
   "metadata": {
    "scrolled": true
   },
   "outputs": [
    {
     "data": {
      "text/plain": [
       "8     3364\n",
       "0     2941\n",
       "5     2459\n",
       "11    2312\n",
       "6     1736\n",
       "4      556\n",
       "12     470\n",
       "10     237\n",
       "13     232\n",
       "9       20\n",
       "7       10\n",
       "Name: channels, dtype: int64"
      ]
     },
     "execution_count": 25,
     "metadata": {},
     "output_type": "execute_result"
    }
   ],
   "source": [
    "data.channels.value_counts()"
   ]
  },
  {
   "cell_type": "code",
   "execution_count": 26,
   "metadata": {
    "scrolled": false
   },
   "outputs": [
    {
     "data": {
      "image/png": "[encoded data removed]",
      "text/plain": [
       "<Figure size 828x432 with 1 Axes>"
      ]
     },
     "metadata": {
      "needs_background": "light"
     },
     "output_type": "display_data"
    },
    {
     "name": "stdout",
     "output_type": "stream",
     "text": [
      "The percentage of fraud for entries with channels equal to 0 is 19.25%\n",
      "The percentage of fraud for entries with channels equal to 4 is 4.5%\n",
      "The percentage of fraud for entries with channels equal to 5 is 9.35%\n",
      "The percentage of fraud for entries with channels equal to 6 is 9.33%\n",
      "The percentage of fraud for entries with channels equal to 7 is 20.0%\n",
      "The percentage of fraud for entries with channels equal to 8 is 3.24%\n",
      "The percentage of fraud for entries with channels equal to 9 is 5.0%\n",
      "The percentage of fraud for entries with channels equal to 10 is 3.38%\n",
      "The percentage of fraud for entries with channels equal to 11 is 6.19%\n",
      "The percentage of fraud for entries with channels equal to 12 is 3.4%\n",
      "The percentage of fraud for entries with channels equal to 13 is 13.36%\n"
     ]
    }
   ],
   "source": [
    "compare_fraud_rate('channels')"
   ]
  },
  {
   "cell_type": "code",
   "execution_count": 27,
   "metadata": {},
   "outputs": [],
   "source": [
    "int_cats = ['fb_published', 'analytics', 'logo', 'map', 'member_type', 'channels']"
   ]
  },
  {
   "cell_type": "code",
   "execution_count": 28,
   "metadata": {},
   "outputs": [],
   "source": [
    "cat_cols = cat_cols + int_cats"
   ]
  },
  {
   "cell_type": "markdown",
   "metadata": {},
   "source": [
    "## 2.2 Float Columns"
   ]
  },
  {
   "cell_type": "code",
   "execution_count": 29,
   "metadata": {},
   "outputs": [
    {
     "data": {
      "text/html": [
       "<div>\n",
       "<style scoped>\n",
       "    .dataframe tbody tr th:only-of-type {\n",
       "        vertical-align: middle;\n",
       "    }\n",
       "\n",
       "    .dataframe tbody tr th {\n",
       "        vertical-align: top;\n",
       "    }\n",
       "\n",
       "    .dataframe thead th {\n",
       "        text-align: right;\n",
       "    }\n",
       "</style>\n",
       "<table border=\"1\" class=\"dataframe\">\n",
       "  <thead>\n",
       "    <tr style=\"text-align: right;\">\n",
       "      <th></th>\n",
       "      <th>name</th>\n",
       "      <th>Number of Unique Values</th>\n",
       "      <th>Number of NaN</th>\n",
       "      <th>Max</th>\n",
       "      <th>Min</th>\n",
       "      <th>Mode</th>\n",
       "      <th>Frequency of Mode</th>\n",
       "    </tr>\n",
       "  </thead>\n",
       "  <tbody>\n",
       "    <tr>\n",
       "      <th>0</th>\n",
       "      <td>delivery_method</td>\n",
       "      <td>3</td>\n",
       "      <td>16</td>\n",
       "      <td>3</td>\n",
       "      <td>0</td>\n",
       "      <td>0</td>\n",
       "      <td>59.43%</td>\n",
       "    </tr>\n",
       "    <tr>\n",
       "      <th>1</th>\n",
       "      <td>date_published</td>\n",
       "      <td>14181</td>\n",
       "      <td>99</td>\n",
       "      <td>1.38161e+09</td>\n",
       "      <td>0</td>\n",
       "      <td>0</td>\n",
       "      <td>0.39%</td>\n",
       "    </tr>\n",
       "    <tr>\n",
       "      <th>2</th>\n",
       "      <td>header</td>\n",
       "      <td>2</td>\n",
       "      <td>5409</td>\n",
       "      <td>1</td>\n",
       "      <td>0</td>\n",
       "      <td>0</td>\n",
       "      <td>49.69%</td>\n",
       "    </tr>\n",
       "    <tr>\n",
       "      <th>3</th>\n",
       "      <td>org_facebook</td>\n",
       "      <td>81</td>\n",
       "      <td>59</td>\n",
       "      <td>91</td>\n",
       "      <td>0</td>\n",
       "      <td>0</td>\n",
       "      <td>56.48%</td>\n",
       "    </tr>\n",
       "    <tr>\n",
       "      <th>4</th>\n",
       "      <td>org_twitter</td>\n",
       "      <td>23</td>\n",
       "      <td>59</td>\n",
       "      <td>34</td>\n",
       "      <td>0</td>\n",
       "      <td>0</td>\n",
       "      <td>63.62%</td>\n",
       "    </tr>\n",
       "    <tr>\n",
       "      <th>5</th>\n",
       "      <td>sale_duration</td>\n",
       "      <td>375</td>\n",
       "      <td>155</td>\n",
       "      <td>980</td>\n",
       "      <td>-1094</td>\n",
       "      <td>0</td>\n",
       "      <td>2.51%</td>\n",
       "    </tr>\n",
       "    <tr>\n",
       "      <th>6</th>\n",
       "      <td>venue_latitude</td>\n",
       "      <td>10525</td>\n",
       "      <td>1076</td>\n",
       "      <td>64.844</td>\n",
       "      <td>-45.0452</td>\n",
       "      <td>0</td>\n",
       "      <td>3.19%</td>\n",
       "    </tr>\n",
       "    <tr>\n",
       "      <th>7</th>\n",
       "      <td>venue_longitude</td>\n",
       "      <td>10514</td>\n",
       "      <td>1076</td>\n",
       "      <td>176.169</td>\n",
       "      <td>-159.39</td>\n",
       "      <td>0</td>\n",
       "      <td>3.19%</td>\n",
       "    </tr>\n",
       "  </tbody>\n",
       "</table>\n",
       "</div>"
      ],
      "text/plain": [
       "              name Number of Unique Values Number of NaN          Max  \\\n",
       "0  delivery_method                       3            16            3   \n",
       "1   date_published                   14181            99  1.38161e+09   \n",
       "2           header                       2          5409            1   \n",
       "3     org_facebook                      81            59           91   \n",
       "4      org_twitter                      23            59           34   \n",
       "5    sale_duration                     375           155          980   \n",
       "6   venue_latitude                   10525          1076       64.844   \n",
       "7  venue_longitude                   10514          1076      176.169   \n",
       "\n",
       "       Min Mode Frequency of Mode  \n",
       "0        0    0            59.43%  \n",
       "1        0    0             0.39%  \n",
       "2        0    0            49.69%  \n",
       "3        0    0            56.48%  \n",
       "4        0    0            63.62%  \n",
       "5    -1094    0             2.51%  \n",
       "6 -45.0452    0             3.19%  \n",
       "7  -159.39    0             3.19%  "
      ]
     },
     "execution_count": 29,
     "metadata": {},
     "output_type": "execute_result"
    }
   ],
   "source": [
    "report(flt_col).T"
   ]
  },
  {
   "cell_type": "markdown",
   "metadata": {},
   "source": [
    "* org_facebook, org_twitter, sale_duration : continuous\n",
    "* header, delivery_method : categorical"
   ]
  },
  {
   "cell_type": "markdown",
   "metadata": {},
   "source": [
    "### A - Continuous"
   ]
  },
  {
   "cell_type": "code",
   "execution_count": 30,
   "metadata": {},
   "outputs": [],
   "source": [
    "#\n",
    "data.fillna({'org_facebook':0, 'org_twitter':0, 'sale_duration':0}, inplace=True)"
   ]
  },
  {
   "cell_type": "code",
   "execution_count": 31,
   "metadata": {},
   "outputs": [
    {
     "data": {
      "image/png": "[encoded data removed]",
      "text/plain": [
       "<Figure size 1152x576 with 3 Axes>"
      ]
     },
     "metadata": {
      "needs_background": "light"
     },
     "output_type": "display_data"
    }
   ],
   "source": [
    "float_cont = ['org_facebook', 'org_twitter', 'sale_duration']\n",
    "xranges = [[-3,100],[-1,35],[-200,1000]]\n",
    "fig, axs = plt.subplots(3,1, figsize =(16,8))\n",
    "for idx, ax in enumerate(axs.flatten()):    \n",
    "    ax.boxplot([data[data.fraud == True][float_cont[idx]], data[data.fraud == False][float_cont[idx]]], \n",
    "               labels=['fraud', 'not fraud'], flierprops=dict(marker='.', markersize=2, alpha=.5), vert=False,\n",
    "               whis=[5, 95])\n",
    "    ax.set_title(float_cont[idx])\n",
    "    ax.set_xlim(xranges[idx])\n",
    "plt.subplots_adjust(hspace = 0.6)"
   ]
  },
  {
   "cell_type": "markdown",
   "metadata": {},
   "source": [
    "### B - Categorical"
   ]
  },
  {
   "cell_type": "markdown",
   "metadata": {},
   "source": [
    "#### Take a closer look if the column appears categorical \n",
    "Look for columns with small numbers of unique values"
   ]
  },
  {
   "cell_type": "markdown",
   "metadata": {},
   "source": [
    "* #### Column :  \"delivery_method\""
   ]
  },
  {
   "cell_type": "code",
   "execution_count": 32,
   "metadata": {},
   "outputs": [
    {
     "data": {
      "text/plain": [
       "0.0    8520\n",
       "1.0    5554\n",
       "3.0     247\n",
       "Name: delivery_method, dtype: int64"
      ]
     },
     "execution_count": 32,
     "metadata": {},
     "output_type": "execute_result"
    }
   ],
   "source": [
    "data.delivery_method.value_counts()"
   ]
  },
  {
   "cell_type": "code",
   "execution_count": 33,
   "metadata": {},
   "outputs": [
    {
     "data": {
      "text/plain": [
       "0    8520\n",
       "1    5554\n",
       "3     247\n",
       "2      16\n",
       "Name: delivery_method, dtype: int64"
      ]
     },
     "execution_count": 33,
     "metadata": {},
     "output_type": "execute_result"
    }
   ],
   "source": [
    "data.delivery_method.fillna(2, inplace=True)\n",
    "data.delivery_method = data.delivery_method.astype(int)\n",
    "data.delivery_method.value_counts()"
   ]
  },
  {
   "cell_type": "code",
   "execution_count": 34,
   "metadata": {},
   "outputs": [
    {
     "data": {
      "image/png": "[encoded data removed]",
      "text/plain": [
       "<Figure size 576x432 with 1 Axes>"
      ]
     },
     "metadata": {
      "needs_background": "light"
     },
     "output_type": "display_data"
    },
    {
     "name": "stdout",
     "output_type": "stream",
     "text": [
      "The percentage of fraud for entries with delivery_method equal to 0 is 14.1%\n",
      "The percentage of fraud for entries with delivery_method equal to 1 is 1.31%\n",
      "The percentage of fraud for entries with delivery_method equal to 2 is 75.0%\n",
      "The percentage of fraud for entries with delivery_method equal to 3 is 2.83%\n"
     ]
    }
   ],
   "source": [
    "compare_fraud_rate('delivery_method')"
   ]
  },
  {
   "cell_type": "markdown",
   "metadata": {},
   "source": [
    "* #### Column :  \"header\""
   ]
  },
  {
   "cell_type": "code",
   "execution_count": 35,
   "metadata": {},
   "outputs": [
    {
     "data": {
      "text/plain": [
       "0.0    7124\n",
       "1.0    1804\n",
       "Name: header, dtype: int64"
      ]
     },
     "execution_count": 35,
     "metadata": {},
     "output_type": "execute_result"
    }
   ],
   "source": [
    "data.header.value_counts()"
   ]
  },
  {
   "cell_type": "code",
   "execution_count": 36,
   "metadata": {
    "scrolled": true
   },
   "outputs": [
    {
     "data": {
      "text/plain": [
       "0    7124\n",
       "2    5409\n",
       "1    1804\n",
       "Name: header, dtype: int64"
      ]
     },
     "execution_count": 36,
     "metadata": {},
     "output_type": "execute_result"
    }
   ],
   "source": [
    "data.header.fillna(2, inplace=True)\n",
    "data.header = data.header.astype(int)\n",
    "data.header.value_counts()"
   ]
  },
  {
   "cell_type": "code",
   "execution_count": 37,
   "metadata": {},
   "outputs": [
    {
     "data": {
      "image/png": "[encoded data removed]",
      "text/plain": [
       "<Figure size 540x432 with 1 Axes>"
      ]
     },
     "metadata": {
      "needs_background": "light"
     },
     "output_type": "display_data"
    },
    {
     "name": "stdout",
     "output_type": "stream",
     "text": [
      "The percentage of fraud for entries with header equal to 0 is 6.78%\n",
      "The percentage of fraud for entries with header equal to 1 is 2.0%\n",
      "The percentage of fraud for entries with header equal to 2 is 14.31%\n"
     ]
    }
   ],
   "source": [
    "compare_fraud_rate('header')"
   ]
  },
  {
   "cell_type": "code",
   "execution_count": 38,
   "metadata": {},
   "outputs": [],
   "source": [
    "cat_cols = cat_cols + ['delivery_method', 'header']"
   ]
  },
  {
   "cell_type": "markdown",
   "metadata": {},
   "source": [
    "## 2.3 String Columns\n",
    "Note: We can limit view to first three columns because all values for Max, Min, Mode, & Freq. of Mode are 'None' "
   ]
  },
  {
   "cell_type": "code",
   "execution_count": 39,
   "metadata": {},
   "outputs": [
    {
     "data": {
      "text/html": [
       "<div>\n",
       "<style scoped>\n",
       "    .dataframe tbody tr th:only-of-type {\n",
       "        vertical-align: middle;\n",
       "    }\n",
       "\n",
       "    .dataframe tbody tr th {\n",
       "        vertical-align: top;\n",
       "    }\n",
       "\n",
       "    .dataframe thead th {\n",
       "        text-align: right;\n",
       "    }\n",
       "</style>\n",
       "<table border=\"1\" class=\"dataframe\">\n",
       "  <thead>\n",
       "    <tr style=\"text-align: right;\">\n",
       "      <th></th>\n",
       "      <th>name</th>\n",
       "      <th>Number of Unique Values</th>\n",
       "      <th>Number of NaN</th>\n",
       "    </tr>\n",
       "  </thead>\n",
       "  <tbody>\n",
       "    <tr>\n",
       "      <th>0</th>\n",
       "      <td>country</td>\n",
       "      <td>70</td>\n",
       "      <td>399</td>\n",
       "    </tr>\n",
       "    <tr>\n",
       "      <th>1</th>\n",
       "      <td>currency</td>\n",
       "      <td>7</td>\n",
       "      <td>0</td>\n",
       "    </tr>\n",
       "    <tr>\n",
       "      <th>2</th>\n",
       "      <td>description</td>\n",
       "      <td>13094</td>\n",
       "      <td>829</td>\n",
       "    </tr>\n",
       "    <tr>\n",
       "      <th>3</th>\n",
       "      <td>email_domain</td>\n",
       "      <td>5772</td>\n",
       "      <td>0</td>\n",
       "    </tr>\n",
       "    <tr>\n",
       "      <th>4</th>\n",
       "      <td>listed</td>\n",
       "      <td>2</td>\n",
       "      <td>0</td>\n",
       "    </tr>\n",
       "    <tr>\n",
       "      <th>5</th>\n",
       "      <td>name</td>\n",
       "      <td>13938</td>\n",
       "      <td>86</td>\n",
       "    </tr>\n",
       "    <tr>\n",
       "      <th>6</th>\n",
       "      <td>org_desc</td>\n",
       "      <td>5844</td>\n",
       "      <td>6165</td>\n",
       "    </tr>\n",
       "    <tr>\n",
       "      <th>7</th>\n",
       "      <td>org_name</td>\n",
       "      <td>9500</td>\n",
       "      <td>1462</td>\n",
       "    </tr>\n",
       "    <tr>\n",
       "      <th>8</th>\n",
       "      <td>payee_name</td>\n",
       "      <td>2480</td>\n",
       "      <td>11160</td>\n",
       "    </tr>\n",
       "    <tr>\n",
       "      <th>9</th>\n",
       "      <td>payout_method</td>\n",
       "      <td>2</td>\n",
       "      <td>493</td>\n",
       "    </tr>\n",
       "    <tr>\n",
       "      <th>10</th>\n",
       "      <td>past_payouts</td>\n",
       "      <td>9540</td>\n",
       "      <td>0</td>\n",
       "    </tr>\n",
       "    <tr>\n",
       "      <th>11</th>\n",
       "      <td>ticket_groups</td>\n",
       "      <td>14250</td>\n",
       "      <td>0</td>\n",
       "    </tr>\n",
       "    <tr>\n",
       "      <th>12</th>\n",
       "      <td>venue_address</td>\n",
       "      <td>10141</td>\n",
       "      <td>2171</td>\n",
       "    </tr>\n",
       "    <tr>\n",
       "      <th>13</th>\n",
       "      <td>venue_country</td>\n",
       "      <td>67</td>\n",
       "      <td>1954</td>\n",
       "    </tr>\n",
       "    <tr>\n",
       "      <th>14</th>\n",
       "      <td>venue_name</td>\n",
       "      <td>9786</td>\n",
       "      <td>3057</td>\n",
       "    </tr>\n",
       "    <tr>\n",
       "      <th>15</th>\n",
       "      <td>venue_state</td>\n",
       "      <td>441</td>\n",
       "      <td>3701</td>\n",
       "    </tr>\n",
       "  </tbody>\n",
       "</table>\n",
       "</div>"
      ],
      "text/plain": [
       "             name Number of Unique Values Number of NaN\n",
       "0         country                      70           399\n",
       "1        currency                       7             0\n",
       "2     description                   13094           829\n",
       "3    email_domain                    5772             0\n",
       "4          listed                       2             0\n",
       "5            name                   13938            86\n",
       "6        org_desc                    5844          6165\n",
       "7        org_name                    9500          1462\n",
       "8      payee_name                    2480         11160\n",
       "9   payout_method                       2           493\n",
       "10   past_payouts                    9540             0\n",
       "11  ticket_groups                   14250             0\n",
       "12  venue_address                   10141          2171\n",
       "13  venue_country                      67          1954\n",
       "14     venue_name                    9786          3057\n",
       "15    venue_state                     441          3701"
      ]
     },
     "execution_count": 39,
     "metadata": {},
     "output_type": "execute_result"
    }
   ],
   "source": [
    "report(str_col).iloc[:3,:].T"
   ]
  },
  {
   "cell_type": "markdown",
   "metadata": {},
   "source": [
    "* #### listed"
   ]
  },
  {
   "cell_type": "code",
   "execution_count": 40,
   "metadata": {},
   "outputs": [
    {
     "data": {
      "text/plain": [
       "y    12291\n",
       "n     2046\n",
       "Name: listed, dtype: int64"
      ]
     },
     "execution_count": 40,
     "metadata": {},
     "output_type": "execute_result"
    }
   ],
   "source": [
    "data.listed.value_counts()"
   ]
  },
  {
   "cell_type": "code",
   "execution_count": 41,
   "metadata": {},
   "outputs": [],
   "source": [
    "data.listed.replace({'y':1, 'n':0}, inplace=True)"
   ]
  },
  {
   "cell_type": "code",
   "execution_count": 42,
   "metadata": {},
   "outputs": [
    {
     "data": {
      "image/png": "[encoded data removed]",
      "text/plain": [
       "<Figure size 432x432 with 1 Axes>"
      ]
     },
     "metadata": {
      "needs_background": "light"
     },
     "output_type": "display_data"
    },
    {
     "name": "stdout",
     "output_type": "stream",
     "text": [
      "The percentage of fraud for entries with listed equal to 0 is 10.61%\n",
      "The percentage of fraud for entries with listed equal to 1 is 8.75%\n"
     ]
    }
   ],
   "source": [
    "compare_fraud_rate('listed')"
   ]
  },
  {
   "cell_type": "markdown",
   "metadata": {},
   "source": [
    "* #### payout_method"
   ]
  },
  {
   "cell_type": "code",
   "execution_count": 43,
   "metadata": {
    "scrolled": true
   },
   "outputs": [
    {
     "data": {
      "text/plain": [
       "ACH      10666\n",
       "CHECK     3178\n",
       "Name: payout_method, dtype: int64"
      ]
     },
     "execution_count": 43,
     "metadata": {},
     "output_type": "execute_result"
    }
   ],
   "source": [
    "data.payout_method.value_counts()"
   ]
  },
  {
   "cell_type": "code",
   "execution_count": 44,
   "metadata": {},
   "outputs": [],
   "source": [
    "data.payout_method.fillna(\"\", inplace=True)\n",
    "data.payout_method.replace({\"ACH\": 0, \"CHECK\": 1, \"\": 2}, inplace=True)"
   ]
  },
  {
   "cell_type": "code",
   "execution_count": 45,
   "metadata": {},
   "outputs": [
    {
     "data": {
      "image/png": "[encoded data removed]",
      "text/plain": [
       "<Figure size 540x432 with 1 Axes>"
      ]
     },
     "metadata": {
      "needs_background": "light"
     },
     "output_type": "display_data"
    },
    {
     "name": "stdout",
     "output_type": "stream",
     "text": [
      "The percentage of fraud for entries with payout_method equal to 0 is 7.61%\n",
      "The percentage of fraud for entries with payout_method equal to 1 is 0.94%\n",
      "The percentage of fraud for entries with payout_method equal to 2 is 91.48%\n"
     ]
    }
   ],
   "source": [
    "compare_fraud_rate('payout_method')"
   ]
  },
  {
   "cell_type": "markdown",
   "metadata": {},
   "source": [
    "* #### currency"
   ]
  },
  {
   "cell_type": "code",
   "execution_count": 46,
   "metadata": {
    "scrolled": true
   },
   "outputs": [
    {
     "data": {
      "text/plain": [
       "USD    9696\n",
       "GBP    2222\n",
       "CAD    1322\n",
       "AUD     779\n",
       "EUR     262\n",
       "NZD      55\n",
       "MXN       1\n",
       "Name: currency, dtype: int64"
      ]
     },
     "execution_count": 46,
     "metadata": {},
     "output_type": "execute_result"
    }
   ],
   "source": [
    "data.currency.value_counts()"
   ]
  },
  {
   "cell_type": "code",
   "execution_count": 47,
   "metadata": {},
   "outputs": [
    {
     "data": {
      "image/png": "[encoded data removed]",
      "text/plain": [
       "<Figure size 684x432 with 1 Axes>"
      ]
     },
     "metadata": {
      "needs_background": "light"
     },
     "output_type": "display_data"
    },
    {
     "name": "stdout",
     "output_type": "stream",
     "text": [
      "The percentage of fraud for entries with currency equal to AUD is 1.54%\n",
      "The percentage of fraud for entries with currency equal to CAD is 3.18%\n",
      "The percentage of fraud for entries with currency equal to EUR is 14.12%\n",
      "The percentage of fraud for entries with currency equal to GBP is 15.44%\n",
      "The percentage of fraud for entries with currency equal to MXN is 100%\n",
      "The percentage of fraud for entries with currency equal to NZD is 0%\n",
      "The percentage of fraud for entries with currency equal to USD is 8.85%\n"
     ]
    }
   ],
   "source": [
    "compare_fraud_rate('currency')"
   ]
  },
  {
   "cell_type": "markdown",
   "metadata": {},
   "source": [
    "* #### country"
   ]
  },
  {
   "cell_type": "code",
   "execution_count": 48,
   "metadata": {},
   "outputs": [],
   "source": [
    "country_dict = {k:v for v, k in enumerate(list(data.country.unique()))}\n",
    "data.country.replace(country_dict, inplace=True)"
   ]
  },
  {
   "cell_type": "code",
   "execution_count": 49,
   "metadata": {},
   "outputs": [
    {
     "data": {
      "text/plain": [
       "0     9234\n",
       "4     2083\n",
       "3     1262\n",
       "6      742\n",
       "5      399\n",
       "12      73\n",
       "1       48\n",
       "14      47\n",
       "9       43\n",
       "2       40\n",
       "Name: country, dtype: int64"
      ]
     },
     "execution_count": 49,
     "metadata": {},
     "output_type": "execute_result"
    }
   ],
   "source": [
    "data.country.value_counts()[:10]"
   ]
  },
  {
   "cell_type": "markdown",
   "metadata": {},
   "source": [
    "### Review of the categorical features you identified "
   ]
  },
  {
   "cell_type": "code",
   "execution_count": 50,
   "metadata": {},
   "outputs": [],
   "source": [
    "cat_cols = cat_cols + ['listed', 'payout_method', 'currency', 'country']"
   ]
  },
  {
   "cell_type": "code",
   "execution_count": 51,
   "metadata": {},
   "outputs": [
    {
     "data": {
      "text/html": [
       "<div>\n",
       "<style scoped>\n",
       "    .dataframe tbody tr th:only-of-type {\n",
       "        vertical-align: middle;\n",
       "    }\n",
       "\n",
       "    .dataframe tbody tr th {\n",
       "        vertical-align: top;\n",
       "    }\n",
       "\n",
       "    .dataframe thead th {\n",
       "        text-align: right;\n",
       "    }\n",
       "</style>\n",
       "<table border=\"1\" class=\"dataframe\">\n",
       "  <thead>\n",
       "    <tr style=\"text-align: right;\">\n",
       "      <th></th>\n",
       "      <th>name</th>\n",
       "      <th>Number of Unique Values</th>\n",
       "      <th>Number of NaN</th>\n",
       "      <th>Max</th>\n",
       "      <th>Min</th>\n",
       "      <th>Mode</th>\n",
       "      <th>Frequency of Mode</th>\n",
       "    </tr>\n",
       "  </thead>\n",
       "  <tbody>\n",
       "    <tr>\n",
       "      <th>0</th>\n",
       "      <td>fb_published</td>\n",
       "      <td>2</td>\n",
       "      <td>0</td>\n",
       "      <td>1</td>\n",
       "      <td>0</td>\n",
       "      <td>0</td>\n",
       "      <td>87.26%</td>\n",
       "    </tr>\n",
       "    <tr>\n",
       "      <th>1</th>\n",
       "      <td>analytics</td>\n",
       "      <td>2</td>\n",
       "      <td>0</td>\n",
       "      <td>1</td>\n",
       "      <td>0</td>\n",
       "      <td>0</td>\n",
       "      <td>92.7%</td>\n",
       "    </tr>\n",
       "    <tr>\n",
       "      <th>2</th>\n",
       "      <td>logo</td>\n",
       "      <td>2</td>\n",
       "      <td>0</td>\n",
       "      <td>1</td>\n",
       "      <td>0</td>\n",
       "      <td>1</td>\n",
       "      <td>84.21%</td>\n",
       "    </tr>\n",
       "    <tr>\n",
       "      <th>3</th>\n",
       "      <td>map</td>\n",
       "      <td>2</td>\n",
       "      <td>0</td>\n",
       "      <td>1</td>\n",
       "      <td>0</td>\n",
       "      <td>1</td>\n",
       "      <td>84.42%</td>\n",
       "    </tr>\n",
       "    <tr>\n",
       "      <th>4</th>\n",
       "      <td>member_type</td>\n",
       "      <td>6</td>\n",
       "      <td>0</td>\n",
       "      <td>103</td>\n",
       "      <td>1</td>\n",
       "      <td>3</td>\n",
       "      <td>52.45%</td>\n",
       "    </tr>\n",
       "    <tr>\n",
       "      <th>5</th>\n",
       "      <td>channels</td>\n",
       "      <td>11</td>\n",
       "      <td>0</td>\n",
       "      <td>13</td>\n",
       "      <td>0</td>\n",
       "      <td>8</td>\n",
       "      <td>23.46%</td>\n",
       "    </tr>\n",
       "    <tr>\n",
       "      <th>6</th>\n",
       "      <td>delivery_method</td>\n",
       "      <td>4</td>\n",
       "      <td>0</td>\n",
       "      <td>3</td>\n",
       "      <td>0</td>\n",
       "      <td>0</td>\n",
       "      <td>59.43%</td>\n",
       "    </tr>\n",
       "    <tr>\n",
       "      <th>7</th>\n",
       "      <td>header</td>\n",
       "      <td>3</td>\n",
       "      <td>0</td>\n",
       "      <td>2</td>\n",
       "      <td>0</td>\n",
       "      <td>0</td>\n",
       "      <td>49.69%</td>\n",
       "    </tr>\n",
       "    <tr>\n",
       "      <th>8</th>\n",
       "      <td>listed</td>\n",
       "      <td>2</td>\n",
       "      <td>0</td>\n",
       "      <td>1</td>\n",
       "      <td>0</td>\n",
       "      <td>1</td>\n",
       "      <td>85.73%</td>\n",
       "    </tr>\n",
       "    <tr>\n",
       "      <th>9</th>\n",
       "      <td>payout_method</td>\n",
       "      <td>3</td>\n",
       "      <td>0</td>\n",
       "      <td>2</td>\n",
       "      <td>0</td>\n",
       "      <td>0</td>\n",
       "      <td>74.39%</td>\n",
       "    </tr>\n",
       "    <tr>\n",
       "      <th>10</th>\n",
       "      <td>currency</td>\n",
       "      <td>7</td>\n",
       "      <td>0</td>\n",
       "      <td>70</td>\n",
       "      <td>0</td>\n",
       "      <td>0</td>\n",
       "      <td>64.41%</td>\n",
       "    </tr>\n",
       "    <tr>\n",
       "      <th>11</th>\n",
       "      <td>country</td>\n",
       "      <td>71</td>\n",
       "      <td>0</td>\n",
       "      <td>None</td>\n",
       "      <td>None</td>\n",
       "      <td>None</td>\n",
       "      <td>None</td>\n",
       "    </tr>\n",
       "  </tbody>\n",
       "</table>\n",
       "</div>"
      ],
      "text/plain": [
       "               name Number of Unique Values Number of NaN   Max   Min  Mode  \\\n",
       "0      fb_published                       2             0     1     0     0   \n",
       "1         analytics                       2             0     1     0     0   \n",
       "2              logo                       2             0     1     0     1   \n",
       "3               map                       2             0     1     0     1   \n",
       "4       member_type                       6             0   103     1     3   \n",
       "5          channels                      11             0    13     0     8   \n",
       "6   delivery_method                       4             0     3     0     0   \n",
       "7            header                       3             0     2     0     0   \n",
       "8            listed                       2             0     1     0     1   \n",
       "9     payout_method                       3             0     2     0     0   \n",
       "10         currency                       7             0    70     0     0   \n",
       "11          country                      71             0  None  None  None   \n",
       "\n",
       "   Frequency of Mode  \n",
       "0             87.26%  \n",
       "1              92.7%  \n",
       "2             84.21%  \n",
       "3             84.42%  \n",
       "4             52.45%  \n",
       "5             23.46%  \n",
       "6             59.43%  \n",
       "7             49.69%  \n",
       "8             85.73%  \n",
       "9             74.39%  \n",
       "10            64.41%  \n",
       "11              None  "
      ]
     },
     "execution_count": 51,
     "metadata": {},
     "output_type": "execute_result"
    }
   ],
   "source": [
    "report(cat_cols).T"
   ]
  }
 ],
 "metadata": {
  "kernelspec": {
   "display_name": "Python 3",
   "language": "python",
   "name": "python3"
  },
  "language_info": {
   "codemirror_mode": {
    "name": "ipython",
    "version": 3
   },
   "file_extension": ".py",
   "mimetype": "text/x-python",
   "name": "python",
   "nbconvert_exporter": "python",
   "pygments_lexer": "ipython3",
   "version": "3.7.1"
  }
 },
 "nbformat": 4,
 "nbformat_minor": 2
}

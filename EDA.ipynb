{
 "cells": [
  {
   "cell_type": "code",
   "execution_count": null,
   "metadata": {},
   "outputs": [],
   "source": [
    "''' Use this to load data in other files'''\n",
    "# data = pd.read_csv(\"data/clean_data.csv\", index_col=0)\n",
    "# target = pd.read_csv('data/target.csv', index_col=0)\n",
    "# target.head()\n",
    "# data['target'] = target['fraud']"
   ]
  },
  {
   "cell_type": "code",
   "execution_count": 2,
   "metadata": {},
   "outputs": [],
   "source": [
    "import pandas as pd\n",
    "import numpy as np\n",
    "import matplotlib.pyplot as plt\n",
    "import re\n",
    "from collections import Counter\n",
    "from sklearn.ensemble import RandomForestClassifier\n",
    "from sklearn.model_selection import train_test_split\n",
    "from sklearn.metrics import auc, confusion_matrix, roc_auc_score, roc_curve, precision_score, recall_score, precision_recall_curve, classification_report\n",
    "from sklearn.experimental import enable_iterative_imputer \n",
    "from sklearn.impute import SimpleImputer, IterativeImputer, MissingIndicator\n",
    "\n",
    "%matplotlib inline"
   ]
  },
  {
   "cell_type": "markdown",
   "metadata": {},
   "source": [
    "### Load data & view top few rows"
   ]
  },
  {
   "cell_type": "code",
   "execution_count": 18,
   "metadata": {},
   "outputs": [],
   "source": [
    "data_raw = pd.read_csv(\"data/raw_data.csv\")"
   ]
  },
  {
   "cell_type": "code",
   "execution_count": 4,
   "metadata": {},
   "outputs": [
    {
     "data": {
      "text/html": [
       "<div>\n",
       "<style scoped>\n",
       "    .dataframe tbody tr th:only-of-type {\n",
       "        vertical-align: middle;\n",
       "    }\n",
       "\n",
       "    .dataframe tbody tr th {\n",
       "        vertical-align: top;\n",
       "    }\n",
       "\n",
       "    .dataframe thead th {\n",
       "        text-align: right;\n",
       "    }\n",
       "</style>\n",
       "<table border=\"1\" class=\"dataframe\">\n",
       "  <thead>\n",
       "    <tr style=\"text-align: right;\">\n",
       "      <th></th>\n",
       "      <th>acct_type</th>\n",
       "      <th>approx_payout_date</th>\n",
       "      <th>body_length</th>\n",
       "      <th>channels</th>\n",
       "      <th>country</th>\n",
       "      <th>currency</th>\n",
       "      <th>delivery_method</th>\n",
       "      <th>description</th>\n",
       "      <th>email_domain</th>\n",
       "      <th>event_created</th>\n",
       "      <th>event_end</th>\n",
       "      <th>event_published</th>\n",
       "      <th>event_start</th>\n",
       "      <th>fb_published</th>\n",
       "      <th>gts</th>\n",
       "    </tr>\n",
       "  </thead>\n",
       "  <tbody>\n",
       "    <tr>\n",
       "      <th>0</th>\n",
       "      <td>fraudster_event</td>\n",
       "      <td>1266062400</td>\n",
       "      <td>3852</td>\n",
       "      <td>5</td>\n",
       "      <td>US</td>\n",
       "      <td>USD</td>\n",
       "      <td>0.0</td>\n",
       "      <td>&lt;p&gt;&lt;a href=\"http://s432.photobucket.com/albums...</td>\n",
       "      <td>gmail.com</td>\n",
       "      <td>1262739706</td>\n",
       "      <td>1265630400</td>\n",
       "      <td>1.263110e+09</td>\n",
       "      <td>1265594400</td>\n",
       "      <td>0</td>\n",
       "      <td>0.00</td>\n",
       "    </tr>\n",
       "    <tr>\n",
       "      <th>1</th>\n",
       "      <td>premium</td>\n",
       "      <td>1296720000</td>\n",
       "      <td>3499</td>\n",
       "      <td>0</td>\n",
       "      <td>US</td>\n",
       "      <td>USD</td>\n",
       "      <td>1.0</td>\n",
       "      <td>&lt;p&gt;Join us for a quick, one-night, community-b...</td>\n",
       "      <td>ruf.org</td>\n",
       "      <td>1293832670</td>\n",
       "      <td>1296288000</td>\n",
       "      <td>1.293833e+09</td>\n",
       "      <td>1296255600</td>\n",
       "      <td>0</td>\n",
       "      <td>868.02</td>\n",
       "    </tr>\n",
       "    <tr>\n",
       "      <th>2</th>\n",
       "      <td>premium</td>\n",
       "      <td>1296172800</td>\n",
       "      <td>2601</td>\n",
       "      <td>8</td>\n",
       "      <td>US</td>\n",
       "      <td>USD</td>\n",
       "      <td>1.0</td>\n",
       "      <td>&lt;h3&gt;&lt;span class=\"subcategory\"&gt;&lt;strong&gt;Teacher ...</td>\n",
       "      <td>pvsd.k12.ca.us</td>\n",
       "      <td>1291090956</td>\n",
       "      <td>1295740800</td>\n",
       "      <td>1.291092e+09</td>\n",
       "      <td>1295713800</td>\n",
       "      <td>0</td>\n",
       "      <td>3500.00</td>\n",
       "    </tr>\n",
       "  </tbody>\n",
       "</table>\n",
       "</div>"
      ],
      "text/plain": [
       "         acct_type  approx_payout_date  body_length  channels country  \\\n",
       "0  fraudster_event          1266062400         3852         5      US   \n",
       "1          premium          1296720000         3499         0      US   \n",
       "2          premium          1296172800         2601         8      US   \n",
       "\n",
       "  currency  delivery_method  \\\n",
       "0      USD              0.0   \n",
       "1      USD              1.0   \n",
       "2      USD              1.0   \n",
       "\n",
       "                                         description    email_domain  \\\n",
       "0  <p><a href=\"http://s432.photobucket.com/albums...       gmail.com   \n",
       "1  <p>Join us for a quick, one-night, community-b...         ruf.org   \n",
       "2  <h3><span class=\"subcategory\"><strong>Teacher ...  pvsd.k12.ca.us   \n",
       "\n",
       "   event_created   event_end  event_published  event_start  fb_published  \\\n",
       "0     1262739706  1265630400     1.263110e+09   1265594400             0   \n",
       "1     1293832670  1296288000     1.293833e+09   1296255600             0   \n",
       "2     1291090956  1295740800     1.291092e+09   1295713800             0   \n",
       "\n",
       "       gts  \n",
       "0     0.00  \n",
       "1   868.02  \n",
       "2  3500.00  "
      ]
     },
     "execution_count": 4,
     "metadata": {},
     "output_type": "execute_result"
    }
   ],
   "source": [
    "data_raw.iloc[:,:15].head(3)"
   ]
  },
  {
   "cell_type": "code",
   "execution_count": 5,
   "metadata": {},
   "outputs": [
    {
     "data": {
      "text/html": [
       "<div>\n",
       "<style scoped>\n",
       "    .dataframe tbody tr th:only-of-type {\n",
       "        vertical-align: middle;\n",
       "    }\n",
       "\n",
       "    .dataframe tbody tr th {\n",
       "        vertical-align: top;\n",
       "    }\n",
       "\n",
       "    .dataframe thead th {\n",
       "        text-align: right;\n",
       "    }\n",
       "</style>\n",
       "<table border=\"1\" class=\"dataframe\">\n",
       "  <thead>\n",
       "    <tr style=\"text-align: right;\">\n",
       "      <th></th>\n",
       "      <th>has_analytics</th>\n",
       "      <th>has_header</th>\n",
       "      <th>has_logo</th>\n",
       "      <th>listed</th>\n",
       "      <th>name</th>\n",
       "      <th>name_length</th>\n",
       "      <th>num_order</th>\n",
       "      <th>num_payouts</th>\n",
       "      <th>object_id</th>\n",
       "      <th>org_desc</th>\n",
       "      <th>org_facebook</th>\n",
       "      <th>org_name</th>\n",
       "      <th>org_twitter</th>\n",
       "      <th>payee_name</th>\n",
       "      <th>payout_type</th>\n",
       "    </tr>\n",
       "  </thead>\n",
       "  <tbody>\n",
       "    <tr>\n",
       "      <th>0</th>\n",
       "      <td>0</td>\n",
       "      <td>1.0</td>\n",
       "      <td>0</td>\n",
       "      <td>y</td>\n",
       "      <td>99 HOUR \"NO SLEEP\" SUPER BOWL CELEBRITY WEEKEN...</td>\n",
       "      <td>60</td>\n",
       "      <td>0</td>\n",
       "      <td>0</td>\n",
       "      <td>527017</td>\n",
       "      <td></td>\n",
       "      <td>0.0</td>\n",
       "      <td>Party Starz Ent &amp; Diverse Int'l Group</td>\n",
       "      <td>0.0</td>\n",
       "      <td></td>\n",
       "      <td></td>\n",
       "    </tr>\n",
       "    <tr>\n",
       "      <th>1</th>\n",
       "      <td>0</td>\n",
       "      <td>0.0</td>\n",
       "      <td>1</td>\n",
       "      <td>n</td>\n",
       "      <td>Winthrop RUF Winter Getaway</td>\n",
       "      <td>27</td>\n",
       "      <td>23</td>\n",
       "      <td>1</td>\n",
       "      <td>786878</td>\n",
       "      <td>&lt;p&gt;Since 1987, RUF has ministered to students ...</td>\n",
       "      <td>0.0</td>\n",
       "      <td>RUF at Winthrop University</td>\n",
       "      <td>12.0</td>\n",
       "      <td>RUF</td>\n",
       "      <td>CHECK</td>\n",
       "    </tr>\n",
       "    <tr>\n",
       "      <th>2</th>\n",
       "      <td>0</td>\n",
       "      <td>NaN</td>\n",
       "      <td>0</td>\n",
       "      <td>y</td>\n",
       "      <td>DRDP (2010) Teacher Training</td>\n",
       "      <td>28</td>\n",
       "      <td>19</td>\n",
       "      <td>4</td>\n",
       "      <td>787337</td>\n",
       "      <td>&lt;p&gt;&lt;a href=\"http://www.desiredresults.com\"&gt;www...</td>\n",
       "      <td>0.0</td>\n",
       "      <td>University Preparation School in collaboration...</td>\n",
       "      <td>0.0</td>\n",
       "      <td>University Preparation School</td>\n",
       "      <td>CHECK</td>\n",
       "    </tr>\n",
       "  </tbody>\n",
       "</table>\n",
       "</div>"
      ],
      "text/plain": [
       "   has_analytics  has_header  has_logo listed  \\\n",
       "0              0         1.0         0      y   \n",
       "1              0         0.0         1      n   \n",
       "2              0         NaN         0      y   \n",
       "\n",
       "                                                name  name_length  num_order  \\\n",
       "0  99 HOUR \"NO SLEEP\" SUPER BOWL CELEBRITY WEEKEN...           60          0   \n",
       "1                        Winthrop RUF Winter Getaway           27         23   \n",
       "2                       DRDP (2010) Teacher Training           28         19   \n",
       "\n",
       "   num_payouts  object_id                                           org_desc  \\\n",
       "0            0     527017                                                      \n",
       "1            1     786878  <p>Since 1987, RUF has ministered to students ...   \n",
       "2            4     787337  <p><a href=\"http://www.desiredresults.com\">www...   \n",
       "\n",
       "   org_facebook                                           org_name  \\\n",
       "0           0.0              Party Starz Ent & Diverse Int'l Group   \n",
       "1           0.0                         RUF at Winthrop University   \n",
       "2           0.0  University Preparation School in collaboration...   \n",
       "\n",
       "   org_twitter                     payee_name payout_type  \n",
       "0          0.0                                             \n",
       "1         12.0                            RUF       CHECK  \n",
       "2          0.0  University Preparation School       CHECK  "
      ]
     },
     "execution_count": 5,
     "metadata": {},
     "output_type": "execute_result"
    }
   ],
   "source": [
    "data_raw.iloc[:,15:30].head(3)"
   ]
  },
  {
   "cell_type": "code",
   "execution_count": 6,
   "metadata": {},
   "outputs": [
    {
     "data": {
      "text/html": [
       "<div>\n",
       "<style scoped>\n",
       "    .dataframe tbody tr th:only-of-type {\n",
       "        vertical-align: middle;\n",
       "    }\n",
       "\n",
       "    .dataframe tbody tr th {\n",
       "        vertical-align: top;\n",
       "    }\n",
       "\n",
       "    .dataframe thead th {\n",
       "        text-align: right;\n",
       "    }\n",
       "</style>\n",
       "<table border=\"1\" class=\"dataframe\">\n",
       "  <thead>\n",
       "    <tr style=\"text-align: right;\">\n",
       "      <th></th>\n",
       "      <th>previous_payouts</th>\n",
       "      <th>sale_duration</th>\n",
       "      <th>sale_duration2</th>\n",
       "      <th>show_map</th>\n",
       "      <th>ticket_types</th>\n",
       "      <th>user_age</th>\n",
       "      <th>user_created</th>\n",
       "      <th>user_type</th>\n",
       "      <th>venue_address</th>\n",
       "      <th>venue_country</th>\n",
       "      <th>venue_latitude</th>\n",
       "      <th>venue_longitude</th>\n",
       "      <th>venue_name</th>\n",
       "      <th>venue_state</th>\n",
       "    </tr>\n",
       "  </thead>\n",
       "  <tbody>\n",
       "    <tr>\n",
       "      <th>0</th>\n",
       "      <td>[]</td>\n",
       "      <td>29.0</td>\n",
       "      <td>33</td>\n",
       "      <td>1</td>\n",
       "      <td>[{'event_id': 527017, 'cost': 25.0, 'availabil...</td>\n",
       "      <td>36</td>\n",
       "      <td>1259613950</td>\n",
       "      <td>1</td>\n",
       "      <td>717 Washington Avenue</td>\n",
       "      <td>US</td>\n",
       "      <td>25.777471</td>\n",
       "      <td>-80.133433</td>\n",
       "      <td>INK Nightclub - South Beach</td>\n",
       "      <td>FL</td>\n",
       "    </tr>\n",
       "    <tr>\n",
       "      <th>1</th>\n",
       "      <td>[{'name': 'RUF', 'created': '2010-10-01 01:10:...</td>\n",
       "      <td>28.0</td>\n",
       "      <td>28</td>\n",
       "      <td>0</td>\n",
       "      <td>[{'event_id': 786878, 'cost': 35.0, 'availabil...</td>\n",
       "      <td>149</td>\n",
       "      <td>1280942776</td>\n",
       "      <td>3</td>\n",
       "      <td></td>\n",
       "      <td>US</td>\n",
       "      <td>32.776566</td>\n",
       "      <td>-79.930922</td>\n",
       "      <td>The Charleston, SC area</td>\n",
       "      <td>SC</td>\n",
       "    </tr>\n",
       "    <tr>\n",
       "      <th>2</th>\n",
       "      <td>[{'name': 'Danielle Severn', 'created': '2010-...</td>\n",
       "      <td>54.0</td>\n",
       "      <td>54</td>\n",
       "      <td>0</td>\n",
       "      <td>[{'event_id': 787337, 'cost': 93.51, 'availabi...</td>\n",
       "      <td>214</td>\n",
       "      <td>1272559388</td>\n",
       "      <td>3</td>\n",
       "      <td>10100 Pioneer Blvd Suite 100</td>\n",
       "      <td>US</td>\n",
       "      <td>33.944201</td>\n",
       "      <td>-118.080419</td>\n",
       "      <td>Los Angeles County Office of Education</td>\n",
       "      <td>CA</td>\n",
       "    </tr>\n",
       "  </tbody>\n",
       "</table>\n",
       "</div>"
      ],
      "text/plain": [
       "                                    previous_payouts  sale_duration  \\\n",
       "0                                                 []           29.0   \n",
       "1  [{'name': 'RUF', 'created': '2010-10-01 01:10:...           28.0   \n",
       "2  [{'name': 'Danielle Severn', 'created': '2010-...           54.0   \n",
       "\n",
       "   sale_duration2  show_map  \\\n",
       "0              33         1   \n",
       "1              28         0   \n",
       "2              54         0   \n",
       "\n",
       "                                        ticket_types  user_age  user_created  \\\n",
       "0  [{'event_id': 527017, 'cost': 25.0, 'availabil...        36    1259613950   \n",
       "1  [{'event_id': 786878, 'cost': 35.0, 'availabil...       149    1280942776   \n",
       "2  [{'event_id': 787337, 'cost': 93.51, 'availabi...       214    1272559388   \n",
       "\n",
       "   user_type                 venue_address venue_country  venue_latitude  \\\n",
       "0          1         717 Washington Avenue            US       25.777471   \n",
       "1          3                                          US       32.776566   \n",
       "2          3  10100 Pioneer Blvd Suite 100            US       33.944201   \n",
       "\n",
       "   venue_longitude                              venue_name venue_state  \n",
       "0       -80.133433             INK Nightclub - South Beach          FL  \n",
       "1       -79.930922                 The Charleston, SC area          SC  \n",
       "2      -118.080419  Los Angeles County Office of Education          CA  "
      ]
     },
     "execution_count": 6,
     "metadata": {},
     "output_type": "execute_result"
    }
   ],
   "source": [
    "data_raw.iloc[:,30:].head(3)"
   ]
  },
  {
   "cell_type": "markdown",
   "metadata": {},
   "source": [
    "### Use the 'acct_type' column to create the target column. "
   ]
  },
  {
   "cell_type": "code",
   "execution_count": 7,
   "metadata": {},
   "outputs": [],
   "source": [
    "# True = fraud   & False = not fraud\n",
    "data_raw[\"fraud\"] = data_raw[\"acct_type\"].str.contains(\"fraud\")"
   ]
  },
  {
   "cell_type": "markdown",
   "metadata": {},
   "source": [
    "## Initial cleaning of dataframe\n",
    "\n",
    "### Remove 'leaky' columns from training data\n",
    "We are using past data to train a model to predict cases of fraud among future data. The original dataset includes columns with information that will not be available for future data. These columns need to be excluded from analysis to eliminate information leakage."
   ]
  },
  {
   "cell_type": "code",
   "execution_count": 7,
   "metadata": {},
   "outputs": [],
   "source": [
    "'''\n",
    "test_data_columns lists the fields of information that will be included for 'future' data\n",
    "'''\n",
    "test_data_fields = ['body_length', 'channels', 'country', 'currency', 'delivery_method', 'description', \n",
    "                     'email_domain', 'event_created', 'event_end', 'event_published', 'event_start', \n",
    "                     'fb_published', 'has_analytics', 'has_header', 'has_logo', 'listed', 'name', 'name_length', \n",
    "                     'object_id', 'org_desc', 'org_facebook', 'org_name', 'org_twitter', 'payee_name', \n",
    "                     'payout_type', 'previous_payouts', 'sale_duration', 'show_map', 'ticket_types', 'user_age', \n",
    "                     'user_created', 'user_type', 'venue_address', 'venue_country', 'venue_latitude', \n",
    "                     'venue_longitude', 'venue_name', 'venue_state', 'sequence_number']\n"
   ]
  },
  {
   "cell_type": "code",
   "execution_count": 8,
   "metadata": {},
   "outputs": [],
   "source": [
    "example = {'body_length': 4545,         \n",
    "        'channels': 8, \n",
    "        'country': 'US', 'currency': 'USD', 'delivery_method': 1.0, \n",
    "        'description': 'see below'\n",
    "        '''\n",
    "        <div style=\"color: #222222; font-family: Calibri, sans-serif; font-size: \n",
    "        15.555556297302246px;\">\\r\\n<div class=\"im\" style=\"color: #500050;\">\\r\\n<p><span style=\"font-size: \n",
    "        large; color: #000000;\"><strong><span style=\"vertical-align: baseline; white-space: pre-wrap;\">Please \n",
    "        register here for the Winter 2013 Quarter of Shoreline Women\\'s Midweek Study. &nbsp;</span></strong>\n",
    "        </span><br /><br /><span style=\"vertical-align: baseline; white-space: pre-wrap; color: #000000;\">Winter \n",
    "        2013 Quarter is January-March.&nbsp;</span></p>\\r\\n</div>\\r\\n<p><span style=\"vertical-align: baseline;\n",
    "        white-space: pre-wrap;\">We will begin on Tuesday, January 8 and meet weekly through Tuesday, March 26\n",
    "        (no meeting February 19). &nbsp;</span></p>\\r\\n<p><span style=\"vertical-align: baseline; white-space: \n",
    "        pre-wrap;\">Please join us at the Mars Hill Shoreline building from 9:15 am &ndash; 11:15 am every Tuesday.\n",
    "        </span><span style=\"font-size: 15.555556297302246px;\">&nbsp;</span></p>\\r\\n<blockquote>\\r\\n<div>Jan 8 \n",
    "        &nbsp;Week 1&nbsp;</div>\\r\\n<div>Jan 15 &nbsp;Week 2</div>\\r\\n<div>Jan 22 &nbsp;Week 3</div>\\r\\n<div>\n",
    "        Jan 29 &nbsp;Week 4</div>\\r\\n<div>Feb 5 &nbsp;Week 5</div>\\r\\n<div>Feb 12 &nbsp;Week 6</div>\\r\\n<div>Feb \n",
    "        19 (no meeting)</div>\\r\\n<div>Feb 26 &nbsp;Week 7</div>\\r\\n<div>March 5 &nbsp; Week 8</div>\\r\\n<div>March \n",
    "        12 &nbsp;Week 9</div>\\r\\n<div>March 19 &nbsp;Week 10</div>\\r\\n<div>March 26 &nbsp;Week 11</div>\\r\\n</\n",
    "        blockquote>\\r\\n<div style=\"color: #222222; font-family: Calibri, sans-serif; font-size: 15.555556297302246\n",
    "        px;\"><span style=\"vertical-align: baseline; white-space: pre-wrap;\">We will be studying the New Testament \n",
    "        book of Ephesians alongside Pastor Mark&rsquo;s sermon series entitled </span><span style=\"font-style: \n",
    "        italic; vertical-align: baseline; white-space: pre-wrap;\">Who Do You Think You Are?</span><span style=\n",
    "        \"vertical-align: baseline; white-space: pre-wrap;\"> We will be using an inductive study guide written \n",
    "        just for you by a team of Mars Hill women. The guide is included in the registration fee. Please bring \n",
    "        your own journal for personal notes. </span><span style=\"vertical-align: baseline; white-space: pre-wrap;\"\n",
    "        >We&rsquo;re looking forward to digging into Ephesians together!</span></div>\\r\\n<div style=\"color: \n",
    "        #222222; font-family: Calibri, sans-serif; font-size: 15.555556297302246px;\"><span style=\"font-size: \n",
    "        15.555556297302246px;\">&nbsp;</span></div>\\r\\n<div class=\"im\" style=\"color: #500050;\"><span style=\"color: \n",
    "        #000000;\"><strong style=\"font-size: 15.555556297302246px;\"><span style=\"vertical-align: baseline; \n",
    "        white-space: pre-wrap;\">WMS Fall quarter cost:</span></strong></span><br /><span style=\"color: #000000;\">\n",
    "        <strong><span style=\"vertical-align: baseline; white-space: pre-wrap;\">$45 with childcare</span></strong>\n",
    "        </span><br /><span style=\"color: #000000;\"><strong><span style=\"vertical-align: baseline; white-space:\n",
    "        pre-wrap;\">$20 without childcare</span></strong></span></div>\\r\\n<div class=\"im\" style=\"color: #500050;\">\n",
    "        <span style=\"color: #000000;\"><strong><span style=\"vertical-align: baseline; white-space: pre-wrap;\"><br\n",
    "        /></span></strong></span></div>\\r\\n<div class=\"im\" style=\"color: #500050;\"><span style=\"vertical-align: \n",
    "        baseline; white-space: pre-wrap; color: #000000;\">**Women who are qualified to serve in MH Kids agree to \n",
    "        serve with their table group on a rotating schedule. &nbsp;If you are not yet qualified to serve in MH\n",
    "        Kids, we will work with you so that you can become qualified. &nbsp;Please let us know how we can help \n",
    "        you.</span></div>\\r\\n<div class=\"im\" style=\"color: #500050;\"><span style=\"color: #222222; font-size: \n",
    "        15.555556297302246px;\">&nbsp;</span></div>\\r\\n</div>\\r\\n<div style=\"color: #222222; font-family: Calibri, \n",
    "        sans-serif; font-size: 15.555556297302246px;\"><span style=\"white-space: pre-wrap;\">WE ARE HIRING CHILDCARE\n",
    "        STAFF! &nbsp;If you or anyone you know is interested in a paid child care position ($10 per hour), please \n",
    "        contact Anie </span><span style=\"white-space: pre-wrap;\">McDugle,</span>&nbsp;<span style=\"white-space: \n",
    "        pre-wrap;\"><a style=\"color: #1155cc;\" href=\"mailto:aniemcdugle@gmail.com\" target=\"_blank\">aniemcdugle@gmail.com\n",
    "        </a></span><span style=\"white-space: pre-wrap;\">, ASAP!</span></div>\\r\\n<div style=\"color: #222222; font-family:\n",
    "        Calibri, sans-serif; font-size: 15.555556297302246px;\"><span style=\"white-space: pre-wrap;\"><br /></span></div>\n",
    "        \\r\\n<div style=\"color: #222222; font-family: Calibri, sans-serif; font-size: 15.555556297302246px;\"><span style=\n",
    "        \"white-space: pre-wrap;\">Thank </span><span style=\"white-space: pre-wrap;\">you!</span></div>\\r\\n<div><span style=\n",
    "        \"white-space: pre-wrap;\"><br /></span></div>\n",
    "        ''', \n",
    "        'email_domain': 'marshill.com', \n",
    "        'event_created': 1353116126, \n",
    "        'event_end': 1364338800, \n",
    "        'event_published': 1353439856.0, \n",
    "        'event_start': 1357678800, \n",
    "        'fb_published': 0, \n",
    "        'has_analytics': 0,\n",
    "        'has_header': None, \n",
    "        'has_logo': 0, \n",
    "        'listed': 'y', \n",
    "        'name': \"MHC Shoreline | Winter Women's Midweek Study\", \n",
    "        'name_length': 44, \n",
    "        'object_id': 4848389, \n",
    "        'org_desc': '', \n",
    "        'org_facebook': 11.0, \n",
    "        'org_name': 'Mars Hill Church', \n",
    "        'org_twitter': 12.0, \n",
    "        'payee_name': '', \n",
    "        'payout_type': 'ACH', \n",
    "        'previous_payouts': [{'name': 'Mars Hill Church', \n",
    "                              'created': '2012-09-19 03:15:34', \n",
    "                              'country': 'US', \n",
    "                              'amount': 691.26, \n",
    "                              'state': 'WA', \n",
    "                              'address': '1411 NW 50th St.', \n",
    "                              'uid': 31585653, \n",
    "                              'event': 4229228, \n",
    "                              'zip_code': '98107'}, \n",
    "                             {'name': 'Mars Hill Church', 'created': '2012-09-20 03:17:31', 'country': 'US', \n",
    "                              'amount': 465.1, 'state': 'WA', 'address': '1411 NW 50th St.', 'uid': 31585653, \n",
    "                              'event': 4316924, 'zip_code': '98107'}, \n",
    "                             {'name': 'Mars Hill Church', 'created': '2012-09-27 03:17:50', 'country': 'US', \n",
    "                              'amount': 24897.14, 'state': 'WA', 'address': '1411 NW 50th St.', 'uid': 31585653, \n",
    "                              'event': 3378773, 'zip_code': '98107'}, \n",
    "                             {'name': 'Mars Hill Church', 'created': '2012-11-01 03:18:41', 'country': 'US', \n",
    "                              'amount': 1376.0, 'state': 'WA', 'address': '1411 NW 50th St.', 'uid': 31585653, \n",
    "                              'event': 4218954, 'zip_code': '98107'}, \n",
    "                             {'name': 'Mars Hill Church', 'created': '2012-11-08 03:20:14', 'country': 'US', \n",
    "                              'amount': 8280.0, 'state': 'WA', 'address': '1411 NW 50th St.', 'uid': 31585653, \n",
    "                              'event': 4158462, 'zip_code': '98107'}], \n",
    "        'sale_duration': 49.0, \n",
    "        'show_map': 0, \n",
    "        'ticket_types': [{'event_id': 4848389, \n",
    "                          'cost': 45.0, \n",
    "                          'availability': 1, \n",
    "                          'quantity_total': 80},\n",
    "                         {'event_id': 4848389, 'cost': 20.0, 'availability': 1, 'quantity_total': 50}, \n",
    "                         {'event_id': 4848389, 'cost': 0.0, 'availability': 1, 'quantity_total': 6}], \n",
    "        'user_age': 212, \n",
    "        'user_created': 1334773300, \n",
    "        'user_type': 1, \n",
    "        'venue_address': '', \n",
    "        'venue_country': None, \n",
    "        'venue_latitude': None, \n",
    "        'venue_longitude': None, \n",
    "        'venue_name': None, \n",
    "        'venue_state': None, \n",
    "        'sequence_number': 2940}"
   ]
  },
  {
   "cell_type": "code",
   "execution_count": 353,
   "metadata": {},
   "outputs": [],
   "source": [
    "# eliminate columns that won't appear in test data\n",
    "#data_raw.drop(['acct_type', 'approx_payout_date', 'gts', 'num_order', 'num_payouts'], axis=1, inplace=True)\n",
    "data = data_raw.copy()"
   ]
  },
  {
   "cell_type": "markdown",
   "metadata": {},
   "source": [
    "### Time stuff"
   ]
  },
  {
   "cell_type": "code",
   "execution_count": null,
   "metadata": {},
   "outputs": [],
   "source": []
  },
  {
   "cell_type": "code",
   "execution_count": null,
   "metadata": {},
   "outputs": [],
   "source": []
  },
  {
   "cell_type": "code",
   "execution_count": 366,
   "metadata": {
    "scrolled": true
   },
   "outputs": [],
   "source": [
    "data[[\"event_created\", \"event_published\", \"event_start\", \"event_end\"]]\n",
    "# data['c_minus_p'] = data.event_created - data.event_published\n",
    "# data['c_minus_s'] = data.event_created - data.event_start\n",
    "# data['c_minus_e'] = data.event_created - data.event_end\n",
    "# data['p_minus_s'] = data.event_published - data.event_start\n",
    "# data['p_minus_e'] = data.event_published - data.event_end\n",
    "data['s_minus_e'] = data.event_created - data.event_start"
   ]
  },
  {
   "cell_type": "code",
   "execution_count": null,
   "metadata": {},
   "outputs": [],
   "source": []
  },
  {
   "cell_type": "code",
   "execution_count": 369,
   "metadata": {},
   "outputs": [
    {
     "data": {
      "image/png": "[encoded data removed]",
      "text/plain": [
       "<Figure size 576x576 with 1 Axes>"
      ]
     },
     "metadata": {
      "needs_background": "light"
     },
     "output_type": "display_data"
    },
    {
     "data": {
      "image/png": "[encoded data removed]",
      "text/plain": [
       "<Figure size 576x576 with 1 Axes>"
      ]
     },
     "metadata": {
      "needs_background": "light"
     },
     "output_type": "display_data"
    }
   ],
   "source": [
    "data.boxplot(column=['s_minus_e'], by='fraud', figsize=(8,8), showfliers=False);\n",
    "data.boxplot(column=['sale_duration'], by='fraud', figsize=(8,8), showfliers=False);"
   ]
  },
  {
   "cell_type": "code",
   "execution_count": null,
   "metadata": {},
   "outputs": [],
   "source": []
  },
  {
   "cell_type": "markdown",
   "metadata": {},
   "source": [
    "### Identify categorical features & reformat"
   ]
  },
  {
   "cell_type": "code",
   "execution_count": 321,
   "metadata": {},
   "outputs": [
    {
     "data": {
      "text/plain": [
       "has_analytics       2\n",
       "has_header          2\n",
       "has_logo            2\n",
       "show_map            2\n",
       "fb_published        2\n",
       "delivery_method     3\n",
       "user_type           6\n",
       "currency            7\n",
       "channels           11\n",
       "org_twitter        23\n",
       "venue_country      69\n",
       "country            72\n",
       "org_facebook       81\n",
       "dtype: int64"
      ]
     },
     "execution_count": 321,
     "metadata": {},
     "output_type": "execute_result"
    }
   ],
   "source": [
    "### How many unique values are in the column?\n",
    "\n",
    "data_raw[['has_analytics', 'has_header', 'has_logo', 'show_map', 'fb_published', \n",
    "      'delivery_method','user_type', 'currency', 'channels', 'org_twitter', \n",
    "      'venue_country', 'country', 'org_facebook']].nunique()"
   ]
  },
  {
   "cell_type": "code",
   "execution_count": 345,
   "metadata": {},
   "outputs": [],
   "source": [
    "### 'listed' column : replace 'y' with 1, replace 'n' with 0\n",
    "data.listed.replace({\"y\":1, \"n\": 0}, inplace=True)\n",
    "#df.listed = df.listed.astype('category')\n",
    "\n",
    "### 'payout_type' column : \"ACH\" = 0, \"CHECK\" = 1, \"\" = 2\n",
    "data.payout_type.replace({\"ACH\": 0, \"CHECK\": 1, \"\": 2}, inplace=True)\n",
    "#df.payout_type = df.payout_type.astype('category', inplace=True)\n",
    "\n",
    "### 'currency' column : [AUD, CAD, EUR, GBP, MXN, NZD, USD]\n",
    "### 'currency' column : [AUD, CAD, EUR, GBP, MXN, NZD, USD]\n",
    "currency_list = ['AUD', 'CAD', 'EUR', 'GBP', 'MXN', 'NZD', 'USD']\n",
    "currency_codes = {k:v for v, k in enumerate(currency_list)}\n",
    "data.currency.replace(currency_codes, inplace=True)"
   ]
  },
  {
   "cell_type": "markdown",
   "metadata": {},
   "source": [
    "### Filling null values "
   ]
  },
  {
   "cell_type": "code",
   "execution_count": 12,
   "metadata": {},
   "outputs": [
    {
     "data": {
      "text/plain": [
       "country              81\n",
       "delivery_method      16\n",
       "event_published      99\n",
       "has_header         5409\n",
       "org_facebook         59\n",
       "org_twitter          59\n",
       "sale_duration       155\n",
       "venue_country      1076\n",
       "venue_latitude     1076\n",
       "venue_longitude    1076\n",
       "venue_name         1076\n",
       "venue_state        1076\n",
       "dtype: int64"
      ]
     },
     "execution_count": 12,
     "metadata": {},
     "output_type": "execute_result"
    }
   ],
   "source": [
    "### Identify columns with null values, and display null count\n",
    "data.count()[data.count() < 14337].apply(lambda x: 14337 - x)"
   ]
  },
  {
   "cell_type": "code",
   "execution_count": 13,
   "metadata": {},
   "outputs": [],
   "source": [
    "sd = data[\"sale_duration\"].mean()\n",
    "data.sale_duration = data.sale_duration.fillna(sd).astype(int)"
   ]
  },
  {
   "cell_type": "code",
   "execution_count": 14,
   "metadata": {},
   "outputs": [],
   "source": [
    "fb = data.org_facebook.mean()\n",
    "data.org_facebook = data.org_facebook.fillna(fb).astype(int)\n",
    "\n",
    "tw = data.org_twitter.mean()\n",
    "data.org_twitter = data.org_twitter.fillna(tw).astype(int)\n",
    "\n",
    "data.delivery_method = data.delivery_method.fillna(2).astype(int)"
   ]
  },
  {
   "cell_type": "code",
   "execution_count": 1,
   "metadata": {},
   "outputs": [
    {
     "ename": "NameError",
     "evalue": "name 'plt' is not defined",
     "output_type": "error",
     "traceback": [
      "\u001b[0;31m---------------------------------------------------------------------------\u001b[0m",
      "\u001b[0;31mNameError\u001b[0m                                 Traceback (most recent call last)",
      "\u001b[0;32m<ipython-input-1-dae06fa31c2a>\u001b[0m in \u001b[0;36m<module>\u001b[0;34m\u001b[0m\n\u001b[0;32m----> 1\u001b[0;31m \u001b[0mplt\u001b[0m\u001b[0;34m.\u001b[0m\u001b[0msubplots\u001b[0m\u001b[0;34m(\u001b[0m\u001b[0;36m1\u001b[0m\u001b[0;34m,\u001b[0m\u001b[0;36m3\u001b[0m\u001b[0;34m)\u001b[0m\u001b[0;34m\u001b[0m\u001b[0;34m\u001b[0m\u001b[0m\n\u001b[0m\u001b[1;32m      2\u001b[0m \u001b[0mdata\u001b[0m\u001b[0;34m.\u001b[0m\u001b[0mboxplot\u001b[0m\u001b[0;34m(\u001b[0m\u001b[0mcolumn\u001b[0m\u001b[0;34m=\u001b[0m\u001b[0;34m[\u001b[0m\u001b[0;34m'org_facebook'\u001b[0m\u001b[0;34m,\u001b[0m \u001b[0;34m'org_twitter'\u001b[0m\u001b[0;34m,\u001b[0m \u001b[0;34m'sale_duration'\u001b[0m\u001b[0;34m]\u001b[0m\u001b[0;34m,\u001b[0m \u001b[0mby\u001b[0m\u001b[0;34m=\u001b[0m\u001b[0;34m'fraud'\u001b[0m\u001b[0;34m,\u001b[0m \u001b[0mfigsize\u001b[0m\u001b[0;34m=\u001b[0m\u001b[0;34m(\u001b[0m\u001b[0;36m8\u001b[0m\u001b[0;34m,\u001b[0m\u001b[0;36m8\u001b[0m\u001b[0;34m)\u001b[0m\u001b[0;34m,\u001b[0m \u001b[0mshowfliers\u001b[0m\u001b[0;34m=\u001b[0m\u001b[0;32mFalse\u001b[0m\u001b[0;34m)\u001b[0m\u001b[0;34m;\u001b[0m\u001b[0;34m\u001b[0m\u001b[0;34m\u001b[0m\u001b[0m\n",
      "\u001b[0;31mNameError\u001b[0m: name 'plt' is not defined"
     ]
    }
   ],
   "source": [
    "plt.subplots(1,3)\n",
    "data.boxplot(column=['org_facebook', 'org_twitter', 'sale_duration'], by='fraud', figsize=(8,8), showfliers=False);"
   ]
  },
  {
   "cell_type": "code",
   "execution_count": 16,
   "metadata": {},
   "outputs": [
    {
     "data": {
      "text/plain": [
       "(7.974436195545595, 4.3069757669141335, 46.86969397828233)"
      ]
     },
     "execution_count": 16,
     "metadata": {},
     "output_type": "execute_result"
    }
   ],
   "source": [
    "fb, tw, sd"
   ]
  },
  {
   "cell_type": "markdown",
   "metadata": {},
   "source": [
    "## Feature Engineering\n",
    "\n",
    "\n",
    "<span style=\"color:magenta\">\n",
    "Note: 'previous_payouts' and 'ticket_types' are dictionaries; some of information is \n",
    "not available for future data, so these columns ....\n",
    "</span>"
   ]
  },
  {
   "cell_type": "markdown",
   "metadata": {},
   "source": [
    "### Process 'ticket_types' entries"
   ]
  },
  {
   "cell_type": "code",
   "execution_count": 19,
   "metadata": {},
   "outputs": [],
   "source": [
    "''' \n",
    "Sample Ticket Type entry : \n",
    "\n",
    "    \"[{'event_id': 4848389, 'cost': 45.0, 'availability': 1, 'quantity_total': 80},\n",
    "    {'event_id': 4848389, 'cost': 20.0, 'availability': 1, 'quantity_total': 50}, \n",
    "    {'event_id': 4848389, 'cost': 0.0, 'availability': 1, 'quantity_total': 6}]\"\n",
    "    \n",
    "'''\n",
    "def ticket_types(df): \n",
    "    #import ast\n",
    "    \n",
    "    tt_col = df['ticket_types']\n",
    "    num_tiers = []\n",
    "    num_tickets = []\n",
    "    average_price = []\n",
    "    \n",
    "    for row in tt_col:\n",
    "        #row = ast.literal_eval(row)\n",
    "        num_tiers.append(len(row))\n",
    "        quant = []\n",
    "        price = []\n",
    "        for dct in row:\n",
    "            quant.append(dct['quantity_total'])\n",
    "            price.append(dct['cost'])\n",
    "        arr = np.array([quant, price])\n",
    "        average_price.append(np.round((arr[0] * arr[1]).sum()/arr[1].sum(), 2))\n",
    "        num_tickets.append(int(arr[1].sum()))\n",
    "        \n",
    "    df[\"num_tiers\"] = num_tiers\n",
    "    df[\"tickets_available\"] = num_tickets\n",
    "    df[\"average_ticket_price\"] = average_price "
   ]
  },
  {
   "cell_type": "code",
   "execution_count": 20,
   "metadata": {},
   "outputs": [
    {
     "name": "stderr",
     "output_type": "stream",
     "text": [
      "/Users/Kelly/anaconda3/lib/python3.7/site-packages/ipykernel_launcher.py:26: RuntimeWarning: invalid value encountered in double_scalars\n"
     ]
    }
   ],
   "source": [
    "ticket_types(data)"
   ]
  },
  {
   "cell_type": "code",
   "execution_count": 21,
   "metadata": {},
   "outputs": [
    {
     "data": {
      "text/html": [
       "<div>\n",
       "<style scoped>\n",
       "    .dataframe tbody tr th:only-of-type {\n",
       "        vertical-align: middle;\n",
       "    }\n",
       "\n",
       "    .dataframe tbody tr th {\n",
       "        vertical-align: top;\n",
       "    }\n",
       "\n",
       "    .dataframe thead th {\n",
       "        text-align: right;\n",
       "    }\n",
       "</style>\n",
       "<table border=\"1\" class=\"dataframe\">\n",
       "  <thead>\n",
       "    <tr style=\"text-align: right;\">\n",
       "      <th></th>\n",
       "      <th>num_tiers</th>\n",
       "      <th>tickets_available</th>\n",
       "      <th>average_ticket_price</th>\n",
       "    </tr>\n",
       "  </thead>\n",
       "  <tbody>\n",
       "    <tr>\n",
       "      <th>0</th>\n",
       "      <td>3</td>\n",
       "      <td>625</td>\n",
       "      <td>57.60</td>\n",
       "    </tr>\n",
       "    <tr>\n",
       "      <th>1</th>\n",
       "      <td>2</td>\n",
       "      <td>70</td>\n",
       "      <td>50.00</td>\n",
       "    </tr>\n",
       "    <tr>\n",
       "      <th>2</th>\n",
       "      <td>1</td>\n",
       "      <td>93</td>\n",
       "      <td>48.00</td>\n",
       "    </tr>\n",
       "    <tr>\n",
       "      <th>3</th>\n",
       "      <td>6</td>\n",
       "      <td>82</td>\n",
       "      <td>5000.00</td>\n",
       "    </tr>\n",
       "    <tr>\n",
       "      <th>4</th>\n",
       "      <td>8</td>\n",
       "      <td>814</td>\n",
       "      <td>35.13</td>\n",
       "    </tr>\n",
       "  </tbody>\n",
       "</table>\n",
       "</div>"
      ],
      "text/plain": [
       "   num_tiers  tickets_available  average_ticket_price\n",
       "0          3                625                 57.60\n",
       "1          2                 70                 50.00\n",
       "2          1                 93                 48.00\n",
       "3          6                 82               5000.00\n",
       "4          8                814                 35.13"
      ]
     },
     "execution_count": 21,
     "metadata": {},
     "output_type": "execute_result"
    }
   ],
   "source": [
    "data[['num_tiers', 'tickets_available', 'average_ticket_price']].head()"
   ]
  },
  {
   "cell_type": "markdown",
   "metadata": {},
   "source": [
    "### Process 'previous_payouts' entries"
   ]
  },
  {
   "cell_type": "code",
   "execution_count": 371,
   "metadata": {},
   "outputs": [],
   "source": [
    "def previous_payouts(df):\n",
    "    pp_col_value = df.previous_payouts\n",
    "    avg_payouts = []\n",
    "    num_payouts = []\n",
    "    \n",
    "    for row in pp_col_value:\n",
    "        num_payouts.append(len(row))\n",
    "\n",
    "        if len(row) > 0:\n",
    "            amount = 0\n",
    "            for dct in row:\n",
    "                \n",
    "                amount += dct['amount']\n",
    "            avg_payouts.append(np.round(amount/len(row), 2))\n",
    "\n",
    "        else:\n",
    "            avg_payouts.append(0)\n",
    "    df[\"avg_previous_payouts\"] = avg_payouts\n",
    "    df[\"num_previous_payouts\"] = num_payouts"
   ]
  },
  {
   "cell_type": "code",
   "execution_count": 372,
   "metadata": {},
   "outputs": [],
   "source": [
    "previous_payouts(data)"
   ]
  },
  {
   "cell_type": "code",
   "execution_count": 373,
   "metadata": {
    "scrolled": true
   },
   "outputs": [
    {
     "data": {
      "text/html": [
       "<div>\n",
       "<style scoped>\n",
       "    .dataframe tbody tr th:only-of-type {\n",
       "        vertical-align: middle;\n",
       "    }\n",
       "\n",
       "    .dataframe tbody tr th {\n",
       "        vertical-align: top;\n",
       "    }\n",
       "\n",
       "    .dataframe thead th {\n",
       "        text-align: right;\n",
       "    }\n",
       "</style>\n",
       "<table border=\"1\" class=\"dataframe\">\n",
       "  <thead>\n",
       "    <tr style=\"text-align: right;\">\n",
       "      <th></th>\n",
       "      <th>avg_previous_payouts</th>\n",
       "      <th>num_previous_payouts</th>\n",
       "    </tr>\n",
       "  </thead>\n",
       "  <tbody>\n",
       "    <tr>\n",
       "      <th>0</th>\n",
       "      <td>0.00</td>\n",
       "      <td>0</td>\n",
       "    </tr>\n",
       "    <tr>\n",
       "      <th>1</th>\n",
       "      <td>16394.36</td>\n",
       "      <td>49</td>\n",
       "    </tr>\n",
       "    <tr>\n",
       "      <th>2</th>\n",
       "      <td>1508.40</td>\n",
       "      <td>36</td>\n",
       "    </tr>\n",
       "    <tr>\n",
       "      <th>3</th>\n",
       "      <td>208.78</td>\n",
       "      <td>21</td>\n",
       "    </tr>\n",
       "    <tr>\n",
       "      <th>4</th>\n",
       "      <td>263.57</td>\n",
       "      <td>49</td>\n",
       "    </tr>\n",
       "  </tbody>\n",
       "</table>\n",
       "</div>"
      ],
      "text/plain": [
       "   avg_previous_payouts  num_previous_payouts\n",
       "0                  0.00                     0\n",
       "1              16394.36                    49\n",
       "2               1508.40                    36\n",
       "3                208.78                    21\n",
       "4                263.57                    49"
      ]
     },
     "execution_count": 373,
     "metadata": {},
     "output_type": "execute_result"
    }
   ],
   "source": [
    "data[[\"avg_previous_payouts\", \"num_previous_payouts\"]].head()"
   ]
  },
  {
   "cell_type": "code",
   "execution_count": 376,
   "metadata": {},
   "outputs": [
    {
     "data": {
      "image/png": "[encoded data removed]",
      "text/plain": [
       "<Figure size 576x576 with 1 Axes>"
      ]
     },
     "metadata": {
      "needs_background": "light"
     },
     "output_type": "display_data"
    }
   ],
   "source": [
    "data.boxplot(column=['avg_previous_payouts'], by='fraud', figsize=(8,8), showfliers=True);"
   ]
  },
  {
   "cell_type": "markdown",
   "metadata": {},
   "source": [
    "### Body Length feature:  \n",
    "Would this feature be better if HTML formatting is excluded from character count? \n",
    "\n",
    "Both fields 'description' and 'org_desc' are text fields with HTML formatting. We know from previous model versions that the 'body_length' field (i.e. the number of characters in 'description') is a useful indicator. Using the **scrub_words** function, we can look at the character count for these fields after the HTML code is removed. "
   ]
  },
  {
   "cell_type": "code",
   "execution_count": 25,
   "metadata": {},
   "outputs": [],
   "source": [
    "def scrub_words(text):\n",
    "    \"\"\"Basic cleaning of texts.\"\"\"\n",
    "    \n",
    "    # remove html markup\n",
    "    text=re.sub(\"(<.*?>)\",\"\",text)\n",
    "    text=re.sub(\"rsquo\",\"\",text)\n",
    "    text=re.sub(\"nbsp\",\"\",text)\n",
    "    text=re.sub(\"ndash\",\"\",text)\n",
    "\n",
    "    #remove non-ascii and digits\n",
    "    text=re.sub(\"(\\\\W|\\\\d)\",\" \",text)\n",
    "    \n",
    "    #remove whitespace\n",
    "    text=text.strip()\n",
    "    return text"
   ]
  },
  {
   "cell_type": "code",
   "execution_count": 28,
   "metadata": {
    "scrolled": true
   },
   "outputs": [],
   "source": [
    "data.description.fillna('', inplace = True)\n",
    "data['desc_scrub_len'] = data['description'].apply(lambda x: len(scrub_words(x)))"
   ]
  },
  {
   "cell_type": "code",
   "execution_count": 29,
   "metadata": {},
   "outputs": [
    {
     "data": {
      "image/png": "[encoded data removed]",
      "text/plain": [
       "<Figure size 576x576 with 2 Axes>"
      ]
     },
     "metadata": {
      "needs_background": "light"
     },
     "output_type": "display_data"
    }
   ],
   "source": [
    "data.boxplot(column=['body_length', 'desc_scrub_len'], by='fraud', figsize=(8,8), showfliers=False);"
   ]
  },
  {
   "cell_type": "code",
   "execution_count": 31,
   "metadata": {},
   "outputs": [
    {
     "name": "stdout",
     "output_type": "stream",
     "text": [
      "2164.0\n",
      "452.0\n",
      "949.0\n",
      "244.0\n"
     ]
    }
   ],
   "source": [
    "print(data[data.fraud==False].body_length.median())\n",
    "print(data[data.fraud==True].body_length.median())\n",
    "print(data[data.fraud==False].desc_scrub_len.median())\n",
    "print(data[data.fraud==True].desc_scrub_len.median())"
   ]
  },
  {
   "cell_type": "markdown",
   "metadata": {},
   "source": [
    "### Potential feature: categorize email suffixes"
   ]
  },
  {
   "cell_type": "code",
   "execution_count": 32,
   "metadata": {
    "scrolled": true
   },
   "outputs": [],
   "source": [
    "data['email_suffix'] = data.email_domain.str.strip().str.lower().str.extract(r'([^.]+$)')"
   ]
  },
  {
   "cell_type": "code",
   "execution_count": 34,
   "metadata": {},
   "outputs": [
    {
     "name": "stdout",
     "output_type": "stream",
     "text": [
      "Most common email suffixes for fraud:  \n",
      " ['com', 'uk', 'fr', 'net', 'ca', 'de', 'vn', 'org', 'biz', 'pw'] \n",
      "\n",
      "Most common email suffixes for non-fraud:  \n",
      " ['com', 'org', 'uk', 'au', 'ca', 'net', 'edu', 'ly', 'us', 'nz']\n"
     ]
    }
   ],
   "source": [
    "top10_nf = list(data[data.fraud == False].email_suffix.value_counts().index[:10])\n",
    "top10_fr = list(data[data.fraud == True].email_suffix.value_counts().index[:10])\n",
    "print('Most common email suffixes for fraud: ','\\n', top10_fr,'\\n')\n",
    "print('Most common email suffixes for non-fraud: ','\\n', top10_nf)"
   ]
  },
  {
   "cell_type": "code",
   "execution_count": 35,
   "metadata": {},
   "outputs": [
    {
     "data": {
      "text/plain": [
       "['com', 'org', 'uk', 'au', 'net', 'ca', 'edu', 'fr', 'ly']"
      ]
     },
     "execution_count": 35,
     "metadata": {},
     "output_type": "execute_result"
    }
   ],
   "source": [
    "top9 = list(data.email_suffix.value_counts().index[:9])\n",
    "top9"
   ]
  },
  {
   "cell_type": "code",
   "execution_count": 36,
   "metadata": {},
   "outputs": [],
   "source": [
    "email_suffix_list = list(data.email_suffix.value_counts().index)\n",
    "email_suffix_dict = {}\n",
    "for idx in range(len(email_suffix_list)):\n",
    "    if email_suffix_list[idx] in top9:\n",
    "        email_suffix_dict[email_suffix_list[idx]] = idx\n",
    "    else:\n",
    "        email_suffix_dict[email_suffix_list[idx]] = 9"
   ]
  },
  {
   "cell_type": "code",
   "execution_count": 37,
   "metadata": {},
   "outputs": [],
   "source": [
    "data['email_suffix_code'] = data.copy().email_suffix.apply(lambda x: email_suffix_dict[x])"
   ]
  },
  {
   "cell_type": "code",
   "execution_count": 39,
   "metadata": {},
   "outputs": [],
   "source": [
    "email_suffix_not = data[data.fraud == False].email_suffix_code.value_counts().reindex(range(10))\n",
    "email_suffix_fraud = data[data.fraud == True].email_suffix_code.value_counts().reindex(range(10))"
   ]
  },
  {
   "cell_type": "code",
   "execution_count": 40,
   "metadata": {
    "scrolled": false
   },
   "outputs": [
    {
     "data": {
      "image/png": "[encoded data removed]",
      "text/plain": [
       "<Figure size 432x288 with 1 Axes>"
      ]
     },
     "metadata": {
      "needs_background": "light"
     },
     "output_type": "display_data"
    },
    {
     "data": {
      "image/png": "[encoded data removed]",
      "text/plain": [
       "<Figure size 432x288 with 1 Axes>"
      ]
     },
     "metadata": {
      "needs_background": "light"
     },
     "output_type": "display_data"
    }
   ],
   "source": [
    "email_NF_count = list(email_suffix_not.values.astype(int))\n",
    "email_fraud_count = list(email_suffix_fraud.fillna(0).values.astype(int))\n",
    "index = ['.com', '.org', '.uk', '.au', '.net', '.ca', '.edu', '.fr', '.ly', 'other']\n",
    "email_df = pd.DataFrame({'Not Fraud': email_NF_count,\n",
    "                         'Fraud': email_fraud_count}, index = index)\n",
    "\n",
    "email_df.plot.bar(rot=90)\n",
    "email_df.plot.bar(rot=90, ylim=[0,2000])\n",
    "plt.show()"
   ]
  },
  {
   "cell_type": "markdown",
   "metadata": {},
   "source": [
    "### Potential Feature: Does 'country' match 'venue_country' ?"
   ]
  },
  {
   "cell_type": "code",
   "execution_count": 41,
   "metadata": {},
   "outputs": [],
   "source": [
    "data['country_match'] = data.country == data.venue_country"
   ]
  },
  {
   "cell_type": "code",
   "execution_count": 42,
   "metadata": {},
   "outputs": [
    {
     "name": "stdout",
     "output_type": "stream",
     "text": [
      "[10988, 2056] [684, 609]\n"
     ]
    }
   ],
   "source": [
    "NF_matches = [data[(data.fraud == False)&(data.country_match==True)].country_match.count(), data[(data.fraud == False)&(data.country_match==False)].country_match.count()]\n",
    "fraud_matches = [data[(data.fraud == True)&(data.country_match==True)].country_match.count(), data[(data.fraud == True)&(data.country_match==False)].country_match.count()]\n",
    "\n",
    "print(NF_matches, fraud_matches)"
   ]
  },
  {
   "cell_type": "code",
   "execution_count": 43,
   "metadata": {},
   "outputs": [
    {
     "data": {
      "image/png": "[encoded data removed]",
      "text/plain": [
       "<Figure size 432x288 with 1 Axes>"
      ]
     },
     "metadata": {
      "needs_background": "light"
     },
     "output_type": "display_data"
    }
   ],
   "source": [
    "xindex = ['Match', 'Not Match']\n",
    "xdf = pd.DataFrame({'Not Fraud': NF_matches,\n",
    "                         'Fraud': fraud_matches}, index = xindex)\n",
    "\n",
    "xdf.plot.bar(rot=0);"
   ]
  },
  {
   "cell_type": "markdown",
   "metadata": {},
   "source": [
    "### Potential feature: Length of Organization Description ('org_desc') \n",
    "\n",
    "Compare with and without HTML formatting text"
   ]
  },
  {
   "cell_type": "code",
   "execution_count": 44,
   "metadata": {},
   "outputs": [],
   "source": [
    "### Create column for the length of entry in the organization description (org_desc) field. \n",
    "data['org_desc_len'] = data.org_desc.fillna('').str.len()"
   ]
  },
  {
   "cell_type": "code",
   "execution_count": 45,
   "metadata": {
    "scrolled": true
   },
   "outputs": [],
   "source": [
    "data['org_desc_scrub_len'] = data['org_desc'].apply(lambda x: len(scrub_words(x)))"
   ]
  },
  {
   "cell_type": "code",
   "execution_count": 47,
   "metadata": {
    "scrolled": true
   },
   "outputs": [
    {
     "data": {
      "image/png": "[encoded data removed]",
      "text/plain": [
       "<Figure size 576x576 with 2 Axes>"
      ]
     },
     "metadata": {
      "needs_background": "light"
     },
     "output_type": "display_data"
    }
   ],
   "source": [
    "data.boxplot(column=['org_desc_len', 'org_desc_scrub_len'], by='fraud', figsize=(8,8), showfliers=False);"
   ]
  },
  {
   "cell_type": "code",
   "execution_count": 49,
   "metadata": {},
   "outputs": [
    {
     "name": "stdout",
     "output_type": "stream",
     "text": [
      "143.5\n",
      "0.0\n",
      "77.0\n",
      "0.0\n"
     ]
    }
   ],
   "source": [
    "print(data[data.fraud==False].org_desc_len.median())\n",
    "print(data[data.fraud==True].org_desc_len.median())\n",
    "print(data[data.fraud==False].org_desc_scrub_len.median())\n",
    "print(data[data.fraud==True].org_desc_scrub_len.median())"
   ]
  },
  {
   "cell_type": "markdown",
   "metadata": {},
   "source": [
    "### Potential feature: Length of Venue Name "
   ]
  },
  {
   "cell_type": "code",
   "execution_count": 50,
   "metadata": {},
   "outputs": [],
   "source": [
    "### Create column for the length of entry in the venue_name field. \n",
    "data['venue_name_len'] = data['venue_name'].fillna('').str.len()"
   ]
  },
  {
   "cell_type": "code",
   "execution_count": 51,
   "metadata": {},
   "outputs": [
    {
     "data": {
      "image/png": "[encoded data removed]",
      "text/plain": [
       "<Figure size 576x576 with 1 Axes>"
      ]
     },
     "metadata": {
      "needs_background": "light"
     },
     "output_type": "display_data"
    }
   ],
   "source": [
    "data.boxplot(column=['venue_name_len'], by='fraud', figsize=(8,8), showfliers=False);"
   ]
  },
  {
   "cell_type": "markdown",
   "metadata": {},
   "source": [
    "### Potential feature: Length of Organization Name ('org_desc') "
   ]
  },
  {
   "cell_type": "code",
   "execution_count": 52,
   "metadata": {},
   "outputs": [],
   "source": [
    "data['org_name_len'] = data['org_name'].fillna('').str.len()"
   ]
  },
  {
   "cell_type": "code",
   "execution_count": 53,
   "metadata": {},
   "outputs": [
    {
     "data": {
      "image/png": "[encoded data removed]",
      "text/plain": [
       "<Figure size 576x576 with 1 Axes>"
      ]
     },
     "metadata": {
      "needs_background": "light"
     },
     "output_type": "display_data"
    }
   ],
   "source": [
    "data.boxplot(column=['org_name_len'], by='fraud', figsize=(8,8), showfliers=False);"
   ]
  },
  {
   "cell_type": "markdown",
   "metadata": {},
   "source": [
    "### Potential feature: Length of Payee Name ('payee_name') "
   ]
  },
  {
   "cell_type": "code",
   "execution_count": 54,
   "metadata": {},
   "outputs": [
    {
     "name": "stdout",
     "output_type": "stream",
     "text": [
      "5.15984360625575\n",
      "0.34184068058778033\n"
     ]
    }
   ],
   "source": [
    "print(data[data.fraud == False].payee_name.str.len().mean())\n",
    "print(data[data.fraud == True].payee_name.str.len().mean())"
   ]
  },
  {
   "cell_type": "code",
   "execution_count": 55,
   "metadata": {},
   "outputs": [
    {
     "data": {
      "image/png": "[encoded data removed]",
      "text/plain": [
       "<Figure size 576x576 with 1 Axes>"
      ]
     },
     "metadata": {
      "needs_background": "light"
     },
     "output_type": "display_data"
    }
   ],
   "source": [
    "data['org_name_len'] = data['org_name'].fillna('').str.len()\n",
    "data.boxplot(column=['org_name_len'], by='fraud', figsize=(8,8), showfliers=False);"
   ]
  },
  {
   "cell_type": "markdown",
   "metadata": {},
   "source": [
    "### Look at possible sources of leakage"
   ]
  },
  {
   "cell_type": "code",
   "execution_count": 287,
   "metadata": {},
   "outputs": [
    {
     "name": "stdout",
     "output_type": "stream",
     "text": [
      "Need to fix title so it includes Sale Duration\n"
     ]
    },
    {
     "data": {
      "image/png": "[encoded data removed]",
      "text/plain": [
       "<Figure size 432x288 with 1 Axes>"
      ]
     },
     "metadata": {
      "needs_background": "light"
     },
     "output_type": "display_data"
    }
   ],
   "source": [
    "print('Need to fix title so it includes Sale Duration')\n",
    "data.boxplot(column=['sale_duration'], by='fraud', showfliers=False)\n",
    "plt.title('');"
   ]
  },
  {
   "cell_type": "code",
   "execution_count": 286,
   "metadata": {},
   "outputs": [
    {
     "name": "stdout",
     "output_type": "stream",
     "text": [
      "Need to fix title so it includes User Age\n"
     ]
    },
    {
     "data": {
      "image/png": "[encoded data removed]",
      "text/plain": [
       "<Figure size 432x288 with 1 Axes>"
      ]
     },
     "metadata": {
      "needs_background": "light"
     },
     "output_type": "display_data"
    }
   ],
   "source": [
    "print('Need to fix title so it includes User Age')\n",
    "data.boxplot(column=['user_age'], by='fraud', showfliers=False)\n",
    "plt.title('');"
   ]
  }
 ],
 "metadata": {
  "kernelspec": {
   "display_name": "Python 3",
   "language": "python",
   "name": "python3"
  },
  "language_info": {
   "codemirror_mode": {
    "name": "ipython",
    "version": 3
   },
   "file_extension": ".py",
   "mimetype": "text/x-python",
   "name": "python",
   "nbconvert_exporter": "python",
   "pygments_lexer": "ipython3",
   "version": "3.7.1"
  }
 },
 "nbformat": 4,
 "nbformat_minor": 2
}

{
 "cells": [
  {
   "cell_type": "markdown",
   "metadata": {},
   "source": [
    "# Feature Engineering"
   ]
  },
  {
   "cell_type": "code",
   "execution_count": 1,
   "metadata": {},
   "outputs": [],
   "source": [
    "import pandas as pd\n",
    "import numpy as np\n",
    "import matplotlib.pyplot as plt\n",
    "import re\n",
    "from collections import Counter\n",
    "from sklearn.ensemble import RandomForestClassifier\n",
    "from sklearn.model_selection import train_test_split\n",
    "from sklearn.metrics import auc, confusion_matrix, roc_auc_score, roc_curve, precision_score, recall_score, precision_recall_curve, classification_report\n",
    "from sklearn.experimental import enable_iterative_imputer \n",
    "from sklearn.impute import SimpleImputer, IterativeImputer, MissingIndicator\n",
    "\n",
    "import ast\n",
    "from functions import report\n",
    "%matplotlib inline"
   ]
  },
  {
   "cell_type": "markdown",
   "metadata": {},
   "source": [
    "## Preliminary Steps\n",
    "Let's start by loading the data. "
   ]
  },
  {
   "cell_type": "code",
   "execution_count": 2,
   "metadata": {},
   "outputs": [],
   "source": [
    "data = pd.read_csv(\"data/raw_data.csv\", index_col=0)\n",
    "target = pd.read_csv('data/target.csv', index_col=0)\n",
    "data['fraud'] = target['fraud']"
   ]
  },
  {
   "cell_type": "markdown",
   "metadata": {},
   "source": [
    "#### Digging for extra info:\n",
    "\n",
    "Some columns need little or no manipulation to yield useful information. We looked at those in the EDA notebook. Now we are going to try to extract any pertinent information from the remaining columns. Many of these will be text columns. "
   ]
  },
  {
   "cell_type": "code",
   "execution_count": 3,
   "metadata": {
    "scrolled": true
   },
   "outputs": [
    {
     "data": {
      "text/html": [
       "<div>\n",
       "<style scoped>\n",
       "    .dataframe tbody tr th:only-of-type {\n",
       "        vertical-align: middle;\n",
       "    }\n",
       "\n",
       "    .dataframe tbody tr th {\n",
       "        vertical-align: top;\n",
       "    }\n",
       "\n",
       "    .dataframe thead th {\n",
       "        text-align: right;\n",
       "    }\n",
       "</style>\n",
       "<table border=\"1\" class=\"dataframe\">\n",
       "  <thead>\n",
       "    <tr style=\"text-align: right;\">\n",
       "      <th></th>\n",
       "      <th>country</th>\n",
       "      <th>currency</th>\n",
       "      <th>ticket_groups</th>\n",
       "      <th>venue_country</th>\n",
       "      <th>venue_state</th>\n",
       "    </tr>\n",
       "  </thead>\n",
       "  <tbody>\n",
       "    <tr>\n",
       "      <th>0</th>\n",
       "      <td>US</td>\n",
       "      <td>USD</td>\n",
       "      <td>[{'event_id': 527017, 'cost': 25.0, 'availabil...</td>\n",
       "      <td>US</td>\n",
       "      <td>FL</td>\n",
       "    </tr>\n",
       "    <tr>\n",
       "      <th>1</th>\n",
       "      <td>US</td>\n",
       "      <td>USD</td>\n",
       "      <td>[{'event_id': 786878, 'cost': 35.0, 'availabil...</td>\n",
       "      <td>US</td>\n",
       "      <td>SC</td>\n",
       "    </tr>\n",
       "    <tr>\n",
       "      <th>2</th>\n",
       "      <td>US</td>\n",
       "      <td>USD</td>\n",
       "      <td>[{'event_id': 787337, 'cost': 93.51, 'availabi...</td>\n",
       "      <td>US</td>\n",
       "      <td>CA</td>\n",
       "    </tr>\n",
       "    <tr>\n",
       "      <th>3</th>\n",
       "      <td>IE</td>\n",
       "      <td>EUR</td>\n",
       "      <td>[{'event_id': 885645, 'cost': 25.0, 'availabil...</td>\n",
       "      <td>NaN</td>\n",
       "      <td>NaN</td>\n",
       "    </tr>\n",
       "    <tr>\n",
       "      <th>4</th>\n",
       "      <td>US</td>\n",
       "      <td>USD</td>\n",
       "      <td>[{'event_id': 1114349, 'cost': 150.0, 'availab...</td>\n",
       "      <td>US</td>\n",
       "      <td>MA</td>\n",
       "    </tr>\n",
       "  </tbody>\n",
       "</table>\n",
       "</div>"
      ],
      "text/plain": [
       "  country currency                                      ticket_groups  \\\n",
       "0      US      USD  [{'event_id': 527017, 'cost': 25.0, 'availabil...   \n",
       "1      US      USD  [{'event_id': 786878, 'cost': 35.0, 'availabil...   \n",
       "2      US      USD  [{'event_id': 787337, 'cost': 93.51, 'availabi...   \n",
       "3      IE      EUR  [{'event_id': 885645, 'cost': 25.0, 'availabil...   \n",
       "4      US      USD  [{'event_id': 1114349, 'cost': 150.0, 'availab...   \n",
       "\n",
       "  venue_country venue_state  \n",
       "0            US          FL  \n",
       "1            US          SC  \n",
       "2            US          CA  \n",
       "3           NaN         NaN  \n",
       "4            US          MA  "
      ]
     },
     "execution_count": 3,
     "metadata": {},
     "output_type": "execute_result"
    }
   ],
   "source": [
    "data[['country', 'currency', 'ticket_groups', 'venue_country', 'venue_state']].head()"
   ]
  },
  {
   "cell_type": "markdown",
   "metadata": {},
   "source": [
    "#### We're also interested in several columns that are excluded from the display above. \n",
    "(You may recall from either the README discussion, or the EDA notebook, that we are using real data from an online ticket vendor. As such, I am taking steps to hide all identifiable information.)\n",
    "\n",
    "The additional columns we'll use in this notebook are: \n",
    "\n",
    "* Name (of event)\n",
    "* Description (of event)\n",
    "* Email Domain (of event creator)\n",
    "* Organization Name \n",
    "* Organization Description\n",
    "* Payee Name \n",
    "* Past Payouts\n",
    "* Venue Name\n",
    "* Venue Address\n",
    "\n",
    "To offer a better idea of the information contained in those columns, I have created a few fake sample entries: \n",
    "\n",
    "| Column Name     |                Column Description                  | dtype  |   Sample Entry               |\n",
    "|:---------------:|:--------------------------------------------------:|:------:|:----------------------------:|\n",
    "| name            | Name of the event                                  | string | ABC's Annual Fundraiser      |\n",
    "| description     | Description of the event                           | string |  `<h3><span class=\"subcategory\"><strong> Lorem ipsum dolor sit amet, consectetur adipiscing elit, sed do eiusmod tempor incididunt ut labore et dolore magna aliqua. Ut enim ad minim veniam, quis nostrud exercitation ullamco laboris nisi ut aliquip ex ea commodo consequat. </strong><strong></strong></span></h3> <h3><font face=\"arial,helvetica,sans-serif\" size=\"3\">W Lorem ipsum dolor sit amet, consectetur adipiscing elit, sed do eiusmod tempor incididunt ut labore et dolore magna aliqua. Ut enim ad minim veniam, quis nostrud exercitation ullamco laboris nisi ut aliquip ex ea commodo consequat..</font></h3>`  |\n",
    "| email_domain    | Email domain of the event creator                  | string | Ex: gmail.com; ed.ac.uk; ABC.org |\n",
    "| org_name        | Name of the organization hosting the event         | string |       ABC                    |\n",
    "| org_desc        | Description of the organization hosting the event  | string | `<p>ABC is a sample organization name</p>`|\n",
    "| payee_name      | Named recipient of ticket revenue                  | string | Ex: ABC; Joe Smith           |\n",
    "| past_payouts    | Details of past ticket purchase to event creator   | string |`[{'name': 'ABC', 'created': '2010-10-01 01:10:09', 'country': 'OZ', 'amount': 34389.38, 'state': 'KS', 'address': '123 Yellow Brick Road', 'uid': 1234567, 'event': 9999999, 'zip_code': '98383'}, {'name': 'ABC', 'created': '2011-02-02 01:12:10', 'country': 'OZ', 'amount': 764.93, 'state': 'KS', 'address': '123 Yellow Brick Road', 'uid': 1234567, 'event': 9999999, 'zip_code': '98383'}, {'name': 'ABC', 'created': '2011-03-15 01:30:42', 'country': 'OZ', 'amount': 17405.26, 'state': 'KS', 'address': '123 Yellow Brick Road', 'uid': 1234567, 'event': 9999999, 'zip_code': '98383'}, {'name': 'ABC', 'created': '2011-03-15 01:30:42', 'country': 'OZ', 'amount': 2224.16, 'state': 'KS', 'address': '123 Yellow Brick Road', 'uid': 1234567, 'event': 9999999, 'zip_code': '98383'}]`|\n",
    "| venue_name      | Name of event venue                                | string |     ABC Building      |\n",
    "| venue_address   | Address of event venue                             | string | 123 Yellow Brick Road |\n",
    "| venue_latitude  | Latitude of event venue                            | float  |      -45.0123         |\n",
    "| venue_longitude | Longitude of event venue                           | float  |      -123.456         |\n",
    "\n",
    "\n",
    "\n"
   ]
  },
  {
   "cell_type": "markdown",
   "metadata": {},
   "source": [
    "#### Before we move on from preliminary steps, remember to consider : \n",
    "### What information are we looking for? \n",
    "The quick answer is: anything that will help us distinguish fraud from legitimate activity. \n",
    "\n",
    "The quick answer, however, doesn't particularly narrow the field. We can't evaluate the relationship between a feature and fraud until we define the feature. \n",
    "\n",
    "It is possible to make a feature by counting the number of times the character 'a' occurs in the event description, but we have no reason to believe that this would be a good indicator of fraud. \n",
    "\n",
    "There are infinite possibilities for engineered features, so to some degree, we have to rely on our own judgement &mdash; which, we hope, is a product of business savvy, industry knowledge, and logic. \n",
    "\n",
    "Let's brainstorm: \n",
    "\n",
    "### What would characteristics would jump out to you, as either MORE or LESS likely to occur in cases of fraud?\n",
    "\n",
    "My initial ideas (recalling the information we have to work with):\n",
    "\n",
    "* We saw in the EDA notebook that the median value for 'name_length' and 'body_length' is higher for non-fraud entries than for fraud entries. Could it be useful to examine the character count for other fields, too? Ex: **'org_name', 'org_desc', 'venue_name'**\n",
    "* Adding formatting is often more tedious than writing a description. I wonder if the character count of HTML formatting within the **'description'** field would be lower in instances of fraud. \n",
    "* I would be suprised to find many instances of fraud among entries that have a large number of **past_payouts**, as this would suggest previous fraud has repeatedly gone unreported OR a legitimate account has suddenly added a fraudulent event. While neither is unheard of, I wouldn't expect it to be frequent. \n",
    "\n",
    "\n",
    "It is also worth noting that we don't have to have a prediction for whether a specific characteristic makes fraud more likely or less likely, as long as it seems reasonable that the characteristic might have some correspondence to instances of fraud. "
   ]
  },
  {
   "cell_type": "markdown",
   "metadata": {},
   "source": [
    "## Process existing columns into new features\n",
    "We don't need to generate a full list above. New ideas will inevitably come up as we learn more about the columns.\n",
    "\n",
    "**'ticket_groups'** & **'past_payouts'** are two of the obvious examples of columns that require processing, but contain useful information. Both contain string representations of a list of dictionaries. \n",
    " \n",
    "### 1 — 'ticket_groups' \n",
    "\n",
    "Sample Ticket Group entries : \n",
    "\n",
    "* `[{'event_id': 4848389, 'cost': 45.0, 'availability': 1, 'quantity_total': 80},\n",
    "  {'event_id': 4848389, 'cost': 20.0, 'availability': 1, 'quantity_total': 50}, \n",
    "  {'event_id': 4848389, 'cost': 0.0, 'availability': 1, 'quantity_total': 6}]`\n",
    "\n",
    "\n",
    "* `[]`\n",
    "  \n",
    "  \n",
    "* `[{'event_id': 4848389, 'cost': 45.0, 'availability': 1, 'quantity_total': 80}]`\n",
    "\n",
    "Each entry, though stored as a string, represents a list of dictionaries. Each dictionary contains information about tickets for an event, with 4 keys: event_id, cost, availability, quantity_total. By examining a few examples, I found that all dictionaries within a single list share an **event ID**, while the **cost** and **quantity total** vary. This suggests that events often have **'tiers'** of tickets (i.e. VIP tickets or 'early bird' tickets), each of which are represented separately by one dictionary. \n",
    "\n",
    "With the information in the dictionary, we can calculate the number of tiers, the average ticket price, the potential revenue (amount earned if every ticket is sold), and several other figures. \n",
    "#### Write a function that extracts relevant information from this string. "
   ]
  },
  {
   "cell_type": "code",
   "execution_count": 4,
   "metadata": {},
   "outputs": [],
   "source": [
    "def ticket_groups(df): \n",
    "    \n",
    "    tg_col = df['ticket_groups']\n",
    "    num_tiers = []\n",
    "    num_tickets = []\n",
    "    average_price = []\n",
    "    min_price = []\n",
    "    max_price = []\n",
    "    sum_ticket = []\n",
    "    \n",
    "    for row in tg_col:\n",
    "        row = ast.literal_eval(row)\n",
    "        num_tiers.append(len(row))\n",
    "        quant = []\n",
    "        price = []\n",
    "        for dct in row:\n",
    "            quant.append(dct['quantity_total'])\n",
    "            price.append(dct['cost'])\n",
    "        arr = np.array([quant, price])\n",
    "        if arr[0].sum() != 0:\n",
    "            average_price.append(np.round((arr[0] * arr[1]).sum()/arr[0].sum(), 2))\n",
    "            num_tickets.append(int(arr[0].sum()))\n",
    "            min_price.append(arr[1].min())\n",
    "            max_price.append(arr[1].max())\n",
    "            sum_ticket.append((arr[0] * arr[1]).sum())\n",
    "        else: \n",
    "            average_price.append(0)\n",
    "            num_tickets.append(0)\n",
    "            min_price.append(0)\n",
    "            max_price.append(0)\n",
    "            sum_ticket.append(0)\n",
    "    df[\"num_tiers\"] = num_tiers\n",
    "    df[\"tickets_available\"] = num_tickets\n",
    "    df[\"average_ticket_price\"] = average_price\n",
    "    df['min_price'] = min_price\n",
    "    df['max_price'] = max_price\n",
    "    df['potential_revenue'] = sum_ticket"
   ]
  },
  {
   "cell_type": "code",
   "execution_count": 5,
   "metadata": {},
   "outputs": [],
   "source": [
    "ticket_groups(data)"
   ]
  },
  {
   "cell_type": "code",
   "execution_count": 6,
   "metadata": {
    "scrolled": true
   },
   "outputs": [
    {
     "data": {
      "text/html": [
       "<div>\n",
       "<style scoped>\n",
       "    .dataframe tbody tr th:only-of-type {\n",
       "        vertical-align: middle;\n",
       "    }\n",
       "\n",
       "    .dataframe tbody tr th {\n",
       "        vertical-align: top;\n",
       "    }\n",
       "\n",
       "    .dataframe thead th {\n",
       "        text-align: right;\n",
       "    }\n",
       "</style>\n",
       "<table border=\"1\" class=\"dataframe\">\n",
       "  <thead>\n",
       "    <tr style=\"text-align: right;\">\n",
       "      <th></th>\n",
       "      <th>num_tiers</th>\n",
       "      <th>tickets_available</th>\n",
       "      <th>average_ticket_price</th>\n",
       "      <th>min_price</th>\n",
       "      <th>max_price</th>\n",
       "      <th>potential_revenue</th>\n",
       "    </tr>\n",
       "  </thead>\n",
       "  <tbody>\n",
       "    <tr>\n",
       "      <th>0</th>\n",
       "      <td>3</td>\n",
       "      <td>920</td>\n",
       "      <td>39.13</td>\n",
       "      <td>25.00</td>\n",
       "      <td>550.00</td>\n",
       "      <td>36000.00</td>\n",
       "    </tr>\n",
       "    <tr>\n",
       "      <th>1</th>\n",
       "      <td>2</td>\n",
       "      <td>100</td>\n",
       "      <td>35.00</td>\n",
       "      <td>35.00</td>\n",
       "      <td>35.00</td>\n",
       "      <td>3500.00</td>\n",
       "    </tr>\n",
       "    <tr>\n",
       "      <th>2</th>\n",
       "      <td>1</td>\n",
       "      <td>48</td>\n",
       "      <td>93.51</td>\n",
       "      <td>93.51</td>\n",
       "      <td>93.51</td>\n",
       "      <td>4488.48</td>\n",
       "    </tr>\n",
       "    <tr>\n",
       "      <th>3</th>\n",
       "      <td>6</td>\n",
       "      <td>30000</td>\n",
       "      <td>13.67</td>\n",
       "      <td>5.00</td>\n",
       "      <td>25.00</td>\n",
       "      <td>410000.00</td>\n",
       "    </tr>\n",
       "    <tr>\n",
       "      <th>4</th>\n",
       "      <td>8</td>\n",
       "      <td>264</td>\n",
       "      <td>108.32</td>\n",
       "      <td>36.00</td>\n",
       "      <td>200.00</td>\n",
       "      <td>28596.00</td>\n",
       "    </tr>\n",
       "  </tbody>\n",
       "</table>\n",
       "</div>"
      ],
      "text/plain": [
       "   num_tiers  tickets_available  average_ticket_price  min_price  max_price  \\\n",
       "0          3                920                 39.13      25.00     550.00   \n",
       "1          2                100                 35.00      35.00      35.00   \n",
       "2          1                 48                 93.51      93.51      93.51   \n",
       "3          6              30000                 13.67       5.00      25.00   \n",
       "4          8                264                108.32      36.00     200.00   \n",
       "\n",
       "   potential_revenue  \n",
       "0           36000.00  \n",
       "1            3500.00  \n",
       "2            4488.48  \n",
       "3          410000.00  \n",
       "4           28596.00  "
      ]
     },
     "execution_count": 6,
     "metadata": {},
     "output_type": "execute_result"
    }
   ],
   "source": [
    "data[['num_tiers', 'tickets_available', 'average_ticket_price', 'min_price', 'max_price', 'potential_revenue']].head()"
   ]
  },
  {
   "cell_type": "code",
   "execution_count": 7,
   "metadata": {},
   "outputs": [
    {
     "data": {
      "text/html": [
       "<div>\n",
       "<style scoped>\n",
       "    .dataframe tbody tr th:only-of-type {\n",
       "        vertical-align: middle;\n",
       "    }\n",
       "\n",
       "    .dataframe tbody tr th {\n",
       "        vertical-align: top;\n",
       "    }\n",
       "\n",
       "    .dataframe thead th {\n",
       "        text-align: right;\n",
       "    }\n",
       "</style>\n",
       "<table border=\"1\" class=\"dataframe\">\n",
       "  <thead>\n",
       "    <tr style=\"text-align: right;\">\n",
       "      <th></th>\n",
       "      <th>name</th>\n",
       "      <th>Number of Unique Values</th>\n",
       "      <th>Number of NaN</th>\n",
       "      <th>Max</th>\n",
       "      <th>Min</th>\n",
       "      <th>Mode</th>\n",
       "      <th>Frequency of Mode</th>\n",
       "    </tr>\n",
       "  </thead>\n",
       "  <tbody>\n",
       "    <tr>\n",
       "      <th>0</th>\n",
       "      <td>num_tiers</td>\n",
       "      <td>55</td>\n",
       "      <td>0</td>\n",
       "      <td>116</td>\n",
       "      <td>0</td>\n",
       "      <td>1</td>\n",
       "      <td>44.46%</td>\n",
       "    </tr>\n",
       "    <tr>\n",
       "      <th>1</th>\n",
       "      <td>tickets_available</td>\n",
       "      <td>1168</td>\n",
       "      <td>0</td>\n",
       "      <td>30500000</td>\n",
       "      <td>0</td>\n",
       "      <td>100</td>\n",
       "      <td>6.97%</td>\n",
       "    </tr>\n",
       "    <tr>\n",
       "      <th>2</th>\n",
       "      <td>average_ticket_price</td>\n",
       "      <td>4655</td>\n",
       "      <td>0</td>\n",
       "      <td>22727.3</td>\n",
       "      <td>-0.08</td>\n",
       "      <td>10</td>\n",
       "      <td>4.17%</td>\n",
       "    </tr>\n",
       "    <tr>\n",
       "      <th>3</th>\n",
       "      <td>min_price</td>\n",
       "      <td>1360</td>\n",
       "      <td>0</td>\n",
       "      <td>15989.8</td>\n",
       "      <td>-1.16</td>\n",
       "      <td>0</td>\n",
       "      <td>22.64%</td>\n",
       "    </tr>\n",
       "    <tr>\n",
       "      <th>4</th>\n",
       "      <td>max_price</td>\n",
       "      <td>1728</td>\n",
       "      <td>0</td>\n",
       "      <td>100000</td>\n",
       "      <td>0</td>\n",
       "      <td>10</td>\n",
       "      <td>5.97%</td>\n",
       "    </tr>\n",
       "    <tr>\n",
       "      <th>5</th>\n",
       "      <td>potential_revenue</td>\n",
       "      <td>6595</td>\n",
       "      <td>0</td>\n",
       "      <td>7.5e+09</td>\n",
       "      <td>-8</td>\n",
       "      <td>0</td>\n",
       "      <td>3.48%</td>\n",
       "    </tr>\n",
       "  </tbody>\n",
       "</table>\n",
       "</div>"
      ],
      "text/plain": [
       "                   name Number of Unique Values Number of NaN       Max   Min  \\\n",
       "0             num_tiers                      55             0       116     0   \n",
       "1     tickets_available                    1168             0  30500000     0   \n",
       "2  average_ticket_price                    4655             0   22727.3 -0.08   \n",
       "3             min_price                    1360             0   15989.8 -1.16   \n",
       "4             max_price                    1728             0    100000     0   \n",
       "5     potential_revenue                    6595             0   7.5e+09    -8   \n",
       "\n",
       "  Mode Frequency of Mode  \n",
       "0    1            44.46%  \n",
       "1  100             6.97%  \n",
       "2   10             4.17%  \n",
       "3    0            22.64%  \n",
       "4   10             5.97%  \n",
       "5    0             3.48%  "
      ]
     },
     "execution_count": 7,
     "metadata": {},
     "output_type": "execute_result"
    }
   ],
   "source": [
    "report(['num_tiers', 'tickets_available', 'average_ticket_price', 'min_price', 'max_price','potential_revenue'], data).T"
   ]
  },
  {
   "cell_type": "code",
   "execution_count": 8,
   "metadata": {
    "scrolled": false
   },
   "outputs": [
    {
     "data": {
      "image/png": "[encoded data removed]",
      "text/plain": [
       "<Figure size 1152x864 with 6 Axes>"
      ]
     },
     "metadata": {
      "needs_background": "light"
     },
     "output_type": "display_data"
    }
   ],
   "source": [
    "TG_cols = ['num_tiers', 'tickets_available', 'average_ticket_price', 'min_price', 'max_price', 'potential_revenue']\n",
    "fig, axs = plt.subplots(6,1, figsize =(16,12))\n",
    "for idx, ax in enumerate(axs.flatten()):    \n",
    "    ax.boxplot([data[data.fraud == True][TG_cols[idx]], data[data.fraud == False][TG_cols[idx]]], \n",
    "               labels=['fraud', 'not fraud'], flierprops=dict(marker='.', markersize=2, alpha=.5), vert=False,\n",
    "               whis=[5, 95], showfliers=False)\n",
    "    ax.set_title(TG_cols[idx])\n",
    "plt.subplots_adjust(hspace = 0.6)"
   ]
  },
  {
   "cell_type": "markdown",
   "metadata": {},
   "source": [
    "### 2 — 'previous_payouts' \n",
    "\n",
    "As with the previous column, this feature contains lists of dictionaries, formatted as strings. Each dictionary represents a payout of ticket sales revenue from the ticket vendor to the event 'host'. Many entries \n",
    "\n",
    "`[{'name': 'ABC', 'created': '2010-10-01 01:10:09', 'country': 'OZ', 'amount': 34389.38, 'state': 'KS', 'address': '123 Yellow Brick Road', 'uid': 1234567, 'event': 9999999, 'zip_code': '98383'}, {'name': 'ABC', 'created': '2011-02-02 01:12:10', 'country': 'OZ', 'amount': 764.93, 'state': 'KS', 'address': '123 Yellow Brick Road', 'uid': 1234567, 'event': 9999999, 'zip_code': '98383'}, {'name': 'ABC', 'created': '2011-03-15 01:30:42', 'country': 'OZ', 'amount': 17405.26, 'state': 'KS', 'address': '123 Yellow Brick Road', 'uid': 1234567, 'event': 9999999, 'zip_code': '98383'}, {'name': 'ABC', 'created': '2011-03-15 01:30:42', 'country': 'OZ', 'amount': 2224.16, 'state': 'KS', 'address': '123 Yellow Brick Road', 'uid': 1234567, 'event': 9999999, 'zip_code': '98383'}]`"
   ]
  },
  {
   "cell_type": "code",
   "execution_count": 13,
   "metadata": {},
   "outputs": [],
   "source": [
    "def past_payouts(df):\n",
    "    pp_col_value = df.past_payouts\n",
    "    avg_payouts = []\n",
    "    num_payouts = []\n",
    "    \n",
    "    for row in pp_col_value:\n",
    "        row = ast.literal_eval(row)\n",
    "        num_payouts.append(len(row))\n",
    "\n",
    "        if len(row) > 0:\n",
    "            amount = 0\n",
    "            for dct in row:\n",
    "                \n",
    "                amount += dct['amount']\n",
    "            avg_payouts.append(np.round(amount/len(row), 2))\n",
    "\n",
    "        else:\n",
    "            avg_payouts.append(0)\n",
    "    df[\"avg_previous_payouts\"] = avg_payouts\n",
    "    df[\"num_previous_payouts\"] = num_payouts"
   ]
  },
  {
   "cell_type": "code",
   "execution_count": 14,
   "metadata": {},
   "outputs": [],
   "source": [
    "past_payouts(data)"
   ]
  },
  {
   "cell_type": "code",
   "execution_count": 15,
   "metadata": {
    "scrolled": true
   },
   "outputs": [
    {
     "data": {
      "text/html": [
       "<div>\n",
       "<style scoped>\n",
       "    .dataframe tbody tr th:only-of-type {\n",
       "        vertical-align: middle;\n",
       "    }\n",
       "\n",
       "    .dataframe tbody tr th {\n",
       "        vertical-align: top;\n",
       "    }\n",
       "\n",
       "    .dataframe thead th {\n",
       "        text-align: right;\n",
       "    }\n",
       "</style>\n",
       "<table border=\"1\" class=\"dataframe\">\n",
       "  <thead>\n",
       "    <tr style=\"text-align: right;\">\n",
       "      <th></th>\n",
       "      <th>avg_previous_payouts</th>\n",
       "      <th>num_previous_payouts</th>\n",
       "    </tr>\n",
       "  </thead>\n",
       "  <tbody>\n",
       "    <tr>\n",
       "      <th>0</th>\n",
       "      <td>0.00</td>\n",
       "      <td>0</td>\n",
       "    </tr>\n",
       "    <tr>\n",
       "      <th>1</th>\n",
       "      <td>16394.36</td>\n",
       "      <td>49</td>\n",
       "    </tr>\n",
       "    <tr>\n",
       "      <th>2</th>\n",
       "      <td>1508.40</td>\n",
       "      <td>36</td>\n",
       "    </tr>\n",
       "    <tr>\n",
       "      <th>3</th>\n",
       "      <td>208.78</td>\n",
       "      <td>21</td>\n",
       "    </tr>\n",
       "    <tr>\n",
       "      <th>4</th>\n",
       "      <td>263.57</td>\n",
       "      <td>49</td>\n",
       "    </tr>\n",
       "  </tbody>\n",
       "</table>\n",
       "</div>"
      ],
      "text/plain": [
       "   avg_previous_payouts  num_previous_payouts\n",
       "0                  0.00                     0\n",
       "1              16394.36                    49\n",
       "2               1508.40                    36\n",
       "3                208.78                    21\n",
       "4                263.57                    49"
      ]
     },
     "execution_count": 15,
     "metadata": {},
     "output_type": "execute_result"
    }
   ],
   "source": [
    "data[[\"avg_previous_payouts\", \"num_previous_payouts\"]].head()"
   ]
  },
  {
   "cell_type": "code",
   "execution_count": 17,
   "metadata": {},
   "outputs": [
    {
     "data": {
      "image/png": "[encoded data removed]",
      "text/plain": [
       "<Figure size 576x576 with 1 Axes>"
      ]
     },
     "metadata": {
      "needs_background": "light"
     },
     "output_type": "display_data"
    }
   ],
   "source": [
    "data.boxplot(column=['avg_previous_payouts'], by='fraud', figsize=(8,8), showfliers=False);"
   ]
  },
  {
   "cell_type": "markdown",
   "metadata": {},
   "source": [
    "### 3 — HTML character count:  \n",
    "Do descriptions of fraudulent events contain more or less HTML formatting? \n",
    "\n",
    "Both fields 'description' and 'org_desc' are text fields with HTML formatting. Our EDA suggested that the 'body_length' field (i.e. the number of characters in 'description') may be a useful indicator. \n",
    "\n",
    "From viewing a few examples, it is evident that the description text, and thus the character count, includes HTML tags and entities. We can look at the character count of HTML formatting to see if it might be a useful indicator. "
   ]
  },
  {
   "cell_type": "code",
   "execution_count": 18,
   "metadata": {},
   "outputs": [],
   "source": [
    "def scrub_HTML(text):\n",
    "    punc_entities = ['$quot', '$amp', '$lt', '$lsquo' , '$rsquo', '$ldquo', '$rdquo' , '$sbquo', '$dquo', '$prime', '$dblprime', '$nbsp',\n",
    "                     '$hyphen', '$ndash', '$mdash', '$nspace', '$mspace', '$thinsp', '$brvbar', '$bull', '$tri', '$hellip', '$circ', '$uml', \n",
    "                     '$tilde', '$lsaquo', '$rsaquo', '$laquo', '$raquo', '$oline', '$iquest', '$iexcl', '$intbang']\n",
    "    # remove html tags & punctuation entities\n",
    "    text=re.sub(\"(<.*?>)\",\"\",text)\n",
    "    for x in punc_entities:\n",
    "        text = re.sub(x, \"\", text)\n",
    "\n",
    "    #remove whitespace\n",
    "    text=text.strip()\n",
    "    return text"
   ]
  },
  {
   "cell_type": "code",
   "execution_count": 19,
   "metadata": {
    "scrolled": true
   },
   "outputs": [],
   "source": [
    "data.description.fillna('', inplace = True)\n",
    "data['HTML_chars'] = data['description'].apply(lambda x: len(x) - len(scrub_HTML(x)))"
   ]
  },
  {
   "cell_type": "code",
   "execution_count": 21,
   "metadata": {},
   "outputs": [
    {
     "data": {
      "image/png": "[encoded data removed]",
      "text/plain": [
       "<Figure size 576x576 with 2 Axes>"
      ]
     },
     "metadata": {
      "needs_background": "light"
     },
     "output_type": "display_data"
    }
   ],
   "source": [
    "data.boxplot(column=['body_length', 'HTML_chars'], by='fraud', figsize=(8,8), showfliers=False);"
   ]
  },
  {
   "cell_type": "markdown",
   "metadata": {},
   "source": [
    "### 4 — Categorize Email Suffixes"
   ]
  },
  {
   "cell_type": "code",
   "execution_count": 22,
   "metadata": {
    "scrolled": true
   },
   "outputs": [],
   "source": [
    "data['email_suffix'] = data.email_domain.str.strip().str.lower().str.extract(r'([^.]+$)')"
   ]
  },
  {
   "cell_type": "code",
   "execution_count": 23,
   "metadata": {},
   "outputs": [
    {
     "name": "stdout",
     "output_type": "stream",
     "text": [
      "Most common email suffixes for fraud:  \n",
      " ['com', 'uk', 'fr', 'net', 'ca', 'de', 'vn', 'org', 'biz', 'pw'] \n",
      "\n",
      "Most common email suffixes for non-fraud:  \n",
      " ['com', 'org', 'uk', 'au', 'ca', 'net', 'edu', 'ly', 'us', 'nz']\n"
     ]
    }
   ],
   "source": [
    "top10_nf = list(data[data.fraud == False].email_suffix.value_counts().index[:10])\n",
    "top10_fr = list(data[data.fraud == True].email_suffix.value_counts().index[:10])\n",
    "print('Most common email suffixes for fraud: ','\\n', top10_fr,'\\n')\n",
    "print('Most common email suffixes for non-fraud: ','\\n', top10_nf)"
   ]
  },
  {
   "cell_type": "code",
   "execution_count": 24,
   "metadata": {},
   "outputs": [
    {
     "data": {
      "text/plain": [
       "['com', 'org', 'uk', 'au', 'net', 'ca', 'edu', 'fr', 'ly']"
      ]
     },
     "execution_count": 24,
     "metadata": {},
     "output_type": "execute_result"
    }
   ],
   "source": [
    "top9 = list(data.email_suffix.value_counts().index[:9])\n",
    "top9"
   ]
  },
  {
   "cell_type": "code",
   "execution_count": 25,
   "metadata": {},
   "outputs": [],
   "source": [
    "email_suffix_list = list(data.email_suffix.value_counts().index)\n",
    "email_suffix_dict = {}\n",
    "for idx in range(len(email_suffix_list)):\n",
    "    if email_suffix_list[idx] in top9:\n",
    "        email_suffix_dict[email_suffix_list[idx]] = idx\n",
    "    else:\n",
    "        email_suffix_dict[email_suffix_list[idx]] = 9"
   ]
  },
  {
   "cell_type": "code",
   "execution_count": 26,
   "metadata": {},
   "outputs": [],
   "source": [
    "data['email_suffix_code'] = data.copy().email_suffix.apply(lambda x: email_suffix_dict[x])"
   ]
  },
  {
   "cell_type": "code",
   "execution_count": 27,
   "metadata": {},
   "outputs": [],
   "source": [
    "email_suffix_not = data[data.fraud == False].email_suffix_code.value_counts().reindex(range(10))\n",
    "email_suffix_fraud = data[data.fraud == True].email_suffix_code.value_counts().reindex(range(10))"
   ]
  },
  {
   "cell_type": "code",
   "execution_count": 28,
   "metadata": {
    "scrolled": false
   },
   "outputs": [
    {
     "data": {
      "image/png": "[encoded data removed]",
      "text/plain": [
       "<Figure size 432x288 with 1 Axes>"
      ]
     },
     "metadata": {
      "needs_background": "light"
     },
     "output_type": "display_data"
    },
    {
     "data": {
      "image/png": "[encoded data removed]",
      "text/plain": [
       "<Figure size 432x288 with 1 Axes>"
      ]
     },
     "metadata": {
      "needs_background": "light"
     },
     "output_type": "display_data"
    }
   ],
   "source": [
    "email_NF_count = list(email_suffix_not.values.astype(int))\n",
    "email_fraud_count = list(email_suffix_fraud.fillna(0).values.astype(int))\n",
    "index = ['.com', '.org', '.uk', '.au', '.net', '.ca', '.edu', '.fr', '.ly', 'other']\n",
    "email_df = pd.DataFrame({'Not Fraud': email_NF_count,\n",
    "                         'Fraud': email_fraud_count}, index = index)\n",
    "\n",
    "email_df.plot.bar(rot=90)\n",
    "email_df.plot.bar(rot=90, ylim=[0,2000])\n",
    "plt.show()"
   ]
  },
  {
   "cell_type": "markdown",
   "metadata": {},
   "source": [
    "### 5 — Does 'country' match 'venue_country' ?"
   ]
  },
  {
   "cell_type": "code",
   "execution_count": 29,
   "metadata": {},
   "outputs": [],
   "source": [
    "data['country_match'] = data.country == data.venue_country"
   ]
  },
  {
   "cell_type": "code",
   "execution_count": 30,
   "metadata": {},
   "outputs": [
    {
     "name": "stdout",
     "output_type": "stream",
     "text": [
      "[10968, 2076] [680, 613]\n"
     ]
    }
   ],
   "source": [
    "NF_matches = [data[(data.fraud == False)&(data.country_match==True)].country_match.count(), data[(data.fraud == False)&(data.country_match==False)].country_match.count()]\n",
    "fraud_matches = [data[(data.fraud == True)&(data.country_match==True)].country_match.count(), data[(data.fraud == True)&(data.country_match==False)].country_match.count()]\n",
    "\n",
    "print(NF_matches, fraud_matches)"
   ]
  },
  {
   "cell_type": "code",
   "execution_count": 31,
   "metadata": {},
   "outputs": [
    {
     "data": {
      "image/png": "[encoded data removed]",
      "text/plain": [
       "<Figure size 432x288 with 1 Axes>"
      ]
     },
     "metadata": {
      "needs_background": "light"
     },
     "output_type": "display_data"
    }
   ],
   "source": [
    "xindex = ['Match', 'Not Match']\n",
    "xdf = pd.DataFrame({'Not Fraud': NF_matches,\n",
    "                         'Fraud': fraud_matches}, index = xindex)\n",
    "\n",
    "xdf.plot.bar(rot=0);"
   ]
  },
  {
   "cell_type": "markdown",
   "metadata": {},
   "source": [
    "### 6 — Length of Organization Description ('org_desc') "
   ]
  },
  {
   "cell_type": "code",
   "execution_count": 32,
   "metadata": {},
   "outputs": [],
   "source": [
    "### Create column for the length of entry in the organization description (org_desc) field. \n",
    "data['org_desc_len'] = data.org_desc.fillna('').str.len()"
   ]
  },
  {
   "cell_type": "code",
   "execution_count": 33,
   "metadata": {
    "scrolled": false
   },
   "outputs": [
    {
     "data": {
      "image/png": "[encoded data removed]",
      "text/plain": [
       "<Figure size 576x576 with 1 Axes>"
      ]
     },
     "metadata": {
      "needs_background": "light"
     },
     "output_type": "display_data"
    }
   ],
   "source": [
    "data.boxplot(column=['org_desc_len'], by='fraud', figsize=(8,8), showfliers=False);"
   ]
  },
  {
   "cell_type": "markdown",
   "metadata": {},
   "source": [
    "### 7 — Length of Venue Name "
   ]
  },
  {
   "cell_type": "code",
   "execution_count": 34,
   "metadata": {},
   "outputs": [],
   "source": [
    "### Create column for the length of entry in the venue_name field. \n",
    "data['venue_name_len'] = data['venue_name'].fillna('').str.len()"
   ]
  },
  {
   "cell_type": "code",
   "execution_count": 35,
   "metadata": {},
   "outputs": [
    {
     "data": {
      "image/png": "[encoded data removed]",
      "text/plain": [
       "<Figure size 576x576 with 1 Axes>"
      ]
     },
     "metadata": {
      "needs_background": "light"
     },
     "output_type": "display_data"
    }
   ],
   "source": [
    "data.boxplot(column=['venue_name_len'], by='fraud', figsize=(8,8), showfliers=False);"
   ]
  },
  {
   "cell_type": "markdown",
   "metadata": {},
   "source": [
    "### 8 — Length of Organization Name ('org_desc') "
   ]
  },
  {
   "cell_type": "code",
   "execution_count": 36,
   "metadata": {},
   "outputs": [],
   "source": [
    "data['org_name_len'] = data['org_name'].fillna('').str.len()"
   ]
  },
  {
   "cell_type": "code",
   "execution_count": 37,
   "metadata": {},
   "outputs": [
    {
     "data": {
      "image/png": "[encoded data removed]",
      "text/plain": [
       "<Figure size 576x576 with 1 Axes>"
      ]
     },
     "metadata": {
      "needs_background": "light"
     },
     "output_type": "display_data"
    }
   ],
   "source": [
    "data.boxplot(column=['org_name_len'], by='fraud', figsize=(8,8), showfliers=False);"
   ]
  },
  {
   "cell_type": "markdown",
   "metadata": {},
   "source": [
    "### 9 — Length of Payee Name ('payee_name') "
   ]
  },
  {
   "cell_type": "code",
   "execution_count": 38,
   "metadata": {},
   "outputs": [
    {
     "name": "stdout",
     "output_type": "stream",
     "text": [
      "21.38703527168732\n",
      "14.733333333333333\n"
     ]
    }
   ],
   "source": [
    "print(data[data.fraud == False].payee_name.str.len().mean())\n",
    "print(data[data.fraud == True].payee_name.str.len().mean())"
   ]
  },
  {
   "cell_type": "code",
   "execution_count": 39,
   "metadata": {},
   "outputs": [
    {
     "data": {
      "image/png": "[encoded data removed]",
      "text/plain": [
       "<Figure size 576x576 with 1 Axes>"
      ]
     },
     "metadata": {
      "needs_background": "light"
     },
     "output_type": "display_data"
    }
   ],
   "source": [
    "data['org_name_len'] = data['org_name'].fillna('').str.len()\n",
    "data.boxplot(column=['org_name_len'], by='fraud', figsize=(8,8), showfliers=False);"
   ]
  }
 ],
 "metadata": {
  "kernelspec": {
   "display_name": "Python 3",
   "language": "python",
   "name": "python3"
  },
  "language_info": {
   "codemirror_mode": {
    "name": "ipython",
    "version": 3
   },
   "file_extension": ".py",
   "mimetype": "text/x-python",
   "name": "python",
   "nbconvert_exporter": "python",
   "pygments_lexer": "ipython3",
   "version": "3.7.1"
  }
 },
 "nbformat": 4,
 "nbformat_minor": 2
}
